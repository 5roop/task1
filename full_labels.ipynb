{
 "cells": [
  {
   "cell_type": "markdown",
   "metadata": {},
   "source": [
    "# Simpletransformers"
   ]
  },
  {
   "cell_type": "code",
   "execution_count": 6,
   "metadata": {},
   "outputs": [
    {
     "name": "stderr",
     "output_type": "stream",
     "text": [
      "Some weights of the model checkpoint at roberta-base were not used when initializing RobertaForSequenceClassification: ['lm_head.decoder.weight', 'lm_head.dense.weight', 'lm_head.layer_norm.bias', 'lm_head.bias', 'lm_head.dense.bias', 'lm_head.layer_norm.weight']\n",
      "- This IS expected if you are initializing RobertaForSequenceClassification from the checkpoint of a model trained on another task or with another architecture (e.g. initializing a BertForSequenceClassification model from a BertForPreTraining model).\n",
      "- This IS NOT expected if you are initializing RobertaForSequenceClassification from the checkpoint of a model that you expect to be exactly identical (initializing a BertForSequenceClassification model from a BertForSequenceClassification model).\n",
      "Some weights of RobertaForSequenceClassification were not initialized from the model checkpoint at roberta-base and are newly initialized: ['classifier.out_proj.bias', 'classifier.out_proj.weight', 'classifier.dense.bias', 'classifier.dense.weight']\n",
      "You should probably TRAIN this model on a down-stream task to be able to use it for predictions and inference.\n"
     ]
    },
    {
     "data": {
      "application/vnd.jupyter.widget-view+json": {
       "model_id": "1c3aaff847e94e60b06527d5e482ec0c",
       "version_major": 2,
       "version_minor": 0
      },
      "text/plain": [
       "HBox(children=(FloatProgress(value=0.0, max=4819.0), HTML(value='')))"
      ]
     },
     "metadata": {},
     "output_type": "display_data"
    },
    {
     "name": "stdout",
     "output_type": "stream",
     "text": [
      "\n"
     ]
    },
    {
     "data": {
      "application/vnd.jupyter.widget-view+json": {
       "model_id": "75d9706003804144a9a4e7491ee84b61",
       "version_major": 2,
       "version_minor": 0
      },
      "text/plain": [
       "HBox(children=(FloatProgress(value=0.0, description='Epoch', max=5.0, style=ProgressStyle(description_width='i…"
      ]
     },
     "metadata": {},
     "output_type": "display_data"
    },
    {
     "data": {
      "application/vnd.jupyter.widget-view+json": {
       "model_id": "16b70a1621534442bf085227298fb030",
       "version_major": 2,
       "version_minor": 0
      },
      "text/plain": [
       "HBox(children=(FloatProgress(value=0.0, description='Running Epoch 0 of 5', max=121.0, style=ProgressStyle(des…"
      ]
     },
     "metadata": {},
     "output_type": "display_data"
    },
    {
     "name": "stdout",
     "output_type": "stream",
     "text": [
      "\n"
     ]
    },
    {
     "data": {
      "application/vnd.jupyter.widget-view+json": {
       "model_id": "0ad69d497dad4ce4a9f643a0955fa277",
       "version_major": 2,
       "version_minor": 0
      },
      "text/plain": [
       "HBox(children=(FloatProgress(value=0.0, description='Running Epoch 1 of 5', max=121.0, style=ProgressStyle(des…"
      ]
     },
     "metadata": {},
     "output_type": "display_data"
    },
    {
     "name": "stdout",
     "output_type": "stream",
     "text": [
      "\n"
     ]
    },
    {
     "data": {
      "application/vnd.jupyter.widget-view+json": {
       "model_id": "0c461f76003e41ee9fa519bb2466d3ba",
       "version_major": 2,
       "version_minor": 0
      },
      "text/plain": [
       "HBox(children=(FloatProgress(value=0.0, description='Running Epoch 2 of 5', max=121.0, style=ProgressStyle(des…"
      ]
     },
     "metadata": {},
     "output_type": "display_data"
    },
    {
     "name": "stdout",
     "output_type": "stream",
     "text": [
      "\n"
     ]
    },
    {
     "data": {
      "application/vnd.jupyter.widget-view+json": {
       "model_id": "4ae6742233fd45e59c34496e87a50f12",
       "version_major": 2,
       "version_minor": 0
      },
      "text/plain": [
       "HBox(children=(FloatProgress(value=0.0, description='Running Epoch 3 of 5', max=121.0, style=ProgressStyle(des…"
      ]
     },
     "metadata": {},
     "output_type": "display_data"
    },
    {
     "name": "stdout",
     "output_type": "stream",
     "text": [
      "\n"
     ]
    },
    {
     "data": {
      "application/vnd.jupyter.widget-view+json": {
       "model_id": "b44518ee6e484b3db33d25d36db9f400",
       "version_major": 2,
       "version_minor": 0
      },
      "text/plain": [
       "HBox(children=(FloatProgress(value=0.0, description='Running Epoch 4 of 5', max=121.0, style=ProgressStyle(des…"
      ]
     },
     "metadata": {},
     "output_type": "display_data"
    },
    {
     "name": "stdout",
     "output_type": "stream",
     "text": [
      "\n",
      "\n"
     ]
    },
    {
     "data": {
      "application/vnd.jupyter.widget-view+json": {
       "model_id": "286c2dd697394527ae84f61ce99b139b",
       "version_major": 2,
       "version_minor": 0
      },
      "text/plain": [
       "HBox(children=(FloatProgress(value=0.0, max=1017.0), HTML(value='')))"
      ]
     },
     "metadata": {},
     "output_type": "display_data"
    },
    {
     "name": "stdout",
     "output_type": "stream",
     "text": [
      "\n"
     ]
    },
    {
     "data": {
      "application/vnd.jupyter.widget-view+json": {
       "model_id": "be0a8d9bc1e04702b84ab09c83232b8a",
       "version_major": 2,
       "version_minor": 0
      },
      "text/plain": [
       "HBox(children=(FloatProgress(value=0.0, max=128.0), HTML(value='')))"
      ]
     },
     "metadata": {},
     "output_type": "display_data"
    },
    {
     "name": "stdout",
     "output_type": "stream",
     "text": [
      "\n"
     ]
    },
    {
     "name": "stderr",
     "output_type": "stream",
     "text": [
      "Some weights of the model checkpoint at roberta-base were not used when initializing RobertaForSequenceClassification: ['lm_head.decoder.weight', 'lm_head.dense.weight', 'lm_head.layer_norm.bias', 'lm_head.bias', 'lm_head.dense.bias', 'lm_head.layer_norm.weight']\n",
      "- This IS expected if you are initializing RobertaForSequenceClassification from the checkpoint of a model trained on another task or with another architecture (e.g. initializing a BertForSequenceClassification model from a BertForPreTraining model).\n",
      "- This IS NOT expected if you are initializing RobertaForSequenceClassification from the checkpoint of a model that you expect to be exactly identical (initializing a BertForSequenceClassification model from a BertForSequenceClassification model).\n",
      "Some weights of RobertaForSequenceClassification were not initialized from the model checkpoint at roberta-base and are newly initialized: ['classifier.out_proj.bias', 'classifier.out_proj.weight', 'classifier.dense.bias', 'classifier.dense.weight']\n",
      "You should probably TRAIN this model on a down-stream task to be able to use it for predictions and inference.\n"
     ]
    },
    {
     "data": {
      "application/vnd.jupyter.widget-view+json": {
       "model_id": "562db4fc96c744349684d6e5b6a55c8e",
       "version_major": 2,
       "version_minor": 0
      },
      "text/plain": [
       "HBox(children=(FloatProgress(value=0.0, max=2844.0), HTML(value='')))"
      ]
     },
     "metadata": {},
     "output_type": "display_data"
    },
    {
     "name": "stdout",
     "output_type": "stream",
     "text": [
      "\n"
     ]
    },
    {
     "data": {
      "application/vnd.jupyter.widget-view+json": {
       "model_id": "99ada08afd4e479f94df49ba71c1bd8e",
       "version_major": 2,
       "version_minor": 0
      },
      "text/plain": [
       "HBox(children=(FloatProgress(value=0.0, description='Epoch', max=5.0, style=ProgressStyle(description_width='i…"
      ]
     },
     "metadata": {},
     "output_type": "display_data"
    },
    {
     "data": {
      "application/vnd.jupyter.widget-view+json": {
       "model_id": "c5753bbffb574233b52b63fa693d346a",
       "version_major": 2,
       "version_minor": 0
      },
      "text/plain": [
       "HBox(children=(FloatProgress(value=0.0, description='Running Epoch 0 of 5', max=72.0, style=ProgressStyle(desc…"
      ]
     },
     "metadata": {},
     "output_type": "display_data"
    },
    {
     "name": "stdout",
     "output_type": "stream",
     "text": [
      "\n"
     ]
    },
    {
     "data": {
      "application/vnd.jupyter.widget-view+json": {
       "model_id": "8125e2bba2354836893ea37af5801397",
       "version_major": 2,
       "version_minor": 0
      },
      "text/plain": [
       "HBox(children=(FloatProgress(value=0.0, description='Running Epoch 1 of 5', max=72.0, style=ProgressStyle(desc…"
      ]
     },
     "metadata": {},
     "output_type": "display_data"
    },
    {
     "name": "stdout",
     "output_type": "stream",
     "text": [
      "\n"
     ]
    },
    {
     "data": {
      "application/vnd.jupyter.widget-view+json": {
       "model_id": "0a1b9bebc43a4d1885f3b8ae3f7d44d7",
       "version_major": 2,
       "version_minor": 0
      },
      "text/plain": [
       "HBox(children=(FloatProgress(value=0.0, description='Running Epoch 2 of 5', max=72.0, style=ProgressStyle(desc…"
      ]
     },
     "metadata": {},
     "output_type": "display_data"
    },
    {
     "name": "stdout",
     "output_type": "stream",
     "text": [
      "\n"
     ]
    },
    {
     "data": {
      "application/vnd.jupyter.widget-view+json": {
       "model_id": "4bc1b70c20414883aba4be4f855c110d",
       "version_major": 2,
       "version_minor": 0
      },
      "text/plain": [
       "HBox(children=(FloatProgress(value=0.0, description='Running Epoch 3 of 5', max=72.0, style=ProgressStyle(desc…"
      ]
     },
     "metadata": {},
     "output_type": "display_data"
    },
    {
     "name": "stdout",
     "output_type": "stream",
     "text": [
      "\n"
     ]
    },
    {
     "data": {
      "application/vnd.jupyter.widget-view+json": {
       "model_id": "94b5fc37fd85413d8c35325af7f657fc",
       "version_major": 2,
       "version_minor": 0
      },
      "text/plain": [
       "HBox(children=(FloatProgress(value=0.0, description='Running Epoch 4 of 5', max=72.0, style=ProgressStyle(desc…"
      ]
     },
     "metadata": {},
     "output_type": "display_data"
    },
    {
     "name": "stdout",
     "output_type": "stream",
     "text": [
      "\n",
      "\n"
     ]
    },
    {
     "data": {
      "application/vnd.jupyter.widget-view+json": {
       "model_id": "aee1d920b194482c8b2493400a80ef14",
       "version_major": 2,
       "version_minor": 0
      },
      "text/plain": [
       "HBox(children=(FloatProgress(value=0.0, max=900.0), HTML(value='')))"
      ]
     },
     "metadata": {},
     "output_type": "display_data"
    },
    {
     "name": "stdout",
     "output_type": "stream",
     "text": [
      "\n"
     ]
    },
    {
     "data": {
      "application/vnd.jupyter.widget-view+json": {
       "model_id": "34f128e9ce7e4da5883a7ebc3017985b",
       "version_major": 2,
       "version_minor": 0
      },
      "text/plain": [
       "HBox(children=(FloatProgress(value=0.0, max=113.0), HTML(value='')))"
      ]
     },
     "metadata": {},
     "output_type": "display_data"
    },
    {
     "name": "stdout",
     "output_type": "stream",
     "text": [
      "\n"
     ]
    },
    {
     "name": "stderr",
     "output_type": "stream",
     "text": [
      "Some weights of the model checkpoint at roberta-base were not used when initializing RobertaForSequenceClassification: ['lm_head.decoder.weight', 'lm_head.dense.weight', 'lm_head.layer_norm.bias', 'lm_head.bias', 'lm_head.dense.bias', 'lm_head.layer_norm.weight']\n",
      "- This IS expected if you are initializing RobertaForSequenceClassification from the checkpoint of a model trained on another task or with another architecture (e.g. initializing a BertForSequenceClassification model from a BertForPreTraining model).\n",
      "- This IS NOT expected if you are initializing RobertaForSequenceClassification from the checkpoint of a model that you expect to be exactly identical (initializing a BertForSequenceClassification model from a BertForSequenceClassification model).\n",
      "Some weights of RobertaForSequenceClassification were not initialized from the model checkpoint at roberta-base and are newly initialized: ['classifier.out_proj.bias', 'classifier.out_proj.weight', 'classifier.dense.bias', 'classifier.dense.weight']\n",
      "You should probably TRAIN this model on a down-stream task to be able to use it for predictions and inference.\n"
     ]
    },
    {
     "data": {
      "application/vnd.jupyter.widget-view+json": {
       "model_id": "e45fe5af47d341d9bf3d2c9082729a35",
       "version_major": 2,
       "version_minor": 0
      },
      "text/plain": [
       "HBox(children=(FloatProgress(value=0.0, max=4495.0), HTML(value='')))"
      ]
     },
     "metadata": {},
     "output_type": "display_data"
    },
    {
     "name": "stdout",
     "output_type": "stream",
     "text": [
      "\n"
     ]
    },
    {
     "data": {
      "application/vnd.jupyter.widget-view+json": {
       "model_id": "f92822257b414a1bb6f08e4c30f3cd73",
       "version_major": 2,
       "version_minor": 0
      },
      "text/plain": [
       "HBox(children=(FloatProgress(value=0.0, description='Epoch', max=5.0, style=ProgressStyle(description_width='i…"
      ]
     },
     "metadata": {},
     "output_type": "display_data"
    },
    {
     "data": {
      "application/vnd.jupyter.widget-view+json": {
       "model_id": "d9af1e64b4aa4d55a2991f055fd0f3c7",
       "version_major": 2,
       "version_minor": 0
      },
      "text/plain": [
       "HBox(children=(FloatProgress(value=0.0, description='Running Epoch 0 of 5', max=113.0, style=ProgressStyle(des…"
      ]
     },
     "metadata": {},
     "output_type": "display_data"
    },
    {
     "name": "stdout",
     "output_type": "stream",
     "text": [
      "\n"
     ]
    },
    {
     "data": {
      "application/vnd.jupyter.widget-view+json": {
       "model_id": "2ba6e5144cf84af2a74ef6a1d467d9ea",
       "version_major": 2,
       "version_minor": 0
      },
      "text/plain": [
       "HBox(children=(FloatProgress(value=0.0, description='Running Epoch 1 of 5', max=113.0, style=ProgressStyle(des…"
      ]
     },
     "metadata": {},
     "output_type": "display_data"
    },
    {
     "name": "stdout",
     "output_type": "stream",
     "text": [
      "\n"
     ]
    },
    {
     "data": {
      "application/vnd.jupyter.widget-view+json": {
       "model_id": "d7b966f7a7eb4fdc80695b18b7f93551",
       "version_major": 2,
       "version_minor": 0
      },
      "text/plain": [
       "HBox(children=(FloatProgress(value=0.0, description='Running Epoch 2 of 5', max=113.0, style=ProgressStyle(des…"
      ]
     },
     "metadata": {},
     "output_type": "display_data"
    },
    {
     "name": "stdout",
     "output_type": "stream",
     "text": [
      "\n"
     ]
    },
    {
     "data": {
      "application/vnd.jupyter.widget-view+json": {
       "model_id": "64135ee94f1a4dd383f35f51829c040d",
       "version_major": 2,
       "version_minor": 0
      },
      "text/plain": [
       "HBox(children=(FloatProgress(value=0.0, description='Running Epoch 3 of 5', max=113.0, style=ProgressStyle(des…"
      ]
     },
     "metadata": {},
     "output_type": "display_data"
    },
    {
     "name": "stdout",
     "output_type": "stream",
     "text": [
      "\n"
     ]
    },
    {
     "data": {
      "application/vnd.jupyter.widget-view+json": {
       "model_id": "a8b568e7b1de40959a61d8dc266b2cde",
       "version_major": 2,
       "version_minor": 0
      },
      "text/plain": [
       "HBox(children=(FloatProgress(value=0.0, description='Running Epoch 4 of 5', max=113.0, style=ProgressStyle(des…"
      ]
     },
     "metadata": {},
     "output_type": "display_data"
    },
    {
     "name": "stdout",
     "output_type": "stream",
     "text": [
      "\n",
      "\n"
     ]
    },
    {
     "data": {
      "application/vnd.jupyter.widget-view+json": {
       "model_id": "1ca67651849b4b94a207da3b00a6c5ec",
       "version_major": 2,
       "version_minor": 0
      },
      "text/plain": [
       "HBox(children=(FloatProgress(value=0.0, max=1142.0), HTML(value='')))"
      ]
     },
     "metadata": {},
     "output_type": "display_data"
    },
    {
     "name": "stdout",
     "output_type": "stream",
     "text": [
      "\n"
     ]
    },
    {
     "data": {
      "application/vnd.jupyter.widget-view+json": {
       "model_id": "d51df342e30f49969560ce8fa6cfd852",
       "version_major": 2,
       "version_minor": 0
      },
      "text/plain": [
       "HBox(children=(FloatProgress(value=0.0, max=143.0), HTML(value='')))"
      ]
     },
     "metadata": {},
     "output_type": "display_data"
    },
    {
     "name": "stdout",
     "output_type": "stream",
     "text": [
      "\n",
      "\n",
      "|  language | accuracy  |  f1 |\n",
      "|---|---|---|\n",
      "|en| 0.814 | 0.33 |\n",
      "|sl| 0.429 | 0.153 |\n",
      "|hr| 0.645 | 0.29 |\n"
     ]
    }
   ],
   "source": [
    "import pandas as pd\n",
    "import numpy as np\n",
    "import torch\n",
    "\n",
    "\n",
    "languages = [\"en\", \"sl\", \"hr\"]\n",
    "accuracies = dict()\n",
    "f1_scores = dict()\n",
    "\n",
    "\n",
    "def read_file(fname: str) -> pd.DataFrame:\n",
    "    df = pd.read_table(fname, sep=\"\\t\", header=None, names=\"text,labels,role\".split(\",\"))\n",
    "    #offensive_ids = df.labels != \"Acceptable speech\"\n",
    "\n",
    "    #df.labels[offensive_ids] = 1\n",
    "    #df.labels[~offensive_ids] = 0\n",
    "    def str_to_int(series):\n",
    "        all_labels = ['Background offensive', 'Acceptable speech', 'Other offensive',\n",
    "       'Background violence', 'Inappropriate', 'Other violence']\n",
    "        d = dict()\n",
    "        for i, l in enumerate(all_labels):\n",
    "            d[l] = i\n",
    "        return series.apply(lambda s: d[s])\n",
    "    df[\"labels\"] = str_to_int(df.labels)\n",
    "    df = df.drop(columns=[\"role\"])\n",
    "    return df\n",
    "\n",
    "for lang in languages:\n",
    "    train_fname = f\"../data/lgbt-{lang}.train.tsv\"\n",
    "    test_fname = f\"../data/lgbt-{lang}.test.tsv\"\n",
    "    \n",
    "    train = read_file(train_fname)\n",
    "    test = read_file(test_fname)\n",
    "    \n",
    "    from simpletransformers.classification import ClassificationModel\n",
    "\n",
    "    model_args = {\n",
    "        \"num_train_epochs\": 5,\n",
    "        \"learning_rate\": 1e-5,\n",
    "        \"overwrite_output_dir\": True,\n",
    "        \"train_batch_size\": 40,\n",
    "    }\n",
    "\n",
    "    model = ClassificationModel(\n",
    "        \"roberta\", \"roberta-base\", use_cuda=False,\n",
    "        args=model_args,\n",
    "        num_labels=6\n",
    "\n",
    "    )\n",
    "\n",
    "    model.overwrite_output_dir = True\n",
    "    model.train_model(train, )\n",
    "    from sklearn.metrics import accuracy_score, f1_score\n",
    "    y_true = test[\"labels\"]\n",
    "    y_pred = model.predict(list(test[\"text\"].values))[0]\n",
    "\n",
    "    accuracy = accuracy_score(y_true, y_pred)\n",
    "    accuracies[lang] = accuracy\n",
    "    f1 = f1_score(y_true, y_pred, average=\"macro\")\n",
    "    f1_scores[lang] = f1\n",
    "\n",
    "print(\"\"\"\n",
    "|  language | accuracy  |  f1 |\n",
    "|---|---|---|\"\"\")\n",
    "for lang in languages:\n",
    "    print(f\"|{lang}| {accuracies[lang]:0.3} | {f1_scores[lang]:0.3} |\")"
   ]
  },
  {
   "cell_type": "markdown",
   "metadata": {
    "jupyter": {
     "outputs_hidden": true
    }
   },
   "source": [
    "# Fasttext"
   ]
  },
  {
   "cell_type": "code",
   "execution_count": 23,
   "metadata": {},
   "outputs": [
    {
     "name": "stdout",
     "output_type": "stream",
     "text": [
      "Wrote data from ../data/lgbt-en.test.tsv to ../data/lgbt-en.test.tsvfasttext\n",
      "Wrote data from ../data/lgbt-en.train.tsv to ../data/lgbt-en.train.tsvfasttext\n",
      "Wrote data from ../data/lgbt-en.test.tsv to ../data/lgbt-en.test.tsvfasttext\n",
      "Wrote data from ../data/lgbt-sl.test.tsv to ../data/lgbt-sl.test.tsvfasttext\n",
      "Wrote data from ../data/lgbt-sl.train.tsv to ../data/lgbt-sl.train.tsvfasttext\n",
      "Wrote data from ../data/lgbt-sl.test.tsv to ../data/lgbt-sl.test.tsvfasttext\n",
      "Wrote data from ../data/lgbt-hr.test.tsv to ../data/lgbt-hr.test.tsvfasttext\n",
      "Wrote data from ../data/lgbt-hr.train.tsv to ../data/lgbt-hr.train.tsvfasttext\n",
      "Wrote data from ../data/lgbt-hr.test.tsv to ../data/lgbt-hr.test.tsvfasttext\n",
      "\n",
      "|  language | accuracy  |  f1 |\n",
      "|---|---|---|\n",
      "|en| 0.7050147492625368 | 0.22781099892926118 |\n",
      "|sl| 0.47 | 0.23323056764230118 |\n",
      "|hr| 0.6050788091068301 | 0.3491833127771309 |\n"
     ]
    }
   ],
   "source": [
    "def prepare_for_fasttext(fname):\n",
    "    df = pd.read_table(fname, sep=\"\\t\", header=None, names=\"text,labels,role\".split(\",\"))\n",
    "    #offensive_ids = df.labels != \"Acceptable speech\"\n",
    "\n",
    "    #df.labels[offensive_ids] = \"Offensive\"\n",
    "    #df.labels[~offensive_ids] = \"Acceptable\"\n",
    "\n",
    "\n",
    "    df[\"fasttextlabel\"] = df.labels.apply(lambda s: \"__label__\"+s.replace(\" \", \"_\") +\" \")\n",
    "    df[\"fasttext_all\"] = df.fasttextlabel + df.text\n",
    "    with open(fname+\"fasttext\", \"w\") as f:\n",
    "        for line in list(df.fasttext_all.values):\n",
    "            f.write(line+\"\\n\")\n",
    "    print(f\"Wrote data from {fname} to {fname+'fasttext'}\")\n",
    "    \n",
    "    return df\n",
    "\n",
    "languages = [\"en\", \"sl\", \"hr\"]\n",
    "accuracies = dict()\n",
    "f1_scores = dict()\n",
    "\n",
    "for lang in languages:\n",
    "    train_fname = f\"../data/lgbt-{lang}.train.tsv\"\n",
    "    test_fname = f\"../data/lgbt-{lang}.test.tsv\"\n",
    "    \n",
    "    prepare_for_fasttext(test_fname)\n",
    "    prepare_for_fasttext(train_fname)\n",
    "    import fasttext\n",
    "    model = fasttext.train_supervised(input=train_fname+\"fasttext\", epoch=1000, lr=0.05)\n",
    "\n",
    "\n",
    "    test = prepare_for_fasttext(test_fname)\n",
    "    y_pred = np.array(model.predict(list(test.text.values))[0]).reshape(-1).tolist()\n",
    "\n",
    "    from sklearn.metrics import accuracy_score, f1_score\n",
    "    y_true = test[\"fasttextlabel\"].apply(lambda s: s.split(\" \")[0]).values.tolist()\n",
    "\n",
    "    accuracy = accuracy_score(y_true, y_pred)\n",
    "    accuracies[lang] = accuracy\n",
    "    f1 = f1_score(y_true, y_pred, average=\"macro\")\n",
    "    f1_scores[lang] = f1\n",
    "\n",
    "\n",
    "print(\"\"\"\n",
    "|  language | accuracy  |  f1 |\n",
    "|---|---|---|\"\"\")\n",
    "for lang in languages:\n",
    "    print(f\"|{lang}| {accuracies[lang]} | {f1_scores[lang]} |\")"
   ]
  },
  {
   "cell_type": "markdown",
   "metadata": {},
   "source": [
    "# sklearn"
   ]
  },
  {
   "cell_type": "code",
   "execution_count": 31,
   "metadata": {},
   "outputs": [
    {
     "name": "stdout",
     "output_type": "stream",
     "text": [
      "\n",
      "|  language | accuracy  |  f1 |\n",
      "|---|---|---|\n",
      "|en| 0.7394296951819076 | 0.1711102220747723 |\n",
      "|sl| 0.43555555555555553 | 0.10962285904460795 |\n",
      "|hr| 0.6120840630472855 | 0.28993712690907253 |\n"
     ]
    }
   ],
   "source": [
    "languages = [\"en\", \"sl\", \"hr\"]\n",
    "accuracies = dict()\n",
    "f1_scores = dict()\n",
    "\n",
    "def read_file(fname: str) -> pd.DataFrame:\n",
    "\n",
    "    df = pd.read_table(fname, sep=\"\\t\", header=None, names=\"text,labels,role\".split(\",\"))\n",
    "    df = df.drop(columns=[\"role\"])\n",
    "    return df\n",
    "\n",
    "for lang in languages:\n",
    "    train_fname = f\"../data/lgbt-{lang}.train.tsv\"\n",
    "    test_fname = f\"../data/lgbt-{lang}.test.tsv\"\n",
    "    train = read_file(train_fname)\n",
    "    test = read_file(test_fname)\n",
    "\n",
    "    from sklearn.feature_extraction.text import CountVectorizer\n",
    "    count_vect = CountVectorizer(ngram_range=(1,3))\n",
    "    X_train_counts = count_vect.fit_transform(train.text.values)\n",
    "\n",
    "\n",
    "    from sklearn.feature_extraction.text import TfidfTransformer\n",
    "    tf_transformer = TfidfTransformer(use_idf=False).fit(X_train_counts)\n",
    "    X_train_tf = tf_transformer.transform(X_train_counts)\n",
    "\n",
    "    tfidf_transformer = TfidfTransformer()\n",
    "    X_train_tfidf = tfidf_transformer.fit_transform(X_train_counts)\n",
    "\n",
    "    from sklearn.svm import SVC\n",
    "\n",
    "\n",
    "    clf = SVC().fit(X=X_train_tfidf, y=train.labels)\n",
    "\n",
    "    docs_new = test.text.values.tolist()\n",
    "    X_new_counts = count_vect.transform(docs_new)\n",
    "    X_new_tfidf = tfidf_transformer.transform(X_new_counts)\n",
    "\n",
    "    predicted = clf.predict(X_new_tfidf)\n",
    "\n",
    "    from sklearn.metrics import accuracy_score, f1_score\n",
    "    y_true = test[\"labels\"]\n",
    "\n",
    "    accuracy = accuracy_score(y_true, predicted)\n",
    "    f1 = f1_score(y_true, predicted, average=\"macro\")\n",
    "    accuracies[lang] = accuracy\n",
    "    f1_scores[lang] = f1\n",
    "\n",
    "\n",
    "print(\"\"\"\n",
    "|  language | accuracy  |  f1 |\n",
    "|---|---|---|\"\"\")\n",
    "for lang in languages:\n",
    "    print(f\"|{lang}| {accuracies[lang]} | {f1_scores[lang]} |\")"
   ]
  },
  {
   "cell_type": "code",
   "execution_count": 3,
   "metadata": {},
   "outputs": [
    {
     "data": {
      "text/plain": [
       "array(['Background offensive', 'Acceptable speech', 'Other offensive',\n",
       "       'Background violence', 'Inappropriate', 'Other violence'],\n",
       "      dtype=object)"
      ]
     },
     "execution_count": 3,
     "metadata": {},
     "output_type": "execute_result"
    }
   ],
   "source": [
    "train.labels.unique()"
   ]
  },
  {
   "cell_type": "code",
   "execution_count": null,
   "metadata": {},
   "outputs": [],
   "source": []
  }
 ],
 "metadata": {
  "kernelspec": {
   "display_name": "Python 3",
   "language": "python",
   "name": "python3"
  },
  "language_info": {
   "codemirror_mode": {
    "name": "ipython",
    "version": 3
   },
   "file_extension": ".py",
   "mimetype": "text/x-python",
   "name": "python",
   "nbconvert_exporter": "python",
   "pygments_lexer": "ipython3",
   "version": "3.8.3"
  }
 },
 "nbformat": 4,
 "nbformat_minor": 4
}
