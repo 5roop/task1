{
 "cells": [
  {
   "cell_type": "markdown",
   "metadata": {},
   "source": [
    "# Simpletransformers"
   ]
  },
  {
   "cell_type": "code",
   "execution_count": 1,
   "metadata": {},
   "outputs": [],
   "source": [
    "import pandas as pd\n",
    "import numpy as np\n",
    "import torch\n",
    "\n",
    "train_fname = \"../data/lgbt-en.train.tsv\"\n",
    "test_fname = \"../data/lgbt-en.test.tsv\"\n",
    "\n",
    "def read_file(fname: str) -> pd.DataFrame:\n",
    "    \"\"\"Reads a filename and formats it properly for simpletransformers\"\"\"\n",
    "    df = pd.read_table(fname, sep=\"\\t\", header=None, names=\"text,labels,role\".split(\",\"))\n",
    "    offensive_ids = df.labels != \"Acceptable speech\"\n",
    "\n",
    "    df.labels[offensive_ids] = 1\n",
    "    df.labels[~offensive_ids] = 0\n",
    "    \n",
    "    df[\"labels\"] = df.labels.astype(np.int8)\n",
    "    df = df.drop(columns=[\"role\"])\n",
    "    return df\n",
    "\n",
    "\n",
    "train = read_file(train_fname)\n",
    "test = read_file(test_fname)"
   ]
  },
  {
   "cell_type": "code",
   "execution_count": 2,
   "metadata": {},
   "outputs": [
    {
     "name": "stderr",
     "output_type": "stream",
     "text": [
      "Some weights of the model checkpoint at roberta-base were not used when initializing RobertaForSequenceClassification: ['lm_head.layer_norm.bias', 'lm_head.layer_norm.weight', 'lm_head.decoder.weight', 'lm_head.dense.bias', 'lm_head.dense.weight', 'lm_head.bias']\n",
      "- This IS expected if you are initializing RobertaForSequenceClassification from the checkpoint of a model trained on another task or with another architecture (e.g. initializing a BertForSequenceClassification model from a BertForPreTraining model).\n",
      "- This IS NOT expected if you are initializing RobertaForSequenceClassification from the checkpoint of a model that you expect to be exactly identical (initializing a BertForSequenceClassification model from a BertForSequenceClassification model).\n",
      "Some weights of RobertaForSequenceClassification were not initialized from the model checkpoint at roberta-base and are newly initialized: ['classifier.out_proj.weight', 'classifier.out_proj.bias', 'classifier.dense.weight', 'classifier.dense.bias']\n",
      "You should probably TRAIN this model on a down-stream task to be able to use it for predictions and inference.\n"
     ]
    },
    {
     "data": {
      "application/vnd.jupyter.widget-view+json": {
       "model_id": "31500b0d88e14422adce4afb4ba49d2d",
       "version_major": 2,
       "version_minor": 0
      },
      "text/plain": [
       "HBox(children=(FloatProgress(value=0.0, max=4819.0), HTML(value='')))"
      ]
     },
     "metadata": {},
     "output_type": "display_data"
    },
    {
     "name": "stdout",
     "output_type": "stream",
     "text": [
      "\n"
     ]
    },
    {
     "data": {
      "application/vnd.jupyter.widget-view+json": {
       "model_id": "9513c20fe5a749bcad3b9abf90803a5a",
       "version_major": 2,
       "version_minor": 0
      },
      "text/plain": [
       "HBox(children=(FloatProgress(value=0.0, description='Epoch', max=5.0, style=ProgressStyle(description_width='i…"
      ]
     },
     "metadata": {},
     "output_type": "display_data"
    },
    {
     "data": {
      "application/vnd.jupyter.widget-view+json": {
       "model_id": "094e5537d6304229a98a9f15c57decbb",
       "version_major": 2,
       "version_minor": 0
      },
      "text/plain": [
       "HBox(children=(FloatProgress(value=0.0, description='Running Epoch 0 of 5', max=121.0, style=ProgressStyle(des…"
      ]
     },
     "metadata": {},
     "output_type": "display_data"
    },
    {
     "name": "stderr",
     "output_type": "stream",
     "text": [
      "/home/peterr/anaconda3/lib/python3.8/site-packages/simpletransformers/classification/classification_model.py:941: FutureWarning: Non-finite norm encountered in torch.nn.utils.clip_grad_norm_; continuing anyway. Note that the default behavior will change in a future release to error out if a non-finite total norm is encountered. At that point, setting error_if_nonfinite=false will be required to retain the old behavior.\n",
      "  torch.nn.utils.clip_grad_norm_(\n"
     ]
    },
    {
     "name": "stdout",
     "output_type": "stream",
     "text": [
      "\n"
     ]
    },
    {
     "data": {
      "application/vnd.jupyter.widget-view+json": {
       "model_id": "b27de374833b409ea73e9f601b3da1bf",
       "version_major": 2,
       "version_minor": 0
      },
      "text/plain": [
       "HBox(children=(FloatProgress(value=0.0, description='Running Epoch 1 of 5', max=121.0, style=ProgressStyle(des…"
      ]
     },
     "metadata": {},
     "output_type": "display_data"
    },
    {
     "name": "stdout",
     "output_type": "stream",
     "text": [
      "\n"
     ]
    },
    {
     "data": {
      "application/vnd.jupyter.widget-view+json": {
       "model_id": "434e8886a7bf4adab158b0efdf99b33c",
       "version_major": 2,
       "version_minor": 0
      },
      "text/plain": [
       "HBox(children=(FloatProgress(value=0.0, description='Running Epoch 2 of 5', max=121.0, style=ProgressStyle(des…"
      ]
     },
     "metadata": {},
     "output_type": "display_data"
    },
    {
     "name": "stdout",
     "output_type": "stream",
     "text": [
      "\n"
     ]
    },
    {
     "data": {
      "application/vnd.jupyter.widget-view+json": {
       "model_id": "13f5ab32ae9a49a288bbe477ba7d8054",
       "version_major": 2,
       "version_minor": 0
      },
      "text/plain": [
       "HBox(children=(FloatProgress(value=0.0, description='Running Epoch 3 of 5', max=121.0, style=ProgressStyle(des…"
      ]
     },
     "metadata": {},
     "output_type": "display_data"
    },
    {
     "name": "stdout",
     "output_type": "stream",
     "text": [
      "\n"
     ]
    },
    {
     "data": {
      "application/vnd.jupyter.widget-view+json": {
       "model_id": "af40c2369eca49fa870afe2d67dc2f2d",
       "version_major": 2,
       "version_minor": 0
      },
      "text/plain": [
       "HBox(children=(FloatProgress(value=0.0, description='Running Epoch 4 of 5', max=121.0, style=ProgressStyle(des…"
      ]
     },
     "metadata": {},
     "output_type": "display_data"
    },
    {
     "name": "stdout",
     "output_type": "stream",
     "text": [
      "\n",
      "\n"
     ]
    },
    {
     "data": {
      "application/vnd.jupyter.widget-view+json": {
       "model_id": "17f687346db44bdb9a9dbda81d147c31",
       "version_major": 2,
       "version_minor": 0
      },
      "text/plain": [
       "HBox(children=(FloatProgress(value=0.0, max=1017.0), HTML(value='')))"
      ]
     },
     "metadata": {},
     "output_type": "display_data"
    },
    {
     "name": "stdout",
     "output_type": "stream",
     "text": [
      "\n"
     ]
    },
    {
     "data": {
      "application/vnd.jupyter.widget-view+json": {
       "model_id": "7389c9a0dfae48208de0dc4ea3bb32d6",
       "version_major": 2,
       "version_minor": 0
      },
      "text/plain": [
       "HBox(children=(FloatProgress(value=0.0, description='Running Evaluation', max=128.0, style=ProgressStyle(descr…"
      ]
     },
     "metadata": {},
     "output_type": "display_data"
    },
    {
     "name": "stdout",
     "output_type": "stream",
     "text": [
      "\n",
      "({'mcc': 0.5917537810251161, 'tp': 180, 'tn': 678, 'fp': 62, 'fn': 97, 'auroc': 0.8883622792467558, 'auprc': 0.7867289171575443, 'eval_loss': 0.3954293243587017}, array([[ 1.68457031, -1.86621094],\n",
      "       [ 2.43554688, -2.44726562],\n",
      "       [ 0.55029297, -0.77636719],\n",
      "       ...,\n",
      "       [ 1.85546875, -1.91699219],\n",
      "       [-1.25390625,  1.21289062],\n",
      "       [ 1.66015625, -1.8671875 ]]), [])\n"
     ]
    },
    {
     "data": {
      "application/vnd.jupyter.widget-view+json": {
       "model_id": "113e0474951c49cc945cc3d2728e50a4",
       "version_major": 2,
       "version_minor": 0
      },
      "text/plain": [
       "HBox(children=(FloatProgress(value=0.0, max=1017.0), HTML(value='')))"
      ]
     },
     "metadata": {},
     "output_type": "display_data"
    },
    {
     "name": "stdout",
     "output_type": "stream",
     "text": [
      "\n"
     ]
    },
    {
     "data": {
      "application/vnd.jupyter.widget-view+json": {
       "model_id": "5901cdd843bc488094eda36ec8d6a534",
       "version_major": 2,
       "version_minor": 0
      },
      "text/plain": [
       "HBox(children=(FloatProgress(value=0.0, max=128.0), HTML(value='')))"
      ]
     },
     "metadata": {},
     "output_type": "display_data"
    },
    {
     "name": "stdout",
     "output_type": "stream",
     "text": [
      "\n",
      "Accuracy:  0.8436578171091446\n",
      "F1 score:  0.6936416184971097\n"
     ]
    }
   ],
   "source": [
    "%%time\n",
    "from simpletransformers.classification import ClassificationModel\n",
    "\n",
    "model_args = {\n",
    "    \"num_train_epochs\": 5,\n",
    "    \"learning_rate\": 1e-5,\n",
    "    \"overwrite_output_dir\": True,\n",
    "    \"train_batch_size\": 40\n",
    "}\n",
    "\n",
    "model = ClassificationModel(\n",
    "    \"roberta\", \"roberta-base\", use_cuda=True,\n",
    "    args=model_args\n",
    "    \n",
    ")\n",
    "\n",
    "model.overwrite_output_dir = True\n",
    "model.train_model(train, )\n",
    "\n",
    "print(model.eval_model(test))\n",
    "from sklearn.metrics import accuracy_score, f1_score\n",
    "y_true = test[\"labels\"]\n",
    "y_pred = model.predict(list(test[\"text\"].values))[0]\n",
    "\n",
    "accuracy = accuracy_score(y_true, y_pred)\n",
    "print(\"Accuracy: \", accuracy)\n",
    "f1 = f1_score(y_true, y_pred)\n",
    "print(\"F1 score: \", f1)"
   ]
  },
  {
   "cell_type": "markdown",
   "metadata": {},
   "source": [
    "## Slovenian"
   ]
  },
  {
   "cell_type": "code",
   "execution_count": 4,
   "metadata": {},
   "outputs": [
    {
     "name": "stderr",
     "output_type": "stream",
     "text": [
      "Some weights of the model checkpoint at roberta-base were not used when initializing RobertaForSequenceClassification: ['lm_head.layer_norm.bias', 'lm_head.layer_norm.weight', 'lm_head.decoder.weight', 'lm_head.dense.bias', 'lm_head.dense.weight', 'lm_head.bias']\n",
      "- This IS expected if you are initializing RobertaForSequenceClassification from the checkpoint of a model trained on another task or with another architecture (e.g. initializing a BertForSequenceClassification model from a BertForPreTraining model).\n",
      "- This IS NOT expected if you are initializing RobertaForSequenceClassification from the checkpoint of a model that you expect to be exactly identical (initializing a BertForSequenceClassification model from a BertForSequenceClassification model).\n",
      "Some weights of RobertaForSequenceClassification were not initialized from the model checkpoint at roberta-base and are newly initialized: ['classifier.out_proj.weight', 'classifier.out_proj.bias', 'classifier.dense.weight', 'classifier.dense.bias']\n",
      "You should probably TRAIN this model on a down-stream task to be able to use it for predictions and inference.\n"
     ]
    },
    {
     "data": {
      "application/vnd.jupyter.widget-view+json": {
       "model_id": "0992afd850a1498682c4a14776832e75",
       "version_major": 2,
       "version_minor": 0
      },
      "text/plain": [
       "HBox(children=(FloatProgress(value=0.0, max=2844.0), HTML(value='')))"
      ]
     },
     "metadata": {},
     "output_type": "display_data"
    },
    {
     "name": "stdout",
     "output_type": "stream",
     "text": [
      "\n"
     ]
    },
    {
     "data": {
      "application/vnd.jupyter.widget-view+json": {
       "model_id": "61b91be628764eeba81d4f312d0b5def",
       "version_major": 2,
       "version_minor": 0
      },
      "text/plain": [
       "HBox(children=(FloatProgress(value=0.0, description='Epoch', max=5.0, style=ProgressStyle(description_width='i…"
      ]
     },
     "metadata": {},
     "output_type": "display_data"
    },
    {
     "data": {
      "application/vnd.jupyter.widget-view+json": {
       "model_id": "8dc0d0aefe924214b0c9d19d99cfae02",
       "version_major": 2,
       "version_minor": 0
      },
      "text/plain": [
       "HBox(children=(FloatProgress(value=0.0, description='Running Epoch 0 of 5', max=72.0, style=ProgressStyle(desc…"
      ]
     },
     "metadata": {},
     "output_type": "display_data"
    },
    {
     "name": "stdout",
     "output_type": "stream",
     "text": [
      "\n"
     ]
    },
    {
     "data": {
      "application/vnd.jupyter.widget-view+json": {
       "model_id": "e27f739ca19b4549bafeaf17645d49f5",
       "version_major": 2,
       "version_minor": 0
      },
      "text/plain": [
       "HBox(children=(FloatProgress(value=0.0, description='Running Epoch 1 of 5', max=72.0, style=ProgressStyle(desc…"
      ]
     },
     "metadata": {},
     "output_type": "display_data"
    },
    {
     "name": "stdout",
     "output_type": "stream",
     "text": [
      "\n"
     ]
    },
    {
     "data": {
      "application/vnd.jupyter.widget-view+json": {
       "model_id": "cdc55c194dbd49deac031719f461259a",
       "version_major": 2,
       "version_minor": 0
      },
      "text/plain": [
       "HBox(children=(FloatProgress(value=0.0, description='Running Epoch 2 of 5', max=72.0, style=ProgressStyle(desc…"
      ]
     },
     "metadata": {},
     "output_type": "display_data"
    },
    {
     "name": "stdout",
     "output_type": "stream",
     "text": [
      "\n"
     ]
    },
    {
     "data": {
      "application/vnd.jupyter.widget-view+json": {
       "model_id": "13614e89d42e437aa2ae363fee6fb2fe",
       "version_major": 2,
       "version_minor": 0
      },
      "text/plain": [
       "HBox(children=(FloatProgress(value=0.0, description='Running Epoch 3 of 5', max=72.0, style=ProgressStyle(desc…"
      ]
     },
     "metadata": {},
     "output_type": "display_data"
    },
    {
     "name": "stdout",
     "output_type": "stream",
     "text": [
      "\n"
     ]
    },
    {
     "data": {
      "application/vnd.jupyter.widget-view+json": {
       "model_id": "13ac6db54b174a1fa578d482ec4bf333",
       "version_major": 2,
       "version_minor": 0
      },
      "text/plain": [
       "HBox(children=(FloatProgress(value=0.0, description='Running Epoch 4 of 5', max=72.0, style=ProgressStyle(desc…"
      ]
     },
     "metadata": {},
     "output_type": "display_data"
    },
    {
     "name": "stdout",
     "output_type": "stream",
     "text": [
      "\n",
      "\n"
     ]
    },
    {
     "data": {
      "application/vnd.jupyter.widget-view+json": {
       "model_id": "549f9f97d84140cdae4fe25da92d3d84",
       "version_major": 2,
       "version_minor": 0
      },
      "text/plain": [
       "HBox(children=(FloatProgress(value=0.0, max=900.0), HTML(value='')))"
      ]
     },
     "metadata": {},
     "output_type": "display_data"
    },
    {
     "name": "stdout",
     "output_type": "stream",
     "text": [
      "\n"
     ]
    },
    {
     "data": {
      "application/vnd.jupyter.widget-view+json": {
       "model_id": "4edc7064ff4c43efa1f0ff2b3c3ab987",
       "version_major": 2,
       "version_minor": 0
      },
      "text/plain": [
       "HBox(children=(FloatProgress(value=0.0, description='Running Evaluation', max=113.0, style=ProgressStyle(descr…"
      ]
     },
     "metadata": {},
     "output_type": "display_data"
    },
    {
     "name": "stdout",
     "output_type": "stream",
     "text": [
      "\n",
      "({'mcc': 0.21212251879575894, 'tp': 277, 'tn': 261, 'fp': 128, 'fn': 234, 'auroc': 0.6601024253064961, 'auprc': 0.7018209307587928, 'eval_loss': 0.7219902477433197}, array([[-0.41552734, -0.00978088],\n",
      "       [ 0.73535156, -0.83007812],\n",
      "       [-0.60546875,  0.28930664],\n",
      "       ...,\n",
      "       [-0.4597168 ,  0.08905029],\n",
      "       [-0.68798828,  0.55419922],\n",
      "       [ 0.31982422, -0.94628906]]), [])\n"
     ]
    },
    {
     "data": {
      "application/vnd.jupyter.widget-view+json": {
       "model_id": "5a0563ad865f417abcf7b2c17caee365",
       "version_major": 2,
       "version_minor": 0
      },
      "text/plain": [
       "HBox(children=(FloatProgress(value=0.0, max=900.0), HTML(value='')))"
      ]
     },
     "metadata": {},
     "output_type": "display_data"
    },
    {
     "name": "stdout",
     "output_type": "stream",
     "text": [
      "\n"
     ]
    },
    {
     "data": {
      "application/vnd.jupyter.widget-view+json": {
       "model_id": "470502ceef6d44a9a73c45ea3c4872e1",
       "version_major": 2,
       "version_minor": 0
      },
      "text/plain": [
       "HBox(children=(FloatProgress(value=0.0, max=113.0), HTML(value='')))"
      ]
     },
     "metadata": {},
     "output_type": "display_data"
    },
    {
     "name": "stdout",
     "output_type": "stream",
     "text": [
      "\n",
      "Accuracy:  0.5977777777777777\n",
      "F1 score:  0.6048034934497817\n",
      "CPU times: user 46.5 s, sys: 21.9 s, total: 1min 8s\n",
      "Wall time: 1min 8s\n"
     ]
    }
   ],
   "source": [
    "%%time\n",
    "train_fname = \"../data/lgbt-sl.train.tsv\"\n",
    "test_fname = \"../data/lgbt-sl.test.tsv\"\n",
    "\n",
    "train = read_file(train_fname)\n",
    "test = read_file(test_fname)\n",
    "\n",
    "\n",
    "model_args = {\n",
    "    \"num_train_epochs\": 5,\n",
    "    \"learning_rate\": 1e-5,\n",
    "    \"overwrite_output_dir\": True,\n",
    "    \"train_batch_size\": 40\n",
    "}\n",
    "\n",
    "model = ClassificationModel(\n",
    "    \"roberta\", \"roberta-base\", use_cuda=True,\n",
    "    args=model_args\n",
    "    \n",
    ")\n",
    "\n",
    "model.overwrite_output_dir = True\n",
    "model.train_model(train, )\n",
    "\n",
    "print(model.eval_model(test))\n",
    "from sklearn.metrics import accuracy_score, f1_score\n",
    "y_true = test[\"labels\"]\n",
    "y_pred = model.predict(list(test[\"text\"].values))[0]\n",
    "\n",
    "accuracy = accuracy_score(y_true, y_pred)\n",
    "print(\"Accuracy: \", accuracy)\n",
    "f1 = f1_score(y_true, y_pred)\n",
    "print(\"F1 score: \", f1)"
   ]
  },
  {
   "cell_type": "code",
   "execution_count": null,
   "metadata": {},
   "outputs": [],
   "source": []
  },
  {
   "cell_type": "markdown",
   "metadata": {},
   "source": [
    "## Croatian"
   ]
  },
  {
   "cell_type": "code",
   "execution_count": 5,
   "metadata": {},
   "outputs": [
    {
     "name": "stderr",
     "output_type": "stream",
     "text": [
      "Some weights of the model checkpoint at roberta-base were not used when initializing RobertaForSequenceClassification: ['lm_head.layer_norm.bias', 'lm_head.layer_norm.weight', 'lm_head.decoder.weight', 'lm_head.dense.bias', 'lm_head.dense.weight', 'lm_head.bias']\n",
      "- This IS expected if you are initializing RobertaForSequenceClassification from the checkpoint of a model trained on another task or with another architecture (e.g. initializing a BertForSequenceClassification model from a BertForPreTraining model).\n",
      "- This IS NOT expected if you are initializing RobertaForSequenceClassification from the checkpoint of a model that you expect to be exactly identical (initializing a BertForSequenceClassification model from a BertForSequenceClassification model).\n",
      "Some weights of RobertaForSequenceClassification were not initialized from the model checkpoint at roberta-base and are newly initialized: ['classifier.out_proj.weight', 'classifier.out_proj.bias', 'classifier.dense.weight', 'classifier.dense.bias']\n",
      "You should probably TRAIN this model on a down-stream task to be able to use it for predictions and inference.\n"
     ]
    },
    {
     "data": {
      "application/vnd.jupyter.widget-view+json": {
       "model_id": "bc5614e8f14342de9cf0357b61e0a13a",
       "version_major": 2,
       "version_minor": 0
      },
      "text/plain": [
       "HBox(children=(FloatProgress(value=0.0, max=4495.0), HTML(value='')))"
      ]
     },
     "metadata": {},
     "output_type": "display_data"
    },
    {
     "name": "stdout",
     "output_type": "stream",
     "text": [
      "\n"
     ]
    },
    {
     "data": {
      "application/vnd.jupyter.widget-view+json": {
       "model_id": "8592b0a1a07b4e2c9e4c092bd8f6666e",
       "version_major": 2,
       "version_minor": 0
      },
      "text/plain": [
       "HBox(children=(FloatProgress(value=0.0, description='Epoch', max=5.0, style=ProgressStyle(description_width='i…"
      ]
     },
     "metadata": {},
     "output_type": "display_data"
    },
    {
     "data": {
      "application/vnd.jupyter.widget-view+json": {
       "model_id": "6d948a38ec704bf9bfd952e6182dae4c",
       "version_major": 2,
       "version_minor": 0
      },
      "text/plain": [
       "HBox(children=(FloatProgress(value=0.0, description='Running Epoch 0 of 5', max=113.0, style=ProgressStyle(des…"
      ]
     },
     "metadata": {},
     "output_type": "display_data"
    },
    {
     "name": "stdout",
     "output_type": "stream",
     "text": [
      "\n"
     ]
    },
    {
     "data": {
      "application/vnd.jupyter.widget-view+json": {
       "model_id": "691863e1da7e40f8bb9274e5fd9091c0",
       "version_major": 2,
       "version_minor": 0
      },
      "text/plain": [
       "HBox(children=(FloatProgress(value=0.0, description='Running Epoch 1 of 5', max=113.0, style=ProgressStyle(des…"
      ]
     },
     "metadata": {},
     "output_type": "display_data"
    },
    {
     "name": "stdout",
     "output_type": "stream",
     "text": [
      "\n"
     ]
    },
    {
     "data": {
      "application/vnd.jupyter.widget-view+json": {
       "model_id": "fcd68f1478d24e9c8000172664a4f548",
       "version_major": 2,
       "version_minor": 0
      },
      "text/plain": [
       "HBox(children=(FloatProgress(value=0.0, description='Running Epoch 2 of 5', max=113.0, style=ProgressStyle(des…"
      ]
     },
     "metadata": {},
     "output_type": "display_data"
    },
    {
     "name": "stdout",
     "output_type": "stream",
     "text": [
      "\n"
     ]
    },
    {
     "data": {
      "application/vnd.jupyter.widget-view+json": {
       "model_id": "a336f0e4370643a8981e59b591f5adab",
       "version_major": 2,
       "version_minor": 0
      },
      "text/plain": [
       "HBox(children=(FloatProgress(value=0.0, description='Running Epoch 3 of 5', max=113.0, style=ProgressStyle(des…"
      ]
     },
     "metadata": {},
     "output_type": "display_data"
    },
    {
     "name": "stdout",
     "output_type": "stream",
     "text": [
      "\n"
     ]
    },
    {
     "data": {
      "application/vnd.jupyter.widget-view+json": {
       "model_id": "5d47f96b3c5749df9473e5ed72797fea",
       "version_major": 2,
       "version_minor": 0
      },
      "text/plain": [
       "HBox(children=(FloatProgress(value=0.0, description='Running Epoch 4 of 5', max=113.0, style=ProgressStyle(des…"
      ]
     },
     "metadata": {},
     "output_type": "display_data"
    },
    {
     "name": "stdout",
     "output_type": "stream",
     "text": [
      "\n",
      "\n"
     ]
    },
    {
     "data": {
      "application/vnd.jupyter.widget-view+json": {
       "model_id": "300dfc281d3143a5bebbe3e441ea140a",
       "version_major": 2,
       "version_minor": 0
      },
      "text/plain": [
       "HBox(children=(FloatProgress(value=0.0, max=1142.0), HTML(value='')))"
      ]
     },
     "metadata": {},
     "output_type": "display_data"
    },
    {
     "name": "stdout",
     "output_type": "stream",
     "text": [
      "\n"
     ]
    },
    {
     "data": {
      "application/vnd.jupyter.widget-view+json": {
       "model_id": "6c69a6fb490b4aaca31a983fdffab847",
       "version_major": 2,
       "version_minor": 0
      },
      "text/plain": [
       "HBox(children=(FloatProgress(value=0.0, description='Running Evaluation', max=143.0, style=ProgressStyle(descr…"
      ]
     },
     "metadata": {},
     "output_type": "display_data"
    },
    {
     "name": "stdout",
     "output_type": "stream",
     "text": [
      "\n",
      "({'mcc': 0.5104076264731185, 'tp': 629, 'tn': 262, 'fp': 136, 'fn': 115, 'auroc': 0.8396873480304751, 'auprc': 0.9017786613640991, 'eval_loss': 0.5006679700804757}, array([[ 1.5703125 , -1.86328125],\n",
      "       [-2.17578125,  1.86914062],\n",
      "       [-0.23706055,  0.10772705],\n",
      "       ...,\n",
      "       [-1.36425781,  1.35253906],\n",
      "       [-0.01015472,  0.04400635],\n",
      "       [ 1.47753906, -1.82324219]]), [])\n"
     ]
    },
    {
     "data": {
      "application/vnd.jupyter.widget-view+json": {
       "model_id": "155a6222c67c4ab8a7ea05950db5f5ef",
       "version_major": 2,
       "version_minor": 0
      },
      "text/plain": [
       "HBox(children=(FloatProgress(value=0.0, max=1142.0), HTML(value='')))"
      ]
     },
     "metadata": {},
     "output_type": "display_data"
    },
    {
     "name": "stdout",
     "output_type": "stream",
     "text": [
      "\n"
     ]
    },
    {
     "data": {
      "application/vnd.jupyter.widget-view+json": {
       "model_id": "fa27b448653944db9a0cb5be37e7535d",
       "version_major": 2,
       "version_minor": 0
      },
      "text/plain": [
       "HBox(children=(FloatProgress(value=0.0, max=143.0), HTML(value='')))"
      ]
     },
     "metadata": {},
     "output_type": "display_data"
    },
    {
     "name": "stdout",
     "output_type": "stream",
     "text": [
      "\n",
      "Accuracy:  0.7802101576182137\n",
      "F1 score:  0.8336646785950961\n",
      "CPU times: user 1min 7s, sys: 27.7 s, total: 1min 35s\n",
      "Wall time: 1min 35s\n"
     ]
    }
   ],
   "source": [
    "%%time\n",
    "train_fname = \"../data/lgbt-hr.train.tsv\"\n",
    "test_fname = \"../data/lgbt-hr.test.tsv\"\n",
    "\n",
    "train = read_file(train_fname)\n",
    "test = read_file(test_fname)\n",
    "\n",
    "\n",
    "model_args = {\n",
    "    \"num_train_epochs\": 5,\n",
    "    \"learning_rate\": 1e-5,\n",
    "    \"overwrite_output_dir\": True,\n",
    "    \"train_batch_size\": 40\n",
    "}\n",
    "\n",
    "model = ClassificationModel(\n",
    "    \"roberta\", \"roberta-base\", use_cuda=True,\n",
    "    args=model_args\n",
    "    \n",
    ")\n",
    "\n",
    "model.overwrite_output_dir = True\n",
    "model.train_model(train, )\n",
    "\n",
    "print(model.eval_model(test))\n",
    "from sklearn.metrics import accuracy_score, f1_score\n",
    "y_true = test[\"labels\"]\n",
    "y_pred = model.predict(list(test[\"text\"].values))[0]\n",
    "\n",
    "accuracy = accuracy_score(y_true, y_pred)\n",
    "print(\"Accuracy: \", accuracy)\n",
    "f1 = f1_score(y_true, y_pred)\n",
    "print(\"F1 score: \", f1)"
   ]
  },
  {
   "cell_type": "markdown",
   "metadata": {},
   "source": [
    "# \"sangrimlee/bert-base-multilingual-cased-nsmc\""
   ]
  },
  {
   "cell_type": "code",
   "execution_count": 2,
   "metadata": {},
   "outputs": [],
   "source": [
    "import pandas as pd\n",
    "import numpy as np\n",
    "import torch\n",
    "\n",
    "train_fname = \"../data/lgbt-en.train.tsv\"\n",
    "test_fname = \"../data/lgbt-en.test.tsv\"\n",
    "\n",
    "def read_file(fname: str) -> pd.DataFrame:\n",
    "    \"\"\"Reads a filename and formats it properly for simpletransformers\"\"\"\n",
    "    df = pd.read_table(fname, sep=\"\\t\", header=None, names=\"text,labels,role\".split(\",\"))\n",
    "    offensive_ids = df.labels != \"Acceptable speech\"\n",
    "\n",
    "    df.labels[offensive_ids] = 1\n",
    "    df.labels[~offensive_ids] = 0\n",
    "    \n",
    "    df[\"labels\"] = df.labels.astype(np.int8)\n",
    "    df = df.drop(columns=[\"role\"])\n",
    "    return df\n",
    "\n",
    "\n",
    "train = read_file(train_fname)\n",
    "test = read_file(test_fname)"
   ]
  },
  {
   "cell_type": "code",
   "execution_count": 3,
   "metadata": {},
   "outputs": [
    {
     "data": {
      "application/vnd.jupyter.widget-view+json": {
       "model_id": "929baf90341641aca28c59433e8ed6ee",
       "version_major": 2,
       "version_minor": 0
      },
      "text/plain": [
       "HBox(children=(FloatProgress(value=0.0, max=4819.0), HTML(value='')))"
      ]
     },
     "metadata": {},
     "output_type": "display_data"
    },
    {
     "name": "stdout",
     "output_type": "stream",
     "text": [
      "\n"
     ]
    },
    {
     "data": {
      "application/vnd.jupyter.widget-view+json": {
       "model_id": "0099c639d5c04ff5a476ce2ad2017707",
       "version_major": 2,
       "version_minor": 0
      },
      "text/plain": [
       "HBox(children=(FloatProgress(value=0.0, description='Epoch', max=5.0, style=ProgressStyle(description_width='i…"
      ]
     },
     "metadata": {},
     "output_type": "display_data"
    },
    {
     "data": {
      "application/vnd.jupyter.widget-view+json": {
       "model_id": "7e7eb06820e248be9599f5f5f3c9e819",
       "version_major": 2,
       "version_minor": 0
      },
      "text/plain": [
       "HBox(children=(FloatProgress(value=0.0, description='Running Epoch 0 of 5', max=121.0, style=ProgressStyle(des…"
      ]
     },
     "metadata": {},
     "output_type": "display_data"
    },
    {
     "name": "stdout",
     "output_type": "stream",
     "text": [
      "\n"
     ]
    },
    {
     "data": {
      "application/vnd.jupyter.widget-view+json": {
       "model_id": "2d1087ce68494d659130c03e2c003876",
       "version_major": 2,
       "version_minor": 0
      },
      "text/plain": [
       "HBox(children=(FloatProgress(value=0.0, description='Running Epoch 1 of 5', max=121.0, style=ProgressStyle(des…"
      ]
     },
     "metadata": {},
     "output_type": "display_data"
    },
    {
     "name": "stdout",
     "output_type": "stream",
     "text": [
      "\n"
     ]
    },
    {
     "data": {
      "application/vnd.jupyter.widget-view+json": {
       "model_id": "246dc188c92349ce867501ed657f3807",
       "version_major": 2,
       "version_minor": 0
      },
      "text/plain": [
       "HBox(children=(FloatProgress(value=0.0, description='Running Epoch 2 of 5', max=121.0, style=ProgressStyle(des…"
      ]
     },
     "metadata": {},
     "output_type": "display_data"
    },
    {
     "name": "stderr",
     "output_type": "stream",
     "text": [
      "/home/peterr/anaconda3/lib/python3.8/site-packages/simpletransformers/classification/classification_model.py:941: FutureWarning: Non-finite norm encountered in torch.nn.utils.clip_grad_norm_; continuing anyway. Note that the default behavior will change in a future release to error out if a non-finite total norm is encountered. At that point, setting error_if_nonfinite=false will be required to retain the old behavior.\n",
      "  torch.nn.utils.clip_grad_norm_(\n"
     ]
    },
    {
     "name": "stdout",
     "output_type": "stream",
     "text": [
      "\n"
     ]
    },
    {
     "data": {
      "application/vnd.jupyter.widget-view+json": {
       "model_id": "2409994ef20b456f9c7585ed4225549e",
       "version_major": 2,
       "version_minor": 0
      },
      "text/plain": [
       "HBox(children=(FloatProgress(value=0.0, description='Running Epoch 3 of 5', max=121.0, style=ProgressStyle(des…"
      ]
     },
     "metadata": {},
     "output_type": "display_data"
    },
    {
     "name": "stdout",
     "output_type": "stream",
     "text": [
      "\n"
     ]
    },
    {
     "data": {
      "application/vnd.jupyter.widget-view+json": {
       "model_id": "b8843b0b5ebd410fac4981ab1f2d1b21",
       "version_major": 2,
       "version_minor": 0
      },
      "text/plain": [
       "HBox(children=(FloatProgress(value=0.0, description='Running Epoch 4 of 5', max=121.0, style=ProgressStyle(des…"
      ]
     },
     "metadata": {},
     "output_type": "display_data"
    },
    {
     "name": "stdout",
     "output_type": "stream",
     "text": [
      "\n",
      "\n"
     ]
    },
    {
     "data": {
      "application/vnd.jupyter.widget-view+json": {
       "model_id": "dc8da07e17374a43bf1d129a64b3d33c",
       "version_major": 2,
       "version_minor": 0
      },
      "text/plain": [
       "HBox(children=(FloatProgress(value=0.0, max=1017.0), HTML(value='')))"
      ]
     },
     "metadata": {},
     "output_type": "display_data"
    },
    {
     "name": "stdout",
     "output_type": "stream",
     "text": [
      "\n"
     ]
    },
    {
     "data": {
      "application/vnd.jupyter.widget-view+json": {
       "model_id": "8c3552f6f1cd4ff793dbdd600350d4b1",
       "version_major": 2,
       "version_minor": 0
      },
      "text/plain": [
       "HBox(children=(FloatProgress(value=0.0, description='Running Evaluation', max=128.0, style=ProgressStyle(descr…"
      ]
     },
     "metadata": {},
     "output_type": "display_data"
    },
    {
     "name": "stdout",
     "output_type": "stream",
     "text": [
      "\n",
      "({'mcc': 0.45394849183062413, 'tp': 147, 'tn': 661, 'fp': 79, 'fn': 130, 'auroc': 0.8198653527173383, 'auprc': 0.6648347142606493, 'eval_loss': 0.5325278723612428}, array([[ 1.640625  , -1.56640625],\n",
      "       [ 2.69140625, -2.86523438],\n",
      "       [-0.31860352,  0.42211914],\n",
      "       ...,\n",
      "       [ 1.98632812, -2.06054688],\n",
      "       [-1.21484375,  1.14746094],\n",
      "       [ 1.5390625 , -1.72363281]]), [])\n"
     ]
    },
    {
     "data": {
      "application/vnd.jupyter.widget-view+json": {
       "model_id": "c06978fddd8d48a89a5fd3d03929d8e9",
       "version_major": 2,
       "version_minor": 0
      },
      "text/plain": [
       "HBox(children=(FloatProgress(value=0.0, max=1017.0), HTML(value='')))"
      ]
     },
     "metadata": {},
     "output_type": "display_data"
    },
    {
     "name": "stdout",
     "output_type": "stream",
     "text": [
      "\n"
     ]
    },
    {
     "data": {
      "application/vnd.jupyter.widget-view+json": {
       "model_id": "897ed1ec2df940a0be432640f7065451",
       "version_major": 2,
       "version_minor": 0
      },
      "text/plain": [
       "HBox(children=(FloatProgress(value=0.0, max=128.0), HTML(value='')))"
      ]
     },
     "metadata": {},
     "output_type": "display_data"
    },
    {
     "name": "stdout",
     "output_type": "stream",
     "text": [
      "\n",
      "Accuracy:  0.7944936086529006\n",
      "F1 score:  0.584493041749503\n",
      "CPU times: user 1min 21s, sys: 36.8 s, total: 1min 58s\n",
      "Wall time: 2min 5s\n"
     ]
    }
   ],
   "source": [
    "%%time\n",
    "from simpletransformers.classification import ClassificationModel\n",
    "\n",
    "model_args = {\n",
    "    \"num_train_epochs\": 5,\n",
    "    \"learning_rate\": 1e-5,\n",
    "    \"overwrite_output_dir\": True,\n",
    "    \"train_batch_size\": 40\n",
    "}\n",
    "\n",
    "model = ClassificationModel(\n",
    "    \"bert\", \"sangrimlee/bert-base-multilingual-cased-nsmc\", use_cuda=True,\n",
    "    args=model_args\n",
    "    \n",
    ")\n",
    "\n",
    "model.overwrite_output_dir = True\n",
    "model.train_model(train, )\n",
    "\n",
    "print(model.eval_model(test))\n",
    "from sklearn.metrics import accuracy_score, f1_score\n",
    "y_true = test[\"labels\"]\n",
    "y_pred = model.predict(list(test[\"text\"].values))[0]\n",
    "\n",
    "accuracy = accuracy_score(y_true, y_pred)\n",
    "print(\"Accuracy: \", accuracy)\n",
    "f1 = f1_score(y_true, y_pred)\n",
    "print(\"F1 score: \", f1)"
   ]
  },
  {
   "cell_type": "markdown",
   "metadata": {},
   "source": [
    "## Slovenian"
   ]
  },
  {
   "cell_type": "code",
   "execution_count": 4,
   "metadata": {},
   "outputs": [
    {
     "data": {
      "application/vnd.jupyter.widget-view+json": {
       "model_id": "d8b8ce1821414b5095c4a3ea8a4b3083",
       "version_major": 2,
       "version_minor": 0
      },
      "text/plain": [
       "HBox(children=(FloatProgress(value=0.0, max=2844.0), HTML(value='')))"
      ]
     },
     "metadata": {},
     "output_type": "display_data"
    },
    {
     "name": "stdout",
     "output_type": "stream",
     "text": [
      "\n"
     ]
    },
    {
     "data": {
      "application/vnd.jupyter.widget-view+json": {
       "model_id": "4ded77aea88a42fe8e8ded971ae5efca",
       "version_major": 2,
       "version_minor": 0
      },
      "text/plain": [
       "HBox(children=(FloatProgress(value=0.0, description='Epoch', max=5.0, style=ProgressStyle(description_width='i…"
      ]
     },
     "metadata": {},
     "output_type": "display_data"
    },
    {
     "data": {
      "application/vnd.jupyter.widget-view+json": {
       "model_id": "a057981bb54048dcaab13606ce427794",
       "version_major": 2,
       "version_minor": 0
      },
      "text/plain": [
       "HBox(children=(FloatProgress(value=0.0, description='Running Epoch 0 of 5', max=72.0, style=ProgressStyle(desc…"
      ]
     },
     "metadata": {},
     "output_type": "display_data"
    },
    {
     "name": "stdout",
     "output_type": "stream",
     "text": [
      "\n"
     ]
    },
    {
     "data": {
      "application/vnd.jupyter.widget-view+json": {
       "model_id": "f319407da2284b098052d20956a8e465",
       "version_major": 2,
       "version_minor": 0
      },
      "text/plain": [
       "HBox(children=(FloatProgress(value=0.0, description='Running Epoch 1 of 5', max=72.0, style=ProgressStyle(desc…"
      ]
     },
     "metadata": {},
     "output_type": "display_data"
    },
    {
     "name": "stdout",
     "output_type": "stream",
     "text": [
      "\n"
     ]
    },
    {
     "data": {
      "application/vnd.jupyter.widget-view+json": {
       "model_id": "3e7d0b3973b64b4ab3230b6279774b31",
       "version_major": 2,
       "version_minor": 0
      },
      "text/plain": [
       "HBox(children=(FloatProgress(value=0.0, description='Running Epoch 2 of 5', max=72.0, style=ProgressStyle(desc…"
      ]
     },
     "metadata": {},
     "output_type": "display_data"
    },
    {
     "name": "stdout",
     "output_type": "stream",
     "text": [
      "\n"
     ]
    },
    {
     "data": {
      "application/vnd.jupyter.widget-view+json": {
       "model_id": "8470bb97625e47f78441f2e9ef842be5",
       "version_major": 2,
       "version_minor": 0
      },
      "text/plain": [
       "HBox(children=(FloatProgress(value=0.0, description='Running Epoch 3 of 5', max=72.0, style=ProgressStyle(desc…"
      ]
     },
     "metadata": {},
     "output_type": "display_data"
    },
    {
     "name": "stdout",
     "output_type": "stream",
     "text": [
      "\n"
     ]
    },
    {
     "data": {
      "application/vnd.jupyter.widget-view+json": {
       "model_id": "d4974de501d546f0a4a420ad88b553fd",
       "version_major": 2,
       "version_minor": 0
      },
      "text/plain": [
       "HBox(children=(FloatProgress(value=0.0, description='Running Epoch 4 of 5', max=72.0, style=ProgressStyle(desc…"
      ]
     },
     "metadata": {},
     "output_type": "display_data"
    },
    {
     "name": "stdout",
     "output_type": "stream",
     "text": [
      "\n",
      "\n"
     ]
    },
    {
     "data": {
      "application/vnd.jupyter.widget-view+json": {
       "model_id": "281b47a21e904108a4945da88c2ffbbb",
       "version_major": 2,
       "version_minor": 0
      },
      "text/plain": [
       "HBox(children=(FloatProgress(value=0.0, max=900.0), HTML(value='')))"
      ]
     },
     "metadata": {},
     "output_type": "display_data"
    },
    {
     "name": "stdout",
     "output_type": "stream",
     "text": [
      "\n"
     ]
    },
    {
     "data": {
      "application/vnd.jupyter.widget-view+json": {
       "model_id": "f4ce8c534d164c9684730965b44bb083",
       "version_major": 2,
       "version_minor": 0
      },
      "text/plain": [
       "HBox(children=(FloatProgress(value=0.0, description='Running Evaluation', max=113.0, style=ProgressStyle(descr…"
      ]
     },
     "metadata": {},
     "output_type": "display_data"
    },
    {
     "name": "stdout",
     "output_type": "stream",
     "text": [
      "\n",
      "({'mcc': 0.32941565551096874, 'tp': 310, 'tn': 282, 'fp': 107, 'fn': 201, 'auroc': 0.7319787301475509, 'auprc': 0.7756147838560125, 'eval_loss': 0.7730572930479471}, array([[ 0.75537109, -0.97167969],\n",
      "       [-1.00878906,  0.87939453],\n",
      "       [-1.76269531,  1.63085938],\n",
      "       ...,\n",
      "       [ 0.52490234, -0.86767578],\n",
      "       [-1.01171875,  0.80761719],\n",
      "       [ 0.58056641, -1.03222656]]), [['Edina golazen trenutno tukaj si ti, me pa res zanima kdo se za tem fb profilom res skriva 🙄', 'KARLO KANTARE....', 'Pedri so lejzbike napadli, svašta😂', 'da bi biv na njegovem mesti, štrik pa pod jabko, čaooo !!', 'Če hoče biti ženska, prov , spremeni spol pa je to to. Ne pa da je ženska in moški, groza.Kako bodo starši majhnim otrokom razložil kaj predstavlja, maškaro , zbudite se. Nisem starokopitna , zadrgnjena pa ne vem kako me boste še poimenovali, samo vsak mora bit v eni koži ne v dveh :(', 'Muslimanska vira,sploh ni in ne bo priznana v Sloveniji.Gdo to piše je velika budala......', 'Določene ki na grd način izražate netoleranco istospolno usmerjenih bi lastnoročno kastriru in jajca vrgu mačkom!!', 'Primc nima casa je na dopustu s svojo druzino. Ujet v toplicah...', 'Katastrofa od katastrofe, pa kaj je to ono???', 'merda..naj si montira tica na celo.', 'Verjetno ne. Žal', 'Bravo!! Odlična pesem in dobro sporočilo: bodimo strpni do drugačnih!', 'Kaj pa kaj o Vatikanskem lobiju, ki je Slovenijo zadolžil? Katolibani molčijo. Zakon bo prišel skozi, ker nikomur nič ne jemlje, le razširja pravice. Srečno.', 'Bog, ali narava ga bo kaznovala in naredila tisto, kar Karhlek sploh ne pričakuje. Mislim pa, da VEST pri ljudeh nikoli ne zataji, pa to priznamo, ali ne! Enkrat zagotovo potrka, in tedaj je lahko posledica jok in škripanje z zobmi.', 'Poslušaj smrkavec.jaz sm se boril za to slovenijo in dal zaprisego da bom take picke k ti branu.kaj si ti naredu za svojo domovino.razn da zalis ljudi.', 'Vsak novec ima DVE strani!!!!!!!', 'V komentarjih marsikdo obtozuje, da smo zaostali ce nam ni vsec bradat moski/zenska. Jaz bi se na vasih mestih zamislila, zakaj gre denar v tako brezvezne šove... A ga ne bi raje namenili otroku in njegovi druzini, ki ga potrebuje za opreacijo noge?!?', 'zelo dobro odpel/a, ne bodite tako kritični!!!', 'Otroke posiljujejo vaši farji', '1. feb. 2013 - V Ljubljani na Zaloški cesti so neznanci na stavbi enega izmed diskontov napisali \"Kristjani - klali smo vas 1945 - klali vas bomo 2013\". en naj mi rece to pa ga zrihtam takoj..', 'Narobe svet (Verkerte Welt)', 'Tudi jaz mislim da nebi noben človek brez veze 20x zaštihal človeka.', 'Katastrofa....vsak ima svoje mnenje...nimam nic proti istospolno usmerjenim in svobodi do izrazanja...ampak vsaka stvar ima svojo mejo...in tole je krepko cez....ampak to je samo moje mnenje...', 'Hahahaha', 'Ta napis je bil \"u Fužinama\", tam kjer je integracija uspela 123,5 posto.', 'za bruhat', 'Bo imel\\\\a lepe otroke mali winer bo našminkan mala winerca pa bo mela brke in odrastla bosta v normalne osebe brez tezav:-) hehe', 'mislim da si nisi dobro prebral od gospoda spisa. V prvem ali drugem odstavku to pove da mu ni mar kaj počnejo med štirimi stenami, to meni ne zveni kot homofobija.', 's tem si tudi ti pokazal na vse tvoje zemljake, da ste res taki kot ste oziroma kdo ste in kaj ste in da ne morete iz svoje kože. In ni mi treba iti na google translate, ker obvladam več tujih jezikov kot ti.', 'No,comment..', 'TO JE NEKDO NAPISAL IN SE KAR NEKAKO STRINJAM PAC MOJE MNENJE Tkole nekak....zdj pa dosti...in preberte si dobr usi!!! Minulo nedeljo je kruta in nasilna smrt znanega igralca Gašperja Tiča šokirala kulturno srenjo in slovensko javnost. Toda igralčeva smrt je močno pretresla zlasti slovensko gejevsko sceno. To slednje so mediji javnosti spet zamolčali, čeprav je verjetno res, da številni, tudi novinarji, za \"dvojno življenje\" Gašperja Tiča niti niso vedeli. No, za novinarje je vedno dobro biti insajder. * Gašper Tič se je pred leti najprej odselil od soproge, prav tako ali pa še bolj popularne igralke Nataše Tič Ralijan in kasneje sta se medijska zvezdnika tudi ločila. Imata dva otroka. Nataša Tič Ralijan naj bi se ločila potem, ko je izvedela za vzporedno spolno življenje svojega partnerja in kmalu tudi hudo zbolela za tuberkulozo. Ko je premagala bolezen, je močno spremenila svoje življenje in med drugim postala veganka. Tisti, ki so priljubljeni igralski par poznali bolje, so že takrat pripovedovali, da je bil Gašper Tič do svoje žene Nataše občasno nasilen. Naši viri iz gejevske scene pa zdaj pripovedujejo, da so Gašperja že večkrat opozarjali, naj se izogiba \"nevarnih (pre)mladih fantov\". * Nasilna smrt igralca Gašperja Tiča žal v mnogočem spominja na zloglasno \"afero Baričevič\" ali pa, če hočete, na razvpiti umor slovitega italijanskega modnega kreatorja Giannija Versaceja v Miamiju na Floridi pred točno dvajsetimi leti. Tudi v primeru afere Baričevič je šlo za (še vedno) ne povsem pojasnjeno smrt člana slovenske družbene elite, smrt, neposredno povezano s spolnostjo, in delnim molkom medijev. In tudi v primeru smrti Gašperja Tiča je še vse zelo nejasno: ali je šlo za brutalni umor ali pa za posilstvo in na koncu (prekoračeni) silobran. * Tudi zdaj, ob smrti Gašperja Tiča, večinski mediji zadržujejo (cenzurirajo) del informacij, povezan z dvojnim življenjem igralca, čeprav je že vsakomur jasno, da ga je prav dvojno življenje prignalo na rob smrti, in čeprav gre za policijske informacije, torej informacije pristojnih državnih organov?! Novinarji časopisa Večer, denimo, podobno kot pri Magni Steyr celo vsebinsko spreminjajo izjave akterjev nedeljske nočne drame in smrti sredi stanovanja na Trubarjevi ulici v Ljubljani. Čeprav je iz policijskih virov prišla izjava storilca Stefana Cakića, da ga je Gašper Tič silil v spolni odnos in mu grozil z nožem in da ga je zabodel, ker se je branil, so na Večeru, pazite, zapisali, citiramo, da se Cakić \"ni strinjal z nekaterimi predlogi\" (?!) ubitega igralca. Neverjetno, skoraj noro, kot da bi poročali iz nekega rutinskega dopoldanskega sestanka med dvema uradnikoma. Sramota za novinarstvo. * Večina medijev tudi cenzurira informacije iz policijskih virov (vključno z zaklepanjem komentarjev, medtem ko družbena omrežja vrvijo), da naj bi bil Cakić pod vplivom GHB, popularno imenovanega \"droga za posilstvo\" (čeprav policija sama tega ne zanika) in da naj bi omamljenega Cakića znani igralec spolno zlorabil. Obratno pa poročajo čisto vse, do zadnjih podrobnosti, češ, Cakić naj bi Tiča zabodel enajstkrat, in mediji se tudi niso nič ženirali, da so takoj, že nekaj ur po dogodku, objavili polno ime in priimek \"brutalnega morilca\", pa čeprav gre za 20-letnega fanta. Večinsko medijsko poročanje gre namreč v smeri obrambe \"lika in dela\" Gašperja Tiča, člana družbene elite, slovenske visoke družbe. * Vendar pa niti 20-letni Stefan Cakić, ki je samo nekaj let starejši od obeh Tičevih otrok, ni nek \"navadni uličar\". Je športnik, nadarjeni vratar nogometnega kluba Radomlje, prej je igral za Pečečnikov Interblock in je aktivist društva Mladi zmaji. Tako je skupaj s predsednikom državnega zbora Milanom Brglezom in ljubljanskim županom Zoranom Jankovićem pred dvema mesecema slavnostno odprl prostore društva Čamac, o čemer je poročalo tudi Delo. Po nekaterih drugih informacijah pa naj bi se Stefan Cakić po Ljubljani ukvarjal s preprodajo drog. KAJ MORAMO ZAHTEVATI OD MEDIJEV? NAJ NIČESAR NE ZAMOLČIJO! Med novinarji pa spet verbalne debate o tem, ali je pravilno, celo moralno, da se o tem poroča, ali ne? Cirkus delajo celo tisti mediji, ki so pred enim letom, spomnimo, nesrečnega mariborskega ravnatelja \"žgali na polno\" in vedno poročajo, ko gre za tuje slavne osebnosti. Že videna dvoličnost, deja vu, že dolgočasno. Pogled na rubriko \"Najbolj brano\" (vir: Najdi.si) pa nam pokaže, da so javnost včeraj najbolj zanimale podrobnosti oziroma okoliščine smrti Gašperja Tiča, ne pa napoved razglasitve sodbe arbitražnega sodišča v Haagu, Magna Steyr ali 2. tir. To je vsa (medijska) realnost. Od novinarjev in medijev pa moramo zahtevati samo eno, to je - da ničesar ne zamolčijo!!!', 'slika je 1 razlog več zakaj ne gledam evrovizijie', 'Haaaaa Rebeka ti si f*****a pa v drugo smer :) :)', 'Naslednji referendum pa ukinitev financiranja RKC. In tudi njihovih šol. Kaj pravite, katolibani?', 'pa saj ravno to je to. Kdo drug bo zagovarjal tako morilsko drhal, če ne njegov ZEMLJAK?', 'pa kaj je sploh baba,ali ded,ali kak marsovec?', 'Torej ce prav razumem, heteroseksualec se nima kaj druzit ali clo it recimo na kavo k homoseksualcu, zanimivo heh.', 'Bedaki', 'Ta se briga samo za svoj žep ! Upokojenci so vsej vladi zadnja briga !', 'Enakosti??? Kakšne enakosti?', 'Čujte pametnjakoviči levičarski ?! A bi v primeru, da bi bilo obratno, - če bi Tič zaštihal Cakića, da bi ta posledično umrl, - ravno tako ščitili Cakiča kot Sedaj Tiča??? Ma dajte no dvoličneži. Svoje ščitite do nezavesti za ostale pa se vam kratko malo jebe. In v tem je problem levičarska dvoličnost slovenceljnov, ki bi za prgišče evrov, ki jih tako ali tako dobite podarjene prodala še lastno mater. Poglejte samo komentarje, kakšne pišete tukaj. Nekdo nekoga najprej omami, ga poskuša posilit in ..., pa je vse OK zato, ker je vaš. Če pa se žrtev brani in pri tem poškoduje napadalca pa magari zaradi tega napadalec umre, pa je vse narobe. Torej pustimo teroriste, dajmo jim orožje, oni pa se naj veselo razstreljujejo in ubijajo vse pred seboj. Ob taki podpori pedrov in dvoličnosti levičarskih medijev, bomo Krivi itak mi, ki bomo slučajno kerega v samoobrambi ustavili. Pa kje vi živite kekci?!', 'Boštjan Vernik je poročen Šetinc. Vsaj to bi lahko preverili.', 'dejte eni imat ekomentarje ...kar vi nebi mogl pa take...zelo malo je pohval glede pojave...je pa res pac drugo leto poslaLI gor damjana murka pa je to to :D PA BOMO ZMAGAL :p', 'on/ona ni homič al pa transvestit .... ampak je ladyboy/shemale .....in to je velikanska razlika ......vidm da nekateri še vedn se bojite drugačnosti....še 1x povem evrosong ni lepotno tekmovanje ampak pevsko in ocenjuje se glas in ne stas ..... mi pa gre že na živce kako pluvate po človeku ki je pač drugačen .....ki priznava to drugačnost in se ne boji ....in to je najpomembneje da poveš kaj si in gdo si in te tega ni sram. zato ljudje lepo prosim da nehate pljuvat po drugačnih ljudeh ....samo očitno kot berem razne komentarje smo še vedno primitivni in neumni .....kar je pa res žalostno....zasluženo je zmagala/u', 'Seveda jim ne bo uspelo; v srednjem veku živi cca. 15 % Slovencev.', 'Ketty Yaiche', 'so mi vladali beli in rdeči, pa mislim da še tudi pink barve,pa sem moral delati za svojo plačo. Vse vlade so mi samo jemale. nNobena ne da delovnih mest,kateri hoče delati si sam najde delo.', 'Spizdite...klovni', 'Naj se sramujejooooo', 'tebi bi pa bilo nujno ...', 'Tema', 'če pa poglej prejšnje komentare....tu folk piše kak je to sramota pa sem pa tja....pa kaka sramota?! ded je pač mel pogum da je to naredo! marsikdo za to ne bi mel poguma!', 'Ja a vidis kaki so to primitivci.🤔', 'Haha tebe je tud en zgleda..pedocon', 'BOLANOOOOOO', 'A zdaj pa ga naj pustimo...prej pa smo ga gledali kako je glumil družinskega človeka....Takrat pa je bil super in vsi smo lahko govorili o njem...Prokleti dvoličnež...', 'fak kam gre ta evrovizija pol pa pride en tak ko se nardi mal prfukjenga pa zmaga', 'sj to pravim', 'Nev3š kaj pišeš! Potrebujemo TREZNO GLAVO in VSTAJO !!!', 'cirkus', 'Ja kaj čmo,,,zdaj smo jezni ker nikamor ne pridemo,vendar to je vse politika,,,poba pa je pač nekaj\"x#,naša pesem je bila dobra,kot marsikatera druga,ne smemo pa ocenjevat po videzu,se ne spodobi', 'Kada decu u skoli uce da je rat nesto ok odbrana drzave i sl onda je to ok. 🔫😞 licemerstvu nikad kraja⛔', 'ti komentarji samo prikazujejo retardiranost posameznikov...sram naj vas bo...ali je moški, ženska nima veze...je človek. ne morem verjeti kakšni bedaki so nekateri ljudje...če bi lahko bi vsakemu oči ven skopali...itn....dajte malo oči odpret pa kakšno knjigo prebrat pa se vam bo mogoče umska moč izboljšala....brigajte se raje zase...tudi vi ste daleč od popolnega...bedaki.', 'manjka mu/ji samo še trnova krona pa je KRISTUS', 'Jaz pa nimam še mnenja o tem, tko na prvi met bi rekla, da vse tist, k je naravno.', 'Luka Aber Slovenski', 'Ti si prava umetnost. .', 'Eden največjih prascev si ti bo treba svinjsko glavo na vrat obesit budala fukjena.', 'mrš u tri pizde matrne', 'Pa naj se odloci kaj bo al baba al ded ne pa oboje', 'Mogoce je pa Erjavec tud gej .', 'Jebiga.. kaj pa ko je slovenija poslala sestre na evrovizijo... tko pac je :)', 'Takole so razglabljali v vojni kdo bo koga', 'Tudi kučan je veliko kriv in še zdaj se trudi za lepo podobo', 'ocitno se ljudje se niste naucili privoscit srece drugim... in ce je drugacn? zivimo v 21. stoletju, loh bi sprejemal drugacnost... kaj ce bi bli vasi otroki taksni, al pa brat/ sestra, kaj bi pol rekli? bi se kr kritizeral?', 'Zihr bo spet en duševno moten. Ampak to potrdi, da so vsi muslići duševno degenerirani stvori in ne ljudje.', 'Sej ravno zato ker je to glasbeno tekmovanje je bila pa naša predzadnja ane?', 'Ogabno,idiotsko,homofobno,nepreverjeno,brez dokazov,in se kaj porocevanje... Cisto pricakovano od jansovih. Se dobro da ste edini medij ki si izmislja take ogabnosti. Zal mi je le druzine in svojcev pokojnega.', 'Tipičen gay v zanikanju', 'Pa kaj vam je? Kakšno sporočilo vidite v tem? Kako z dneva v dan postajamo bolj glupi?! Tista življenska sporočila, ki vam trkajo vsak dan na vrata pa vas ne ganejo.....OK umetnik in njegovo prepričanje ter njegov \"protest\" proti nestrpnosti...ampak lahko bi se boril za to tudi na drugačen način!', 'Pa ja. Thomas Neuwirth je pač s preoblačenjem naredil biznis. Če bi Tinkara odpela gola, bi se tudi višje uvrstili. Vseeno pa ji vsa čast za izjemen pevski nastop.', '👏👏👏👏👏', 'Macka zacvili ko ji stopis na rep 😂😂😂😂', 'ja samo očitno je to za nekatere tabu in ah in oh....sam če pogledamo.....drugačnost ne pomeni nujno slabo.....s s to brado je on vrjetno itak vedo da bo sprožo ful neodobravanja pa kritik,samo je pa hkrati pokazal na to da istospolnost še zdaleč ni tak slabo sprejemana kot pa neka druga navzven izražena lastnost', 'Kaki komentarji so to? Zemlja se vrti v napačno smer...', 'Ce bo uspelo. Upam, da jim ne rata. Druzba se modernizira in napreduje in tako tudi istospolne zveze in se bi lahko nasteval. Le slovenceljni se bojimo lastnih senc in razlik, drugacnosti.', 'DRUŠTVO NOVINARJEV IN PUBLICISTOV JE VEDNO BLIŽE RESNICI, KER NIMA VGRAJENE PREDNOSTI! VSAK PA SI NAJ ODGOVORI, V KATERIH MEDIJIH SE NAJVEČ ZAMOLČI ! BINGO !🇸🇮', 'Glorya Glory mi je v cast Kolko crvov ti po glavi plazi?!', 'Lahko samo bruhnem!!!!!!!!', 'Da nismo homofobi moramo finasirat LGBT populacijo? Kdo pa mene financira za mojo spolno orientacijo? Nihce. Torej imajo vsi fobijo do moje orientacije? Res je... asshole je pravšnja beseda za tiste, ki obsojajo homofobije vsakega ki bi davkoplačevalski danar smiselno uporabljali.', 'Bedak', 'glas pedera', 'ne vem, če seštejemo stalina, polpota,kitajce in sevrnokorejce, mislim da prekosijo cerkev', 'Mislim, da se o Gašperju Tiču piše absolutno preveč. On ni zame nič posebnega in je le nek človek, kot toliko drugih, ki so končali tako nasilno, vendar se o njih toliko ne piše! Koliko je kdo naredil za Slovensko kulturo, je tudi relativen pojem! Zgolj delo, ki se plača! Je pa vsaka takšna nasilna smrt tragična ! Torej o mrtvih samo vse dobro in lepo, saj se ne morejo braniti!', 'cepci ni problem v videzu ampak v samem glasovanju in kvaliteti pesmi za dejana primitivca', 'Ljudje. A se še spomnite risanke Charlie Brown - v slabem prevodu Karel Erjavec? :) https://www.youtube.com/watch?v=xxpMOaDuv5o', 'direkt za krematorij!!!', 'Aleks Aleks z to izjavo si pokazal svoj obraz hvala.', 'Ja groza', \"Istospolna usmerjenost ni ''normalna'',tako kot ni normalno,da človek verjame v obstoj nečesa kar ni dokazljivo (obstoj raznoraznih božanskih bitij).Imam pa občutek,da bi 90% moške populacije šlo v posteljo z dvema luštnima gospodičnama :)\", '.kdo je koga posilil ali omamil???Nekaj si prebral in zdaj si najpametnejši.Kaj pa če je bilo obratno...namreč umrli se ne more braniti,Cakić(po vsej verjetnosti,tvoj zemljak) pa je izurjeni morilec in homoseksualec.', 'primitivna vera in kultura ki nima kaj iskati v evropi, samo brc in šus iz evrope !', 'https://youtu.be/mxBmA-kfGms', 'Men je smešno kako prepričljivo se tip obnaša kot kaka diva; da mnogi sploh ne ugotovijo da je moški :) čeprav se mi zdi čist nelogično kako bi ženska lahko imela brado', 'upam da veste kaj pišete... ogabni ste!', 'ja sej lej... muzika ni nevem kaj je res ampak lej vsak ma pravico bit taksen kekrsen zeli biti!!', 'so spet dobili od vlade 50.000 tisoč čisto zapravljanje', 'pravi jodlar direktno za skurit', 'Meni je vsec skladba....pa tudi izvajalec je car....', 'Boris, kaj pa pol gledas novo tv, gledaj dzihadisticne tv. Pa bos srecen in vesel v svojem svetu zivel', 'Že dolgo govorim da je ta svet postal čuden.Kam to pelje ...ne vem .Morda je to v zraku....Popolna norija vsepovsod ....Strah me je tega sveta in vsega kar se dogaja .Kje so časi mojega otroštva ??????', 'Kaj ti si tudi eden totih ,da jih tako zagovarjaš ?', 'Nikoli ker M.Kučan tega ne dovoli', 'jaz si želim da se slovenija zgleduje po češki,slovaški,naši sosedi madžarski, kakšna kanada, kanada je multikulti drek drek', 'sramota', 'Pizda ste eni res bolj sveti od same marije terezije.. ce je to prava pot do neke normalne meje sprejemljivega.. smo ocitno ze davno krenli s poti... in ko bojo vase hcere hotle tako brado.. upam da jim ne boste oporekali.. :)', 'Nabiranje volilnih glasov? Zakaj sploh opozarjajo na intimna nagnjenja? Narava je ustvarila življenje toda istospolni zakoni pomenijo zanikanje nadaljevanja vrste.', 'Sara prav mas', 'in ja borijo se za strpnost? da bi pa kej okrepal o izžvižganju ruskih dvojčic . to pa ne :) mal je vse skp dvolično!', 'Boge nedolžne ovčke muslimani. To,da pobijejo kupe nedolžnih ljudi v imenu Alaha in posiljujejo mladoletne. To je pa vse nedolžno. Alah=Jahve=Joshua....Bog je eden. Ko slušiš v imenu Alaha sem pobil ljudi....', 'Lej ga zagovornika ispirjencev', 'Uboga zemlja,kaj vse mora nosit', 'Kako je butasto brati neke nedorasle komentarje...ker imam sama dva otroka,parcek,kot mama gledam na take stvari cisto normalno,saj lahko vsakega izmed nas doleti kaj takega...in tudi sama pesem je odlicna,poslusajte besedilo...sicer pa,zakaj zaboga ste gledal evrosong?...imate se sigurno 100drugih programov :-)', 'O pa še kako si je zaslužil-la zmago. Odpeto je bilo perfektno. Je pa res, da naša Slovenska nevoščljivost to težko prenese. Predvajajte si posnetek preko slušalk in zaprite oči, pa boste slišali prefekcijo.To je bil izbor za pesem evrovizije in ne lepotno tekmovanje....Poslušajte še enkrat....', 'če si moški bodi moški, če si paženska pa bodi ženska, temu so rekli stari ljudje zmen!', 'Pa kaj misliš da bo to delal. Ve se kaj so njegove naloge. Za tak položaj je preveč opredeljen😜', 'Sicer nisem navdušen nad tem novodobnim liberalnim sranjem in eurovizije sploh ne gledam, ampak glede na to kako se ljudje zgražajo zarad te osebe , je preprosto bedno. Nej bo kar hoče bit oz. kar sama/sam čut, da je. Vsi k druge pluvajo majo ponavad tut sami mal problemov pri svojem osebnem razvoju. Sebastian, kar je prav za te ljudi oni sami najbolje vedo.', 'Ja enemu mojemu kolegu pa za 3 mesece baje, ker je za dva dohtarja napisal, da sta morilca ker sta bila baje kriva za smrt tistega 14 letnika.', 'Aja,tolk je ze šel ta FREAKSHOW (eurovizija) daleč?', 'Preverite? Kje pa lahko preverim?', 'Bedarija kristjane klali je propaganda unicene in močno pohojene Sds da vas ni sram kaj takega obujat pusat SRAM VAS JE LAHKO', 'men je pesem všeč, ali ocenjujemo pesem ali videz :P', 'Zbrišite to dol, da ne bruham...', 'Kandidat?', 'prav si zapisala: ni bolano.', 'ženska na steroidih hehe', 'Hvala bratje kristjani na uri verouka.zelo sm vesel da sm med vami tako dobrodosel in zazeljen.bom nastavil se drugi obraz kot je rekel bozji poslanec jezus.kaj je še rekel.ljubi bliznjega kot ljubiš sebe.hvala vam ker se drzite načel vere katere sami ste pristasi.', 'Nora24 kot zmeraj bluze bedarije in/ali laži. In kako lahko kdo verjame v njihove krščanske vrednote, mi sploh ni jasno.', 'Zdej bo pob najebu kr se j branu ud homica pol ga pa se imenujejo d j zvezda', 'Koltura😀😀😀😀', 'Pomembna je pesem! Poslušte,saj ga ni ali je ni treba gledat!', 'No, vedeli, ali doživeli so verjetno marsikaj, mi pa nič ne vemo.', 'Pahor Pahor kaj pa zdaj to pomeni', 'Danijel gamad si tud ti tu v Sloveniji .... se ti ne zdi?', 'sam po videzu je cuden nk kol ne vemo hahaaaa', ':-)', 'Nevem ce bo kaj ona dela cisto nekaj drugega?', 'Karmen enostavno je, NE GLEJ in ni potrebe da pišeš take idiotske in zaostale izjave:', 'Ima ker se sciti ispirjenost kvazi elite zakaj se skriva kdo vse je bil pri pseh tko isto se skriva \"Tica\"... dejstvo je da samo blaznes koga kar ubije .... kaj ma za delat celo noc z 20 let mlajsim fantom celo noc pit in se drogirat se ce bi bla zenska bi blo nesprejemljivo kaj sele da je moski ni prav da se komu uzame zivljenje samo kar tko mu ga ni sigurno', 'Žalostno, toda resnično...Vse od...\"visoke\" medicine, sociale...do nekaj 10 posameznikov...poskusnih zajčkov...Bolno-sick', 'Thomas Neuwirth - TOM...', 'Evo tale na sliki je ze krsil do drugih mislecih .... potem jaz naj pazim kaj mu morem rect on pa druge zali ?! potem je svet sel 3PM !!!', 'Bodi kar si! Ne pljuvaj po drugih ! Čas nam prinaša še marsikaj drugačnega, novega... To je vse naravno sam kaj če človek buutast misli da je nad naravo!', 'Kako je lahko avstrika ce je pa avstric', 'blek.', 'Točno to! ^^^^^^^^', 'Jaz z Novo24TV nisem prijatelj. kdo mi to pošilja?Skin se z mojga FB.', 'Jaz pa vidim, da Slovencem ni več pomoči, zato pa smo tam kjer smo. Vsi negativni komentarji nad zmagovalcem-zmagovalko, sodite po videzu. Upam, da bodo nekoč kaj takega nardili vaši otroci, a se jim boste odrekli in jih tako zmerjali, kot zdaj tu zmerjate zmagovalca?', 'ta suhi škafec pušča', 'http://imgc.allpostersimages.com/images/P-473-488-90/69/6991/TEFW100Z/posters/stop-making-stupid-people-famous-poster.jpg', 'Kam gre ta svet in kaj naj si mislijo mladi otroci ki še odraščajo ko vidijo punco Z BRADO???????', 'Kako lepo bi bilo na tem svetu, če bi osnovne življenske funkcije, kot so dihanje, bitje srca.... nadzorovali možgani. To je tista zadeva, ki je avtorjem prispevkov in premnogim komentatorjem na tem portalu kronično primanjkuje!', 'BOLNICA', 'Le vkup le vkup uboga oprana LGBT gmajna 😂', '...Podlo je-:)) da temu taka pozornost??? pedri naj počnejo za zidovi kar hočejo-ne pa,da paradirajo vlačijo na paradah otroke seboj-to je enako pedofilom,bolniki pač. Otroke dati dvema pedroma je katastrofa to je enako pedofilom!Amen!!! A sedaj bo vsak po ulicah tulu jaz sem spal z dvema ženskama ali imel sem jih 500,ali seksal sem z sosedo sodelavko itd. Omenjeni je itak koliko sem prebral bil čudak njegove javne teme preveč nagnjene k temu kar je bil sam-zakaj mediji nebi smeli poročati??? ...saj je bil javna oseba,s svojim egom-nagonom kot pišejo je dal svoj izrazito izražen močan seksualni nagonski ego paradi ponosa,ter bil nakoncu žrtev svoje drugačnosti,ker ni razmišljal z možgani ampak-.....! Sicer svet ni normalen,v Canadi nekoč obljubljeni deželi so potrdli sprejeli zakon ustavi,da lahko imaš odnose z živalmi-mislemmmm?!Groza ta svet ni več normalen. ...Še najmanj so krive živali,ki so ogrožene,že triletni otročki preganjajo golobčke v centru Lj,starši pa nič?to je prvi nagon k nasilju šibkejši živalci,katera ima pravico soživet z nami ljudmi-to dejanje otročka in znak nasilja,potem so mucke ptički sošolci sosedi in vsak,ki jim ni všeč! Po otrocih vidiš kakšni so starši,po živalih psu vidiš kakšen je gospodar itd. Če vse javne osebe razgalijo,zakaj nebi pedrov,ki v mnogih službah zlorabljajo mladostnike kljub,da jih opozarjajo kolegice kolegi,žal je tega ogromno predvsem v medijskih hišah,in to vse ker mnogi pedri zlorabljajo fanke po službah,da le te žrtve dobijo službo kariero itd.mnogi taki so zelo znani javnosti v preko tv ekranov,ali za kolisju medijev. Mogoče je to tragično dejanje v opomin tistim,ki to še počno proti volji žrtev spolnega nasilja. Taki izprijenci pa se še kažejo po ulicah ter se sami izpostavljajo,kako bi posvajali otročke kot dva pedra naprimer-to je enako pedofilom. Se pridružujem žal mi je otrokov in žensemi,ki imajo slabo etiketo v šoli okolju kjer živijo zaradi fotra,tako se sam približujem nekaterim ki so enako povedali v medijih. Če je izsiljeval fanta,baje ni bilo prvič v medijih povedano,da so ga kolegice kolegi opozarjali?-če je to res,da mu je grozil oziroma omamil bodo pokazali odvzem morilcu-fantu vzorce kri,urin,če mu je dal uspavalo za posilstvo za spolno zlorabo-potem naj se cvre v peklu! No KO kapljice,ki so popularne zadnji dve desetletji za tatove,roparje,po svetu EU in v SLO predvsem za posilstvo deklet,ki po teh dejanjih molčijo,zaradi sramu strahu pred starši uničeno imajo če ne za nekaj let ali za vso življenje uničeno vse,če se je zneslo na dekle več izprijencev,teh primerov je tudi že v Sloveniji veliko. Čim manj takih primerov,treba biti pozoren predvsem po lokalih,ko greste na WC vam spustijo par kapljic KO omaljive supstance,ki nimajo okusa,delujejo čez nekaj časa,da se izkušeni izprijenci lahko spravijo z žrtvo v stanovanja ali nek kraj kjer jih zlorabijo,ko se zbudijo nevedo kaj se je dogajalo počasi se jim spomin vrača-vendar to je prepozno ali so pokradeni dekleta mladeniči posiljeni. Previdnost in Previdnost-po popularnih Pabih diskotekah privat Party itd.', 'http://stormnotify.com/wp-content/uploads/2014/04/georgios-samaras-pictures-celtic-x4uuzymf.jpg Samaras nism vedu da dobr poješ :)', 'Ma dej ,sej nobenga ne zagovarjam ,sam tale ze dneve tlele pamatuje', 'Ajde Borise, odpederči od tukaj!', 'Sebastjan Darija Ema Muršec glavn da tok grdih frocov nimam kot ti', 'kaj se bunite slovenci ko je predstavljao sloveniju prije par godina zar nisu bili isto pederi? A on odlicno otpjevao pjesmu glas mu je extra i zasluzeno je pobedio sad dali je on ili ona nema veze . Ne dozivljavajte poraz tragicno.', 'Vsi se gravzate nad njim, da nebodo na koncu vase otroci isti. Bote do njih tudi taki? Bravo Avstrija!', 'zame je ena gravža,pa pesm tle ni čist nč kriva!!', 'rezervni jezus kristus....', 'pa kaj vsi na to tak na ozko gledate? ta moški si je upal na oder pred milijone gledalcev in upal je pokazat da ga ni strah drugačnosti! vi pa vsi tu neke mutite kak je to slabo pa sem pa tja.....malo bol na široko poglejte ne vso stvar...in če smo že pri tem; mi smo leta 2002 na evrosong poslali sestre....tipe oblečene v ženske! vsi so vedli da so moški pa nobedn ni zino ne bu ne mu! če ne bi mel brade noben niti pomislo ne bi da je to ded! zaj se pa vprašajte malo kdo je homofob pa kdo ne!!!!', 'Mwaaa', 'Koga boli za Kanado', 'Hvala levaki, vaša brezplačna reklama za NOVO 24 je neprecenljiva. Pridno počnite to še naprej, dvigujete gledanost in CENO. Pridni pridni, striček piškotka dal. Po praznikih bo žrebanje za najbolj navdušujočo levakarsko reklamo. Nagrada: ogled Oražnove garaže!', 'za vsakič ko vidm to ne vem al naj jokam se smejem al kozlam...', 'mater mi gre na kozlanje', 'čaki malo, misliš v živo rečt al v živo ti pokazati? Ker tle je ogromna razlika....', 'Petardo v rit.', 'Ime mi je Aleš, pišem se Lorbek. V privat ti dam še moj naslov. Te prosim, če me prijaviš. Če boš, bom imel pravico vedet, kdo me je prijavil (novi kazenski zakonik). Pol pa bo druga pesem pela svojo zgodbo!', 'Nimate nič bolšega za delat ko samo kritizirat pa jamrat sram me je da zivijo taki idijoti v sloveniji', 'Se strinjam starsi so taki in drugacni sam tok je druzin ki bi posvojile sam dolocena struja navija za posvojitve v istospolne pare. Marsikaj sem videl in dozivel zato sem pristas klasicne familije. Otroke bi izoliral iz druzbe. Vsaka druzba ktera se je odstranila od klasicnih zivljenskih temeljev je prpadla. Res pa je vsak ma svoj pogled. Zeleli smo tehnoloski razvoj - unicili naravo, zelite to in nicite clovestvo. Modne muhe so hudic', 'Katere nasprotnike misliš,pedre?Ja itak.', 'In nihče, ampak prav nihče nima pravice se dotaknt tvojega telesa proti tvoji volji!!!!', 'Meni gre pa na K**** tale poveličan RUMENI TISK in folk, ki tole bere, tisti, ki objavljajo pa itaq, da morajo 45x isto objavo dati na dan gor ... REALNE TEŽAVE PA SO SPREGLEDANE ... Kretenistično tole do amena ... še bolj, da je nekdo plačan,d a to objavlja!', 'avstrijka?? mislite avstrijec ;), moski je, moski z brado, pa tisto ima med nogami ;) res ste bebci, pac desc odlicno poje, to je vse :)', 'Se strinjam uboga otroka in žena,žal je takih primerov v zakonih prikritih ogromno,tudi to prikrivanje je partner tudi žrtev,da mora igrati srečnega partnerja in se javnosti kazati ter otrokom igrati,da je med očetom in mamo vse ok.Ani tako! Teh primerov je ogromno od politikov v podjetjih javnih službah policiji največ v medijskih hišah ter kulturnih panogah-eni pravijo da so geji-pedri najboljši igralci kolegi itd.kot klovni,ki navidez v svojem poslu zabavajo ljudi jih nasmejijo,v bistvu so v privat življenju v skriti debeli lupini skriti kdor sploh so ali so sploh srečni-ko pridejo domov so osamljeni in nesrečni.', 'ja itak ka pa ko otrok vpraša.. kje mam pa mamico? Pa potem v šoli je skos nadlegovan.. sploh pa nima možnosti izbire če bi bil v gejevski familiji al pa ne.. ukinat to sr****', 'Koja je to retardirana pedercina', 'Saj ne morem verjeti, da živim skupaj s temi ljudmi, ki komentirajo na ta post. Ljudje, človek je ubil človeka, vi pa razglabljate, če je to v redu ali ne. Ja logično, da ne, kajti, kot sem že napisal, človek je UBIL človeka. Kaj vam to ni jasno? Zob za zob v 21.stoletju? Naj še uvedemo smrtno kazen? Ne, še boljše, gremo v čas inkvizacije, javnih usmrtitev?! Kaj se vam dogaja v glavah? Nihče, prav nihče ne pozna razloga za ta uboj in imamo le eno pričevanje. Tudi če je res, da je bil razlog homoseksualnost in celo posilstvo, kazen nikoli in nikdar ne more biti uboj. Ne samo, da ne more biti, ne sme biti in to moramo v kali zatreti. Nekdo je celo napisal, da ga je \"premalo kaznoval\". Zamislite si, kakšen imbecil moraš biti, da smrt, oz.uboj vidiš celo kot premilo kazen, kajti, on bi ga mučil, podaljšal agonijo smrti. Se kdaj poslušate? Ali res veste, da živimo v 21.stoletju? In kaj ima zdaj s tem levi in desni? Rdeči in sveti? Kako dolgo se boste še pustili voditi psihopatom?', 'Nisem gledala izbora, nikoli ga ne... Pocakam, da slisim zmagovalno pesem na radiu... Prej sem jo in meni je vsecna... To mi zadostuje!', 'za bruhat!', 'Točno ,hitlerja bi rabili ,da bi pospravil to gnilobo.', 'https://drcraigconsidine.files.wordpress.com/2015/05/fotoflexer_photo-17-34-01.jpg', 'V bistvu imate prav', 'O glej, še eden homofob. Da bi pa pomislili kako se pa ti homoseksualci počutijo? To pa ne ker je \"narobe\"? Fora je, da problem niso homoseksualci, problem se heteroseksualci. Zaradi njih imo zdaj homofobijo, ker se oni vedejo po moralah različnih ver katere ne podpirajo homoseksualnosti. Polek tega pa še jih je strah, da jih bodo homoseksualci \"napadli\".', 'Trobilo SDS je GAMAD brez čustev,ki vse objavlja kot \"vodo na svoj mlin\"! UBILI SO ČLOVEKA , PA ON BIL , KAR JE BIL ! KAJ VAM NI JASNO?????!!!!!! MI JE RES ŽAL , DA VAŠEGA LJUBLJENEGA VODJO NISO \"NAPIČILI\" (ćitaj spolno zlorabili,ne umorili)V ZAPORU ! Samo še to-nisem pristaš nobene politične stranke,ker so večina njih GAMAD,ki ni storila prav NIČ za nas navadne državljane.....SDS pa pri tem PREDNJAČI!', 'Ja kaj se zdej tle razburjate zaradi te pevke.Ko ste pa poslal \"sestre\" na eurosong pa se ni nobeden razburjal', 'Sicer pa bi se nekateri lahko zamislili nad sabo in svojimi komentarji. Z njimi vec o sebi poveste kot o tistem ki ga zalite. ...', 'Ti mavrični so propad vsega', 'Vsi normalni ljudje so strpni, kje zivis mogoce v kaksni jami kjer ti enkrat na leto dajo telefon v roke. Ljudje so takšni kot so in nevem zakaj jim ne privoščiš sreče, kaj bi rad s tem golim otok, če si tak navdušen pa idi sam nanj. Zamisli se malo noben od teh\"pedrov\" ti ne škodi.', \"Če je že res ženska si naj vsaj brado obrije -.-''\", 'in nagrada za najbolj primitiven narod gre.... SLOVENCEM! ;) res žalostno, da nekateri blatite in ponižujete vse kar je drugačno. če bi tu in tam gledali na stvari izven okvirjev, vam ne bi škodilo.', 'Kolko pa je pedofilov pa moških ki posiljujejo ženske?? Kaj pa te krvave predigre? Vidi se da še nisi spoznal pedra kot jih imenuješ, verjetno si en izmed tistih, ki te je strah da te bo osvajal. Ampak brez skrbi tudi oni imajo okus in ne zagrabijo vsakega. Za razliko od vecine moških se tudi ne derejo ta drugimi kot to počnejo za tebe \"normalni\" ljudje. Žvižganje za mladimi dekleti je normalno?', 'A to je njena/njegova brada? A je to dec/baba? :D', 'Veš kej bi jz nardu za Slovensko kolturo...pobral bi vam vse šolde državne šolde in si jih kao kolturniku zaslušte sami, sprivatiziral bi vas, da bi enkrat začeli malčk delat taku kot mormo vsi ostali !!! Pol vam pa ne bi kuzlarije jen pederije šle po glavi !!! Pa še enkrat to je moje mnenje...so bla pač pederska posla !!! Iz užitkov se manda ne kolje.....edino, če je to kšna vaša nova predigra.....ne maram pedrov pa basta pa konc !!!', 'banda mavrična', 'Nekako sem slutil, da boste na koncu komentarja ponovno govorili o krivicah JJ-ja in da boste zgodbo izkoristili. V vsakih podobnih zadevah se na koncu vsaka zgodba konča na isti način.', 'bravo urša....ampak to ni važn ker folk raj vid očitno da otrk živi npr.z materjo narkomanko..ali očetom pijancem....ker je važno samo da so hetero družine na tem svetu...na žalost ..cena so pa otroci....in usi vi ki imate to v glavi te nevidne zidove....vi boste mučitelji teh otrok....v šoli bo mogoče mal zafrkavanja...ampak to je večina od nas verjetno doživela da so nas kdaj zafrkavali..pa dons normalno živimo...mah...brezveze pisat kle k se spremenil nebo nič ...lp', 'Moje rodno mesto je Ljubljana, kjer sem že, še enkrat si res vsak dan tako glupa? No ti pa očitno zagovarjaš omamljanje in posilstvo. Saj te razumem, upaš, da boš tako izgubila nedolžnost, sam žal imajo tudi posiljevalci svoj ponos :D', 'i jih pa kr spodbuji upam da se ti migrant preseli v sosesko.', 'KAM GRE TA SVET V .....', 'Takega cloveko ko ima tako misljenje poslat v cuzo da se strezni ko pa imamo tako sodstvo, da ne reagira ,mislim da je to sovrazni govor ?', 'Kdaj bodo nekateri spregledali, da gleda samo na svojo rit, za upokojence pa lobira takrat, da se obdrži nad pragom političnega praga. Japek brez podobnega premera.', 'Bruhnu sm...', 'Kdaj se začne čistka v SLO da bo več slovenskih otrok', 'Se zelo strinjam s tabo Martin!', 'Primer žalitve in javnega spodbujanja sovraštva do kristjanov: “So stvari, ki jih je treba sovražiti. Po mojem mnenju je katoliška Cerkev v Sloveniji nekaj, kar moraš sovražiti. Jaz to čutim kot svojo državljansko dolžnost.” (Svetlana Makarovič, 6. 1. 2012)', '...tudi jaz določenih stvari ne razumem-jih pa sprejmem,ker je v svojem bistvu \"ČLOVEK\",ki me ne ogrožća v nobenem smislu...zanimivo,da pa se ne pljuva s tako ihto po obritih kravatkarjih,ki nas iskoriščajo,zaradi katerih je lakota in brezposelnost,ki organizirajo vojne in pobijajo nedolžne zaradi lastnega dobička...njih bi se bilo treba bati in po njih pljuvati....on je rezltat \"napredne\" družbe ,strupov in kemije,ki vplivajo na hormonske spremembe itd.... mislim,da naše fobije niso usmerjene v pravo smer....rajši bi preživela z njim urico ob kavici kot ja z Jankovičem in Janšem in njima podobnim,da ne omenjam tistih iz ozadja,ki so nas pripeljali do sem kjer smo.....', 'Normalno bi se obnašu bi pa še zdaj bil med nami tako je moje mnenje Čao 😈', 'Tvoji starši so fix zelo ponosni nate, glede na to kaj pišeš. Daj res če nimaš kaj pametnega za povedat bodi raje tiho. Ne pa da zaj celi fb vidi tvoje kretenistične izjave. Ne delaj si sramote več.', 'Mene tale Avstrijka al kar je sploh ne moti. Meni gre v nos, da so se Poljakinje s tistim ostudnim nastopom uvrstile boljse od nase Tinkare in predstavnice San Marina, ki sta imeli odlicen nastop. That\\'s disgusting. Dokaz, da se vedno stejeta videz, cirkus in bizarnost, ne pa petje, talent in performans. In to mi pusca grenak priokus. Nasa je bila odlicna, zasluzila bi si uvrstitev med 10 najboljsih. Conchita vsaj pet zna, nastop je tudi bil lepo izpeljan, ma una poljska \"zadeva\" pa res ni bila za 15. mesto.', 'bedno,,,', 'Res da je bil hitler ektremist toda malokdo ve zakaj je sploh začel udar proti židom oz. judom. Kdor se ja vsaj malo poglobil v hitlerjevo življenje in njegov boj proti židom zagotovo ve da niti ni bil tako slab kot ga opisujejo. Ampak Danica to kar ste pa napisali vi je pa res že skrajnost. Čeprav ne spadate v sedanjo dobo tehnologije, ste ji očitno precej podvrženi, saj očitno ne veste kaj sploh je smisel življenja in kako naj bi se človek vedel v družbi. Lahko recete da ste odrasli po zunanjosti ampak po duši pa zagotovo niste.', 'Če je imel Gašper tak sloves že od XXXL časa, in če ga je storilec res POZNAL, potem bi moral malo sumit, kaj stoji za povabilom. In tudi če je šlo za nespodobno povabilo, se bi lahko branil drugace, če je šlo res za branjenje. Glede na to, da je bil v tujski legiji pa verjetno ni bil en nemočen, nerazvit človek....ampak tujska legija ne gre na prerivanje. Tam se gre takoj na nož. In dejte si že to dopovedat, tudi tisti, ki mislite, da vse veste sto procent', 'Ti si manifestacija ne sto ampak 133% integriranega tujca. Očitno ima integracija velike omejitve.', 'Sem se spustla mal nizje,da se teb priblizam....;)', 'Tu pa ni nič narobe,kot so nabijali ob filmčku O ŽIVLJENJU.SEDAJ SE VIDI kaj in kdo orgira,,,,,groza od žalosti!', 'https://youtu.be/sR4uyMjUnDI', 'Dragi zagovorniki DRUGAČNOSTI ....na kratko glede strpnosti oziroma drugačnosti. Strpnost do drugačnosti bo dosežena takrat, ko te nihče ne bo opazil, ne pa zdaj, ko jo na vsakem koraku poudarjajo mediji.!!!!!', '?', 'Resnica je le ena...zanjo, pa vas leve in desne novinarje boli \"spolni organ\". Situacije izkoriscate samo za medsebojno napucavanje...', 'Ocitn nas ni vseh', 'Nakaza majku ti pedersku jebem puuuj sotono .!.', 'To je ono...', 'primitivci ..raje pod svojim pragom pometite predn nacnete od koga drugega', 'Lol, pod neko pretvezo \"svobodne izbire\" pri otrocih... Če ti 2 leti star fantek reče, da bi rad bil lev, je smešno in kjut, čez tri sekunde pa še sam pozabi. Če ti reče, da bi bil punčka, pa ga začneš oblačit v oblekice, pošiljat v LGBT vrtec in dajat estrogen tabletke (y). Dobrodošli v Evropi.', 'super!! Vsaj enkrat,da zmaga nekdo,ki si res zaluži', 'kaj boš sprejemov drugačne, če je Bog naredil moškega in žensko, to se pravi dve osebi in ne oba v eni osebi....fuj pa take tipe al kr koli so že gnusno', 'malo pazi, da se ti ne bo obrnilo !', 'Cestitam, zelo pogumno, vse naj naj !', 'dajte no mir že enkrat z to človeško iztirjenostjo... pa začnite opevati (frdamane) pedofile... tudi oni so spolno drugače usmerjani... a njih pa kaznujete...', 'Inbicil zrel za odstrel', 'Kultura dobi preveč denarja,da ga lahko tako serjejo. Pobrat se polovici', 'Sebastjan Darija Ema Muršec se vid da drugo kot varnostnik ne mors bit..... k mas kurac v glavi namest vsaj micken mozganov Se vidmo na sodiscu ja hahahahahaha dej pejd rajs eno zmolt ko so ti froci tok grdi hahahahahaha Hahahaha aja sej le po kom bi pa nej bli Ko je tud baba grda', 'Katastofa !!! in to pol naši otroki, bratci sestrce.. gledajo pa sej to ni več normlano preklet feget ... kam je ta svet pršu mislm fak off ! :)', 'Na kozlanje mi greste vi kreteni ..... sej Slovenija je tud za Slovence narjena pa poglej kolk smrdljivcev balkanskih je notr mars u picko matrno nazaj od kje ste prsli ...... na kurac mi grete vsi balkanski izrodki', 'ni kaj za dodati če na takšen način zmagaš potem preobrazba sploh ni pomembna ampak samo pesem ,ki jo izvajalec zapoje ampak sem mnenja da to ni več evrovizija ampak gejevske parade ki so očitno večini ušeč', '...hahaha bosna in srbija nikoli vec na eurosong :-D', 'TA BI MORALA SPOKAT DELA SAMO SKODO NEVEM ALI JE ZE KOT OTROK ZAVAJALA ZELO SLAB KARAKTER.', 'Zate je to drugačnost ,zame pa to ni normalno ,oziroma bolano.', 'Star rek za avstrice je - DOJČE CIGOJNER , vidim da drži !!!!!!', 'ni normalno ,sem napisala.', 'Avstrija je zmagala samo zaradi tega oneta z brado, ker komad ni nič posebnega, tudi slabo zapet. Razočaran sem nad dejstvom, da nam nihče, razen južnih bratov ni namenil niti točke, to je zaskrbljujoče. Menim, da so Tinkara&co naredili vse kar je v njihovi moči, da so lepo predstavili Slovenijo. Mogoče je bilo zgrešeno to, da je bilo mešano besedilo (slovenščina in angleščina). Bi se pa lahko zamislili in se vprašali, zakaj ni bilo Hrvaške, BiH in Srbije??? Mislim, da ne samo zaradi velikih stroškov. To ni več prava Evrovizija, kot je nekoč bila, tako da drugo leto, čeravno bo v Avstriji, nas Evropa zagotovo ne bo pogrešala (gleda na to, koliko točk so nam pripisali letos), tako da ni niti smiselno, da se gremo to popevko.', 'KDAJ JIH BO IZGUBILA CERARJEVA VLADA', 'Suuper draga Martina CasarČinkole Tone...vse pohvale...😊😊😊', 'Zato pa za njih obstajajo umetne oploditve. Zdaj pa zaradi tega če si tipček pa rad kakega drugega tipčka malo v ritko nabrišeš ti pa ne pripada dodatna pravica do otrok. Ali trdiš da ti pripada več pravic če si moški ni poseksaš drugega moškega v anus, ali pa če si ženska pa drugi ženski ližeš vagino ?', 'Kar neki', 'Martina ja v tvojem primeru bi si verjetno raje tiča odrezali, kot da tebe posili. Ni pa nič čudno, da zagovarjaš svojega zemljaka posiljevalca ;)', 'treba to gamad pobit od tolkega sranja se tasni ljudje hodijo po svetu ..!!!', 'O god kolk je tu pri nas nestrpnosti. Pač je zmagala drugačnost eurovizija itak Ni samo glasba in ta kvaliteta. In kdo smo mi da sodimo o morali samo poglejte našo državo leglo kriminalcev,ki nas predstavljajo in tak halo o tem.', 'Ovo mu je decko', 'Misliš ali veš?', 'pizda ste homofobi, zase se brigajte zaostalci', 'Ne komentiram objav kot so te ampak me nekateri komentarji resnicno razjezijo. Rebeka Moa Če bi ti padla iz višine svojega ega na realna tla bi se resnično ubila. Tvoji komentarji mi dvignejo prag in se raje zamisli nad svojim staliscem in komentarji. Namesto, da žališ in si tako mala raje vzami v roke kakšno knjigo in razširi obzorja. Res izvrstno dokazujes kdo si in katere so tvoje vrednote v zivljenju. Ce bi tvoja mater prebrala tvoje komentarje bi jo bilo sram v kaj te je vzgojila. Upam da vsi nevoščljivci v življenju najdete srečo in potešite svoj prezir!', 'Tema je odprta. Vsak ima pravico ustvariti si lastno mnenje, pa če je prav ali ne!', 'Lepa pesem in lepo je pela ali pel! Brada in vse ostalo me ne zanima!', 'Tebi ne bi, edino, če tisto kahlo dol snameš.', 'Stranka Desus se je ustanovila za previlegiranje pokojnine,bili so v vseh vladah,in vedno jeziček na tehtnici dosti dobrih stvari se ni sprejelo,če niso oni niso imeli svojega lončka polek,in to ni v redu za državo.', 'Pedri raus.', 'On ni obična pederčina ampak pravi gej!!', 'Ne ni jih sram hehe ampak zaradi takih butlov kot si ti jih je strah, ker se vedno nekdo najde ki jim grozi in jih napada', 'Dejte no sej so tudi partizani bili katoliki in so pobivali ndovžne ljudi,ker so jim komunisti oprali možgane in kristjani so se samo branili proti njim.', 'Glej ga homofoba.. Sramota za človeka.', 'Zakaj homofob ? Tudi pravilno slovensko se reče PEDER ! http://bos.zrc-sazu.si/cgi/a03.exe?name=sskj_testa&expression=peder&hs=1', 'kje pa sem to napisal, polaganje odgovorov na jezik in sklepanje kot sama hočeš mi je tuje in s takimi ne razpravljam, ker so to ljudje brez hrbtenice, ki sami ne prenesejo drugačnosti.', 'Dober.-dobra je bila in jaz mu cestitam.,.btrez vrze se obremenjevati stem kako je ko oblecen ,ima li brado zensko,kako je spolno usmerjen...meni see sami skoda zdi da lepa zenska hodi okoli z brado ampak ce je njej to usec naj izvoli pela je dobro...', 'jst sm pa opazla da je velik moskih k sploh slisat nocjo o tem in takoj recejo fuj in ne ... najprej naj si mogoce kaj preberejo o vsem skupi...mogoce se svet boji da pa bo pol vsak drugi človek gej..kar je nemogoce, ljudii je pa itak strah necesa cesar ne poznajo... jst ne nasprotujem zakoniku sm cisto za in podpiram geje, samo da je res tko..eno je ce partner posvoji partnerjevega bioloskega otroka , drugo pa da hoceta imeti čisto svojega...', 'sam bog mu naj pomaga, škoda besed!pa evrosong naj v betlehem preselijo.normalni ljudje tak ne sodijo več zraven, očitno!', 'Saj ne vejo kaj bi. Toliko faktorjev je tu, ki lahko podpihujejo njihovo ekstremistično politiko, da so se kar malo zmedli pa tavajo.', 'Ti pa še mau veš', 'Fuuuuuuujjj za bruhat', 'Če ne bi bilo medijev in razisovalnih novinarjev bi ti živel v kameni dobi..', 'haha Mathew you are right :D', 'pa kaj tej babi ni jasno za svoje naj poskrbi baba', 'In ti naj bi bil človek?', 'Ke skifo', 'Lejga pedra sramota za človeštvo !!! Prokleta drhal !!!', 'Ko berem nekatere primitivne komentarje, se ne čudim, kje je naša država. Pustite človeka da je, kar pač je in se brigajte zase.....Če vam ni všeč, še ni potrebno žalit, tud vi niste idealni, če že navzven mogoče zgledate bolje, ste pa odznotraj tolko bolj gnili, kar je še slabše ;)', 'Vsem dekletom, ki ta stvor zagovarjajo: odgovor je preprost - izkažite podporo, nehajte se depilirat, brit ;) in vsem fantom, ki oneja zagovarjajo: jutri oblecite obleko/krilo za v službo/šolo, lasuljo na glavo, pa je! Izkažite podporo \"drugačnosti\" tudi na praktičen način, ne samo s pametovanjem na 24ur.com ;)', 'Mene ne moti, da zmaga transvestit - saj je že zmagala Dana iz Izraela. A zmagati zgolj zato, pomeni, to, kar se z evrovizijo dogaja (ko je zmagala Švedinja, se mi je zdelo, da se je s tem prenehalo). In sicer, da postaja vedno bolj bizarna (to pa pomeni le navidezno svobodo, kaže pa na izrazito dekadentnost družbe) in da ne zmaguje glasba, temveč kdo je bolj bizaren. Od tod potem vedno bolj našemljeni pevci, različni efekti ... Da ja izstopaš ... Glasba pa je odrinjena. Moram pa priznati, da ima dober glas, a pesem je brezvezna po mojem mnenju. Skratka pogrešam evrovizijo, ko so na odru stali povsem normalno oblečeni ljudje (morda je tudi takrat kdo bil homoseksualec in nas to res ni zanimalo, ker ni bilo pomembno), brez efektov - pomembna je bila glasba in ta je tudi zmagovala. Vse stare zmagovalne pesmi so še danes poslušljive in gredo lepo v uho - so zimzelene. Dan ljubezni pa ABBA ...', 'Faliran student se oglasa? Jokam od smeha😁', 'Delajo in govorijo kar jim je trenutno najbolj všeč, tudi neko gospo so našli, da so jo partizani mučili in rezali, kot je meni znano tega niso počeli. Pač za oblast se naredi vse', 'glede na tvoj komentar si ocitno ti odjemalec, ker se tok spoznas 😂 Ocitno tud poznas tice bolj kot jaz 🤣', 'Se na kriz ga-jo prbijes pa je kot bog. Buaaa hahahahahah', 'Olga Palir Cheerleadervegan, ja točno tako je tudi pri meni. Imam isto spolne prijatelje in prijateljice, pa mi še na misel ne pride, da bi kdo od njih koga izkoristil za tisto.', 'vsak sam ve kaj lahko sprejme in kaj ne. sem sprejela lezbijke, sem sprejela geje, ampak ta unisex varijanta mi je pa čist too much ! Nimam nič prke njemu ali njej, ampak vem, da obstajajo lepši in bolj inteligentnejši načini šokiranja ljudi. Ob petju njegovem/njenem petju nisem čutila nič, ker ni prihajalo iz srca. To lahko rečem tudi za skoraj vse pesmi. Vse je bilo zrežirano in dolgočasno.Nobene iskrenosti in res ljubezni. Če ne veste kaj je to si poglejte celine dion, abba ali \"našo\" Tajči - vse so nastopale na Evroviziji.', 'mutant', 'kam naj grem v ljubljano saj sm ze tuki.a vas boli k smo med vami.ves kaj mi je v uzitek ko lahko fukam te kršcanske kurbice.', 'Pa misliš da jo ima?😇', 'Ogabno ! -.-\" :X', 'noben pa ne pomisli, kaj se bo otroku dogajalo v soli, k bodo imeli vsi oceta in mamo, on pa dve mami ali dva očeta....pa ga bodo sprasevali kako to....revček ne bo vedu kaj bi odgovoru...in bo izločen iz druzbe.....poznam tak primer....na zalost', 'Nora 24 :)', 'mrššššš', 'Pridite', 'Izključitev verskih simbolov v javnosti,je temelj laične in sekularne države....Če se to ne zgodi smo Kalifat ali Papat.To pa nima mesta v 21.stoletju....', 'svašta sam to lah rečm', 'Set lahko srečni, da ste z vašim spolom zadovoljni!', 'Meni je tak sram priznati, da sem Slovenka! Poglejte si te komentarje. Ne morem verjeti, da še ima večina Slovencev vedno zaostalo, srednjeveško mišljenje glede homoseksualnosti in sprejemanja drugačnosti. Ne, ni zmagala, ker ima brado, temveč ker ima res dober glas in dobro pesem. Nekateri od vas pišejo, da je Conchita ogabna. Ni vaš odnos do nje ogaben? Da niste spodobni sprejeti moškega, ki nosi ženska oblačila? Da vedno presojate ljudi po videzu? OGABNI STE. Nimate boljšega dela kot se ukvarjati z nečim, česar ne marate?Če nimaš nič lepega za povedat, bodi tiho in si ne delaj sramote. Uboga Slovenija, res ni pomoči.', 'saj je čisto vseeno kdo nastopa, važno je, da ljudje lahko obrekujejo in se imajo za vsevede in vsepoznavalce... vsi smo ljudje, takšni in drugačni, eni lepi eni grdi... ampak žal večina z grozno naravo.. pa to ne leti na izvajalca/ko, ampak na vse žaljive komentatorje', 'kok je sexi :$$$', 'svet naglo drvi večnemu počitku te svinjarije pa ne prenese', 'a je kdo sploh pesem poslušo?', 'Ko berem nekatere komentarje mi postane resnično slabo saj ne morem verjeti, da v sodobni družbi lahko še nekdo tako razmišlja. \"Pedre\" bi blo treba preganjat in zapret. Pa kaj smo v srednjem veku, kjer so ženske zažigali?? Mislim halo no s kakšno pravico kogarkoli obsojate in ravno zaradi takih komentarjev se sovražnost veča in po svetu je vse več nestrpnosti. Še malo, pa bomo postali kot Hitler samo da bi nekateri sežigali homoseksualce! Umor/uboj Gašperja Tiča je tragičen dogodek. Ampak nihče od nas ne ve kaj se je zgodilo in zato tudi nihče nima pravice govoriti o tem. Mediji imajo dolžnost, da poročajo o dejstvih ( kar se ne dogaja). In samo sodišče bo odločilo kaj je prav in kaj ne. In tu sploh ni pomembno kakšen je človek bil in kaj je delal, pomembni so dokazi in dejstva. Ali pa pač začnemo ljudi obsojati samo zato, ker so črni, rumeni, beli, muslimani, geji.....potem pa lahko kar lepo gremo nazaj v jame!', 'gdo pa mene in ostale navadne ljudi financira????', 'Ojoj, od kant pa do do- ktorja za pederje. Samo za v kanto je dober.', 'https://www.facebook.com/photo.php?fbid=1416730855266935&set=a.1396814653925222.1073741830.100007901024134&type=1&theater', 'Kako lepo bi bilo na tem svetu, če bi osnovne življenske funkcije, kot so dihanje, bitje srca.... nadzorovali možgani. To je tista zadeva, ki je avtorjem prispevkov in premnogim komentatorjem na tem portalu kronično primanjkuje!', 'Jaz se opravicujem vsem debilnim ljudem k nas delijo po veri,nacionalnosti itd.sm mislu da smo vsi ljudje zgleda sm se zmotu.zato se opravicujem iskreno vsem ki so se najdli v tem.', 'Mislim, da so si uspet sami napisali, da imajo kaj kritizirat.....', 'Bljek', 'Fentat mrcine', 'Niso vsi Slovenci kristjani zato mi dol visi za ta napis in to TV.', 'ponovim komentar, ki sem ga ze zjutraj napisala nekam. eurosonga nisem gledala razen nekaj delckov tu pa tam, tega izvajalca nisem slisala in pesmi ne morem soditi. kar pa se videza tice, sem ga / jo prvic videla tukaj na fb in me je pretreslo. prisegam, da nimam popolnoma nic proti homoseksualcem, travestitom ampak tole je groteskno, cudno in zame grozljivo in mi zbuja odpor. upam vsaj, da je pesem dobra, kaj naj recem....', 'Nekateri bi morali malo svetovno zgodovino religij prebrati, in potem komentirati gdo je največji pobijalec. Ja bile so križarske vojne. Bilo pa je tudi turško obleganje evropskih držav in afriških a to nekaterim nič ne šteje. Sicer pa ob takih napisih se kaže mentaliteta ljudi. Ne pa pozabiti nikomur ni prepovedano braniti se zato razmislite kaj pišete.', 'Kaj delajo z opevano lepoto ženske?', 't.i. \"pedri\" so večinoma časa tiho. samo t.i \"normalni ljudje\" so zelo glasni in pišejo takšne komentare, da ti zraven kar slabo postane', 'aja pa brade morjo met te neo mel folk nic proti', 'Kam gre ta svet....je kje še kaj normalnega :/', 'nabijem vam m....., vzgajajte otroke ob takem, bolani ste vsi ki zagovarjate take GNJUSE. Kaj zdaj sledi, PEDOFILI na TV. Ne vsiljujte sranja drugim in nisem homofob. BOOLAANOOOOO', 'Nisem noben naci, skin, agresivc al karkol, sam tole pa ni več normalno !!!', 'Ah Polona ne seri se ti in vsebina pesmi....saj ni edina cool...', 'kakšne različnosti? da nebi to bilo kot tisti zakon o istospolnosti.. to ne sme in nebo NIKOLI sprejeto, in prav je tako.', 'Evo me pičke,jebo vam mater koga bote klali,samo pridite,pa da začnemo obračunavat,dovolj vas imam', 'Ziga a te kej matra?', 'Blatenje in obsojanje se ni raziskovalno novinarstvo', 'a zato, ker si ti tako rekla hahahahaha????', 'Ta zanimivost mi use pove.... Ajde zmešan svet', 'Ja hvala.jaz zate tega ne memorem trditi.', 'js sn ga že brcno iz seznama \"za koga ne volt\" 😉', 'a je to sploh čemu podobno, ni ne tič ne miš', 'Kaj je to srednji spol al kasna gliva....', 'Monty Python so že v osemdesetih letih vedeli da je brada na ženski zmagovalna kombinacija :))', '???? Ni minilo niti 48 ur, kar ste trdili tole. http://nova24tv.si/slovenija/crna-kronika/ekskluzivno-ticev-morilec-cakic-je-pred-dvema-letoma-nenadoma-pustil-nogomet-in-vstopil-v-tujsko-legijo-tam-je-postal-izurjen-morilec/', 'Spaka gor dol Se zmer sem lepsa od tebe grdavs', 'Umsko sprevrženo', 'ogabno in sramotno.', 'Big deal. Istospolne družine že obstajajo v Sloveniji. Umetne oploditve lezbijkam opravljajo v vseh 4 sosednjih državah, istospolne posvojitve so najbližje Sloveniji možne v sosednji Avstriji. Za LGBT osebe ni nobena znanstvena fantastika otroka dobit.', 'sebastjan a mi smo pa lahko sestre poslal ? uno je katastrofa ne pa to k je zmagalo bradato bitje drugace pa ja nimas kej svet gre u picko materno !!!', 'Tako je,vse čestitke za napisano,in bom med drugim povedala svoj slučaj izpred dveh let,ko sem na kopališču v savni doživela da sta me dobesedno okupirala dva svingerja iz okolice Mb.in sta me tri ure morila kod nočna mora,da bi odšla z njima domov in da bi se pač poigrali skupaj v postelji...😯😯😯...jaz sem bila že čito izmučena,no potem pa sem le pogruntala en izgovor da sem se jima izpulila iz primeža,in sem jo na brzake popihala v slačilnico,se po vojaško v treh minutah oblekla,vzela stvari in odbrzela ven,hop na kolo in proti domu...!!!!In sploh si ne znam predstavljat da bi odšla z njima,saj nisem svingerica,pa da bi potem imela težave in bi vso krivdo zvalila na njiju...🤔🤔🤔...ja saj sta mi ja povedala kaj želita,in zato sem ogorčena da je fant odšel vseeno z njim,čeprav je vedel da je gej...res groza kakšen idiot...fuuuj....😡😡😡😡😡', 'Nevoščljivost...... Fowšarija... Hmmmm Čegaaaa??? Brade?????? WTF?', 'Publiciteta za JJ. Vse vam pride prav! Bolano 😨', 'Meni pa je faca,vi si tega ne upate', 'Homofobíja (starogrško ὁμός: homós – enak, podoben + φόβος: phobos – strah, bojazen, fobija) označuje sovražnost do homoseksualnosti. Beseda ne pomeni dejansko fobije kot bolezenski strah, marveč neutemeljeno averzijo do istospolnosti. Gre za eno pogostih oblik diskriminacije v družbi.', 'Samo, če se bodo operacije izvajale na živo in z nožem za maslo ...', 'super aste ljubosuni', 'Bog daj nam nacionaliste nazaj :( :)', 'Kako lepo bi bilo na tem svetu, če bi osnovne življenske funkcije, kot so dihanje, bitje srca.... nadzorovali možgani. To je tista zadeva, ki je \"avtorjem\" prispevkov in premnogim komentatorjem na tem portalu kronično primanjkuje!', 'Itta vidva u tri pizde materne, pa se pederajzita kolk vama paše..zarad mene tud če se gresta z nožem predigro...', 'Boga zena. Cist presrana.', 'Vse religije so krive jaz tu ne vidim nobene razlike', 'fuj', 'Govoriš traparije..Primc samo gasss!!!', 'Peder', 'Nova je globoko v gnojnici, poden od podna. Da vas ni sram, da se enkrat sklicujete na krscanske vrednote in moralo, v naslednjem clanku pa teptate te vrednote v celoti, ko s popolnoma nepreverjenimi informacijami pumpate slovensko javnost zaradi politicnih ciljev ene politicne stranke. Izgubil tudi vse spostovanje do Mamica, prodana dusa brez kancka morale.', 'Glede na podobnost črk obstaja možnost, da je tole oboje napisala ista roka....žalostno !', 'Zamisli se ti rajš kolk je pederačin in kolkorat še lahko pride do takšnih krvavih prediger !!!', 'Ne odneha,kaj je naša beseda,saj se mi ne strinjamo,a ona vleče ta smrdljivi voz naprej,,,,', 'Poslušaj ti Sulejman veličastni! Prvič: Nisem smrkavec. Drugič: Če kdorkoli karkoli objavi na spletu in se z njim ne strinjam, imam USTAVNO pravico izrazit svoje mnenje in se me ne more kazensko preganjat (ok, do določene mere). Tretjič: Še zmeraj stojim za svojo objavo!', 'Kaj boli, ko si takšen debil?😂', 'pesem za en kurac osbnost pa za ustrelit', 'NESPOSOBNEŽI PIŠEJO ZAKONE PM', 'Mediji pač objavljajo kar pač urednik zahteva, za njim pa stoji politika. Tako pač je. Sicer pa ko je znani SDS politik raztrgal ritko znanemu televizijcu, se ni nič objavilo. Pač stvar politike in koristi.', 'Na vsak način, pa če tudi z glavo skozi zid, kdaj se bodo že streznili in odšli, a ni bilo že zadosti škode?', 'Pricakuje se, da se izbere pesem, ki ima svojo zmagovalno noto ... Pri milem Bogu, kaj je v tej pesmi zmagovalnega? ... In potem se clovek vprasa kaksni so kriteriji ???', 'Legenda. Takih se nam manjka, da bi naredili red !', 'Narobe svet je to da ne sprejmete drugačnih!', 'Problem je ravno v tem, ker vsi hočejo nekaj dokazat z nekim glupim videzom. NAPAKA! pokažite s svojimi dejanji na drugačen, normalen, človeški način . Prej boste dosegli tisto, kar želite,...', 'Boli me k**** za njega/ njo!!', 'Evrovizije ne bom več spremljal odkar tam nastopajo Marsovci ......', 'Ti si prfuknena, al ti pa paše u rit.', 'zver', 'Homofobi! Res ste grozni ! Človek si upa in prav je tako ! Bravo Conchita !', 'Ta pisun ima IQ pod 50.👎', 'Če bi prispevek bil pošten ga ne bi blokirali', 'ja kaj bi še radi ti buzeki', 'kam to pelje ta svet,pa otroci gledaju,in pojasni jim teta z brado,ali stric v kikli.', 'Bolano!!', 'Malo Jezus malo Zlodej', 'Slej ko prej bo zakon sprejet v korist istospolnim parom...sam serejo kvake...vse to zaman, res zguba cajta...svet gre naprej...', 'GHB se jemlje v manjsih dozah kot rekreacijska droga.', 'po tem nastopu se prav vidi, kam svet gre...........', 'Spaka naj gre v cirkus pet in pa ta evrovizija je en cirkuski sov ne pa evrovizija bolj si cuden in mas neumno pesem z sovom prej bos zmagu .....', 'wtf', 'Katastrofa..brez comentarja .prosim vas lepooo..!', 'po komentarih sodeč se spet vidi, da je večina slovenskega naroda nazadnjaška in ne sprejema nič drugačnega od sebe, kritizira vse po vrsti, in da niso inovativni itd. itd.... Ni čudno, da je naša država takšna kot je. Škoda.', 'Tatjana, tudi za naravno prikrajšane mora obstrajati kakšna TV..... :)', 'Ja, saj vsi varujejo(mo) podatke o teh zgagah, sploh pa moramo pri teh komentarjih biti skrajno pazljivi, kako jih nazivamo in ne samo to, ampak celo skrajno spoštljivi. Ne smemo jih označiti za na@ciste, ne smemo napisat, da so mus@limanska goveda ali podobno. Ko sem nekaj dni nazaj to napisala, so me za 24 ur blokirali na FB in v angleškem jeziku pripisali cel spisek besed in stavkov, da sem ne vem kaj kršila....in res me zanima, kdo dela to cenzuro da vse prevoha in kdo razume vsako besedo, ki jo napišemo. Potem pa zahtevam, da mi to tudi obrazloži v mojem jeziku oziroma poda obrazložitev, kaj smem in kaj ne smem. Sicer pa tudi če ne, očitno itak nič ne smemo, lahko kritiziramo Slovence, tudi predsednika in to zelo žaljivo, pa se vse sprejme in nič ne briše. Ko pa je beseda o migrantih, lahko ob taki novici le zajavkamo OJOJ, to je verjetno največ, kar še smemo....le tako naprej, saj nam bodo dobro plačali in to vsem, tudi vam, ki delate inventuro in cenzuro v komentarjih.', 'Ta komentar je popolnoma brezvezen in brez smisla 😃', 'Idiotizem bo prevladal pamet !!!!!', 'Ti si pa sumljivo dobro informiran. Človek bi pomislil, da si bil zraven....', 'Dej ljudje pač je zmagau, pa kaj če je transexualec? A smo tako zaprti? Ne morem verjet da je Cankar pisau prau -.-. Prava konzerva je tale naša dolina Šentflorjanska. Dejansko je tle nekdo napisau da bi rad Hitlerja nazaj....WTF ljudje?? Se zavedate da slovani smo bli tudi na spisku za odstranitev?', 'Pride domov sinek u oblekci, petkah, zelo lepo namazan in z mikrofonom v roki, mu reče foter \"pa dobro pubec kaj ti si peder\" , odvrne sinek :\"neee oči jaz sem pa Conchita Wurst\" :)))) hehe', 'No glavn, da do pedrov niso izgubili spoštovanja !!!', 'brez veze komentirat no ane sej smo mi tudi imeli sestra ane se spomnite slovenija ni nič bolša .....', 'Luka Aber Slovenski Sej ni sam kriv zaradi imena in priimka. Ravno tako je človek kot jaz. Edino malo bolj je zamaknjen in neizobražen. Če pa se slučajno klanja k alahu, si zopet ni sam kriv. Se mi pa smili.', 'A se vi zajebavate.največje pokole v zgodovini so naredili kristjani v imenu boga a ste se uprasal kok drugih ljudi umre vsako minuto.ce se delite ljudi po veri ste pa zelo napredni.', 'Kako bo sodišče odločilo oz. ali bo sodba poštena ali ne ni, na nas da sodimo. Če ima kdorkoli dokaz, ki bo/bi spremenil odločbo ima vso možnost, da to predstavi. Definitivno pa ni na množici, da sodi o tem kdo je nedolžen in kdo ne. Ker vsi najraje videli kri. Še najbolj veseli bi bili, če bi lahko kamenjali domnevne storilce. Še vedno velja kruha in iger. Samo, da lahko s prstom kažemo in, da se nekoga v drek porine. Vsi dobiji trdega na to! Medtem, ko je poštenost in integriteta stvar preteklosti.', 'Koliko star gnoj in odkod, je načečkal to gnilobo?', 'naj se raje spravijo delat, ne pa da zivijo na nas racun,..vsi ti politiki so paraziti.', 'niti avstrija ni več to kar je bila v preteklosti resna in vplivna država.....minister golobradec,pevec bradata pošast.', 'Jedna of najljepsih zena, podsjeca me na baku!', 'Se strinjam s Sandi Belina...pustite človeka naj počiva v miru. Pa pometajte pred svojim pragom. Sram vas je lahko da pišete take komentarje...', 'Erik: oni ne vejo nič. Radi bi se crkljali to je pa vse. Narava je moški plus ženska in to je to. NE PAMETUJ.', 'Hvala bogu, se pri nas oz celi evropi bi se mogu ta zakon uvest', '😂😂😂😂😂😂 lol', 'Grozaaaaaaa.......', 'chiquita banana medžu nogama.', '.....ta TV je EKSTREMNA (čitaj ekstremistična)....tako kot Severno korejska ,ISIS,ipd. .....vsak pameten slovenec si ustvari svoje mnenje,neevi ne desni,ne sredinski,itd. nas niso pripeljali NIKAMOR! Smo skorumpirana dežela,nismo več druga Švica-ravno zaradi vseh strank,ki so vladale...med temi so tudi bivši spreobrnjenci......čitaj JJ, Leljak,itd......SMRDLJIVCI,ki nmajo pametnejšega dela.....', 'https://youtu.be/h88bKC-Ko5Y', 'Pridni LEVI FAŠISTI. Spet ste sodelovali, kot se od vas tudi pričakuje. Pridno komentirajte še naprej. Dvigujete nam gledanost in ceno. POHVALNO!', 'NAROBE SVET !!', 'ma kolk je lepa :-) nehite vi revezi, druzga ne znate kot kritizirat. v rit si vtaknite vase ozkoglede poglede, in upam, da se vamrit temeljito zamasi. slovenia, majhna si ne le geografsko, pac pa tudi v srcu :-(', 'To pa je neokusno...pa nisem zahojena...samo naj bo crno ali pa belo', 'peder ...kam se svet pelje???', 'Ta gospa je gnoj nad gnoji naj svoko cerkev pedopilsko sovrazi sami pedofile imajo to se naj vprasa', 'Meni so pa grozni umazani po duši. Tisti, ki mučijo psihično, fizično poštene delovne ljudi. Koliko ljudi, živali je lačnih na dnu preživetja. Spolnost je zame intima posameznika. In škoda besed za tiste, ki tega ne razumejo. Da ne bo pomote ne jaz-ne nihče od mojih ni homoseksualec. Hvala.', 'Spakovizija uberalles!!!', 'Kdo je to???????', 'pravi talent', 'Pišete neumnosti....zatorej si najprej preberite, kakšne so naloge zagovornika.Če bi bil hetero desničar, bi pa lahko sledil VSEM načelom enakosti?', 'pederčina jedna', 'Vsak se lahko z vsakim druži do neke meje,tudi jaz ima dva geja za prijatelja in sta daleč najbolj prijazna ter poštena,ampak to je samo prijateljstvo....ki ne gre čez mejo...', 'Pozabili ste na GHB pri Cakicu☠', 'Boris as božič Al kva', 'Bratko!:-)', 'Take hude lobije, kot je homoseksualen, bi bilo treba razbiti, ker to ni za nikamor. Ljudje imamo pravico vedeti resnico! Če Nova TV piše resnico, potem ji vsaka čast. Če je to, kar pišejo izmišljeno, potem bi bilo pa potrebno ukiniti Novo24TV.', 'A si preprican smrkavec.lahko te prijavim da siris versko nestrpnost.', 'Ja lesbe,pa Pedri naredite si svoje morda vam uspe,hehehe....)', 'ti si hćerko mamin sin :P', 'Nestrpnost se kaže v podpiranju multi-kulti, LGBT in vseh drugih deviacij, degeneracij in nenormalnosti.', 'mone zarukane. devianti...', 'Vse bolj se mi dozdeva, da uvažajo ljudi, ki bodo delali za nekaj evrov na mesec, nas pa zastrupljajo', 'Kreteni pederski', 'K bi js zmagu na svetovnem prvenstvu v baletu', 'nova pravla za evrovizijo. bolj ko si grd več imaš šans da zmagaš', 'Cirkusvizija, pesmi pa so itak pol ali pa vse prepisane. Tale je pol od Bon Jovija (I will always...), pol Tina Turner (Golden eye).', 'jaz pa enostavno ne verjamem da smo slovenci glasovali za avstrijo saj smo jim dali 12 točk.Ne verjamem !!!!', 'iz kje je prišel zračna line domov', 'Saj pa kaj več od nje ni bilo za pričakovat!', 'kot ženska bi bil lep(verjetno mu je katera fouš),kot moški oz fant je pa tud simpatičen....kdor si upa si upa....kaj pa je normalno ....verjetno pa so za vas normalni naši politiki,ki nas bodo uničili....to so šele spake....itd......vsako živo bitje ima pravico živet....grdi ste v dušo...', '> Pred mnogimi leti je imela severna soseda turistični projekt, kjer bi zanemarili dotedanji družinski turizem in naj bi se posvetili bolj buzarantskemu turizmu. Ugotovili so v svoji analizi, da buzaranti več trošijo. No sedaj so prišli na \"pozabljeni\" projekt skozi zadnja vrata. Prav gotovo je zgornja sosedada dala izdaten turistični vložek za povečanje buzarantskega turizma. Menim, da gre za turistično varianto turistične zmage \"shemale\" severne sosede in €pe. Živi bili, pa videli rezultate te \"zmage\".', 'Nikol ne ves', 'Niti ne. Gre se bolj za zdravo kmečko pamet. Če želiš zapravljati je potrebno zaslužiti. Kakšen pa sploh je njihov prispevek družbi?!?!', 'Jesus with makeup and nails -.^', 'Jaz pa vidim, da Slovencem ni več pomoči, zato pa smo tam kjer smo. Vsi negativni komentarji nad zmagovalcem-zmagovalko, sodite po videzu. Upam, da bodo nekoč kaj takega nardili vaši otroci, a se jim boste odrekli in jih tako zmerjali, kot zdaj tu zmerjate zmagovalca?', 'Zakaj mediji in policija molčijo o motivu umora ??? Ob prvi informaciji, ki sem jo o umoru zaznal v medijih, se mi je porajala slika in motiv umora. Postavlja se vprašanje, kdo je v zadevi \"prava oz. resnična žrtev\". Kdo je bil pred leti v Ljubljani dejanska žrtev, ko so psi pokončali lastnika ??? Človek ali živali.. Da bi pa preusmerili pozornost udeleženih elit, so v primeru ovadili vodjo izmene OKC PU Ljubljana. Sramota !!! Enostavno se mi gnusijo te pokvarjene elite v udeleženih aferah, osebno pa menim, da bodo sodni organi in strokovnjaki, ki bodo v primeru sodelovali z mnenji, znali oceniti kdo je v zadnji zadevi dejanska žrtev....', 'Pozabljamo da smo mi poslali sestre ki so ble katastrofa pa toliko dobrih pevcev imamo kje ste bili takrat z svojimi kritikami', 'Gnoj gnili fuj', 'https://youtu.be/sR4uyMjUnDI', 'Ce bi se kak župnik stisnu kakega otroka bi se takoj delali bolj pametne od riti,ko pa slišiš da naj bi bil urednik al voditelj -kar je že bil-otroške oddaje na \"slovenski\"televiziji -drzavni instituciji,ki jo moramo podpirat in gledat vsi slovenci-peder,ja zdej pa bodmo vsi tihi in humani;na bruhanje mi gra', 'Pa ce neb bil totalna sema nben neb 2x pesmi poslusu...k pa itak ni cist nc exstra!', 'Freak show', 'Ce ima dolge lase in makeup se nE pomen da je zenska.', 'Ja se opravičujem tistim, ki so kljub svojemu poreklu se vedno dobri in častni ljudje. Ker jih je, zelo veliko. Celo boljših od marsikaterega Slovenca. Samo tej primeri pa so primitivizem do konca, da človek nima besed in jih je tudi Škoda, za take smrduhe.', 'neokusno, on ona in pesem', 'Sramota eurovizija! Avstrija se komaj uvrstilaa in pol zmaga za 50 tock?! Plus to da pesem je kopirana iz jamesa bonda!', 'fujj nagravnež en. Barbara Petrovič pa ne pisat v žensem spolu, ker za enkrat je še moški. To je norčevanje iz žensk. Ni si zaslužil zmage nima nič od naštetega kar si ti opisala, zmagal je zato, ker je eurosong znan po zbiranju pe....Blo dost boljših...Gnusi se mi ga gledat bljek...', 'Kadar češ', 'Svasta majko rodi samo para nece', 'zmagal je samo zaradi izgleda in ničesar drugega!', 'Res je - velika sporočilna vrednost ....ki jo žal mnogi v svojih fobijah spregledajo....ljudje,ki so samozavestni in imajo dobro samopodobo z lahkoto sprejmejo njegovo zunanjost in z lahkoto razumejo globino njegovega spročila....', 'Joj ko citas komentarje se samo uprasas......s kakimi ljudmi zivis', 'To kar so vabili to zdaj imajo!', 'grdavš', 'Jaz bi reku da je vera ubila največ ljudi in še zmeraj ubija primerjat vero in ideologijo ter se spraševat kdo je več ljudi ubil je bolno. Oboje je zame en fakin šit', '> To je €pa.', 'punca z brki in vijolčna kravica........', 'Dejte umsko zaostali telici dopovedat da je nesposobna. Migrantom vse, nekateri tudi težji bolniki npr. srčni pa brez strehe nad glavo.', 'Sploh ko komentirajo ljudje, ki jim je višek kulture frajtonarca.', 'Nihče pa se ni vprašal kako bo družba sprejela tega otroka... To sploh ni dvoma da bi oboji starši lepo skrbeli za otroka ampak problem se pojavi pri družbi...', 'g.renato dabogda ti zet sede SCAL a snaha stoje...', 'taprava klobasa ;) hehehe', 'Ratatatatatata! MARŠ!', 'zapel najbolje in bravo,ni važno kakšen si......', 'Take brezvezne mate,daj se poglejte v ogledalo,pa v svojim pragom vso to nesnago spucaje,pa potem vec ne boste meli cajta blatit drugih', \"Tudi hetero pari, ki potrebujejo umetno oploditev, ne morejo imeti otrok po 'naravni' poti.\", 'Tako je Drago,v poduk drugim pedrom,preden se podajo v tako dejanje.', 'Hahaha Europe full of freakz!!!', 'Ne razumem kaj mi hoces povedat.', 'Andraž Kovač, k sva se zanc pogovarjala :D', 'Izgublja pamet ?', 'lahko si kar hočeš biti,to je naša pravica,pesem je fantastična,to je umetnost', 'STRINJAM SE', 'sexy ...', 'Tile strahopetci, ki pišejo te nebuloze, niso vstanju zaklati piščanca, kaj šele kaj drugega! Odidite nazaj v hosto zombiji!!', 'Potem še pa kar naprej trosi laži na TV3.', 'Naj si jih naredijo otroke sami kot ostali pari. 😃😄', 'Komunistični bedaki rdečega prepričanja kradejo uničujejo proizvodnjo in zlorabajo homoseksualnost v šolah ker so sami težki toplvodarji.', 'ne, nisem homofob!', 'Ves čas govoriš da sovražni govor tukaj nima mesta sam pa počneš ravno to ko ti stopi kdo na prste. Prvo pred svojim pragom pometi!', 'prvo kot prvo se upraš ali pošteno mediji poročajo,nova24 Tv je tudi medij,kaj tukaj mešaš politiko,Tič je bil kar je bil to ti dam pa prav.', 'ne vem če ti je pa kolo isto k otrok pol pa nevem res kdo je zaostal', 'Bi rad spoznal definicijo zlorabe in nasilja ?', 'Hehe...vsak zagovarja svoja stslišče, usmirjenost...jz pač svojega, kajti sem čist normaln človek in zelo ponosen nase, in moje starše, da nisem izrodek v smislu pederajziranja !!! Družba pokvarjena ste pa vsi vi ki to ste in to zagovarjate !!! Vse pedre na goli otok, pa lejzbike zraven pol se pa fukajte na počes kolkor vam paše !!!', 'blokirano je, da ne moreš deliti naprej!!! :) Mt', 'saj veš kako pravijo.. Nisu sve budale iste, neke su diplomirane ;)', 'Na bruhanje mi že gre vse skupaj.. Nimate kaj drugega pisati, kot samo eteh pederščini... Koliko ljudi na svetu nasilne smrti, ali v prometni nesreči umre, pa se nihče ne sekira..', 'Tej Mrakovi pa se že malo kisa pa........', 'Se bojim da bodo tega fanta pripeljali tja kamor so ravnatelja...pa če je kriu al ne, nima sans proti tem dvolicnim pokvarjencem', 'za kkozlat!!! bolj kot to pa me moti, da gre denar, katerega moramo mesečno donirati nacionalki, tudi v namene evrovizije! ne hrepenim po slovenski zmagi v evrovizijski kuhinji, le ne vidim potrebe, da se slovenija udeležuje tega tekmovanja. šov je namenjen zgolj in samo vedno istim posameznikom, z izjemo izvajalcev, ki se imajo fino kar dvakrat fino na račun davkoplačevalcev in istočasno obveznih zavezancev za plačevanje rtv naročnine, čeravno na njihove kanale preklopi malo le-teh. lahko ga je srati in z drekom razmetavati na tuj račun!', 'Ali je bil morilec Cakić celo noč privezan v lokalu??Verjetno mu je pasalo pijančevanje ....in ja res je.. samo blaznež-kar Cakić je...zabode petnajstkrat človeka s katerim je celo noč pil.Meni je vseeno kdo s kom spi,pije,seksa...!Ni mi pa vseeno,da ugibate,žalite...človeka,ki se ne more braniti,ki ga je nekdo nagnusno umoril.', 'Vojko svoboda odlocanja.tebe tud noben ne sili kero zensko bos imel.ampak si sam izbiras.', 'desni kretenčki', 'Glede na to kdo dela in podpira Eurovizijo, ni zmaga nobeno presenečenje. 3x FuuuJ !!!', 'Mal je manjkal, da bi po dolgih letih kičastih hermafroditov, transvestitov in ostalih odrskih šem, dobili eno lepo, spevno in melodično EU vižo (Nizozemska)... tko pa... Eeeehh /o\\\\', 'Pred zakonom bi morali biti vsi enaki. Ne glede na polozaj in vpliv, ki ga ima posameznik v neki druzbi. Kaj se je takrat resnicno dogajalo vrjetno ne bomo nikoli izvedeli. Mi je pa resnicno zal za nic krive svojce, ki sedaj dozivljajo pravi medijski linc ceprav s tem nimajo popolnoma nic.', 'Nič čudnega da gre vse k vragu😈😈😈😈😈', 'Zdej se zbira po zgodovini in zivljenju pevca/pevke ne pa po komadu ker tale je biu od useh najslabsi. Pa nek attention seeker... dej stari odloc se a bos moski al bos zenska pa dej si raj joske povecat ce hoces da te folk opazi kr tole se mi gabi. Sej uredu da ma tip brado pa urejeno pa use... AMPAK NE ZRAUN OBLEKO PA ZENSKO LASULJO! sramota za zenske IN moske! Za celo Evropo!!', '👏👏👏👏👏', 'Kateri \"ljudje\" pišejo v komentarjih: \"še premalo smo vas pobili\" ali pa \"v Hudi jami je spet prostor\"? Odgovor je jasen, kdo so! Marjan, očitno je nekaj na tem .... Drugače pa se popolnoma strinjam s tabo.', 'Če temu stvoru pravite ženska žalite nežnejši spol', 'Se ne strinjam s tem. Tič je umrl, ga ni več, medtem ko je 20 letni fant v priporu.mislim da je prov da se razišče kaj in kako se je dogajalo da nebo na koncu zarad branjenja nekega imena nastradal še nekdo...', 'Fuj', 'Kaj ima Berićević ki je zlorabljal pse...z Gašperjem??Pa malo pazi na izbor svojih besed in ne sodi po sebi!!', 'Olga se ne boji rdeče morale!😎', 'al pa otroci ki so sirote, brez staršev kako se pa oni počutijo a njih pa noben ne zajebava ??? dej prosim sami predsodki!!!', 'Cak mal almir raj si preber tvoj comment again..kir close minded person Si..homofob pa cist nc druzga', 'Sej ti si tud homoseksulec resnica boli samo dejstva so dejstva ispirjenost kvazi elite ne pozna meja ste pozabili zdravnika Bericevica z psi kdo ves je baje hodil k njemu.... in razne orgije in ispirjena sexsualnost se je od zmeraj dogojala v kvazi eliti', 'postavlja se vprašanje samoobrambe! A bi se 20 letnik moral kloniti posilstvu? Okuženo razmišljanje! SEDAJ PA VSI TIHO, JE DEVIZA RDEČE KULTURE!', 'A mi to grozis Aleš Lorbek.nerabis se pozanimat kdo te je prijavil a dam ti se naslov.', 'A se sam men zdi al je blazno podobn kim kardasian', 'Tipicno slovensko razmislanje kjer ne sprejmete drugacnosti.', 'Sramota', 'To si sami pišejo,da si dvigujejo popularnost', 'Kot bi rekli srbi obična pederčina', 'ne vem zakaj taka kritika,je pač drugačen in se ga ne bi smelo soditi zaradi njegovega videza,si pač upa,mu čestitami', 'IQ ima na nivoju opice.....', 'kdo sploh še spremlja to burlesko od Evrovizije??', 'Seva so tiho kr jih je sram...hehe..', 'Sej to je to !!! Pedri so vse povsod ...od cerkva, šolstva, politike, gospodarstva....še sanja se nam ne kolk je te drhali....kdo je žrtev ??? Jz bom mirne duše reku, da po moje tist, ki je bil napaden z tičem !!! Torej Tič z tičem po moje že ne !!!', 'Gre preprosto za to, da se cloveskim ocem upira pogled na telo, ki je obenem mosko in zensko. Nimam nic proti transseksualcem ali homoseksualcem, ampak to zame ni transseksualnost. Kot moski in kot clovek rad vidim zensko (in moskega), pogled na mesanico tega dvojega pa se mi po naravi upira. Moski naj bo moski, zenska pa zenska, cetudi s pomocjo umetne spremembe spola.', 'Ni znakov izgube živcev, v kateri minuti bi to naj bilo ??? Manjkajo še samo kužki in že smo doma v Szloveniji...', 'Neue österreiche Spezialität:', 'Bravo Sandi', 'He was fab!;) odlicna pesem in glas:) in zasluzena zmaga^^', 'Spak nagravžen,brrrr...', 'Ni mi vsec in nic ne berem, kar je v zvezi saj ni ne zensa ne moski.', 'Bravo dober je', 'Bravo predlog za se en referendum ki bo vsaj imel smisel. Ocitno ima drzava prevec denarja za referendume posebej ko se gre o clovekovih pravicah za kar GA NE BI SMELO BITI!', 'prvo, ce se ze gremo neko evrovizijo potem naj vsaka drzava ki jo posameznik prestavlja poje v svojem jeziku.....drugo, to vec ni evrovizija ampak nek \"cirkus\" v kateraga gre ogromno denarja. tretje, gospa ali gospod ni zmagal zato ker je imal/a dobro pesem ampak ker \"so si zmislili\" da je v modi \"sprejemanje\".... nekdo ki je zaprt ne bo nikoli tega sprejel tisti ki pa je odprt pa mu to ne bo povzrocalo tezav zato take \"cudne lutke\" nerabijo delat reklame na evroviziji.... to kar si posameznik zeli bit naj bo osebno me ne moti, moti pa me da nam to \"vsiljujejo\" na taksnih prireditvah. oprostite ampak v vseh stvareh pa morajo bit nekje meje pa tudi ce so zameglene.....', 'Lepo od njega, sej njegovi cilji so super, vendar kaj ima to z glasbo......komad ni bil dober in pika, so bili boljši', 'Cist fasisticne izjave so to! Isto retoriko imajo kot ostali neo fasisti po celi EU! Se posebaj kopirajo lazi od nemskih trolov!!😕', 'Kaj otroci nimajo staršev, da se temu uprejo?', 'homofobi so vam zelo všeč, kajne?', '..sam sranje je ta evrovizija, zdej se ženske ne bodo več brile', 'kontra.....', 'Za kozlat, na garmado pa zazgat :)', 'Fuj', 'Ja, v rit! To imamo radi, kajne?', 'bla,kar nekaj se spomni', 'Meni ste pa vi z vašimi samo pomilujočimi, pozornosti žejnimi komentarji in posti na FB, pa kaj čmo. PS: tisti recept mavrične tortice pa je v bistvu replika LGBT zastave. Toliko o tem ....', '😂', 'karkoli že je, meni zmagovalna pesem sploh ni všeč', 'pederu mrs svoju rogeni materi', 'Evropa je bila z mečem spreobrnjena v Rimokatoliški kult....Večina papežev je bila morilcev,pedofilov,da o incestih niti ne govorimo....Komaj zadnjih 150 let,ko je RKC izgubila vpliv se je stanje (nekoliko) normaliziralo.....Ne žali drugih ver če je tvoja še slabša....', 'iiiiiiiiiiiii lepi hahahaha', 'sramota da lahk gre sploh taka na oder pred tulk ljudi adijo pamet', 'Obup,.', 'Ni problem videza....zaradi mene bi lahko zmagal nekdo, ki hodi okrog v pando oblecen....meni osebno ta PESEM ni bila pretirano vsec, ja za med prvo polovico ma ne za zmagat.', 'Vi niste nič razkrili ali odkrili!!!VI zgolj natolcujete,ugibate in si izmišljate zgodbice!!Kaj vam je storil Gašper?Kaj ste vi naredili za Slovensko kulturo??Ste bili na kraju zločina??Cakić je bil izurjen morilec in homoseksualec...kaj če je zgodba ravno obratna!?!Gašper,počivaj v miru...vas pa je lahko samo sram!', 'Moti svoje glavo sklepanje, namerno povzel po tebi tako kot ti pomeni pa je moteče kajne', '<3', 'Danica pravilno ste napisali', 'Vest, ja vest bi morala biti tista, ampak eni je nimajo, recimo JJ', 'Še najboljše je počakati poročilo policije...že to je čudno zakaj je član tujske legije sploh popival z g Tičem...gotovo je vedel za njegovo usmerjenost in da ne prenaša najbolje alkohola.Pri umorih je bistven motiv torej ali je imel njegov morilec motiv ali pa je šlo zgolj za dejanje pod vplivom alkohola in čustev?', 'Naj se raj ukvarjajo s tem kuk muslimanov spuščajo v državo in kot vemo so zelo nenaklonjeni gejem in lezbijkam tko da si lahka zakon v rit zataknete.Ne bo nič pomagu,žal', 'TO PA TI JE TRANSSEKSUALC...nimam nič prot sam dodobra razjezlo truplo bog si ga vedi ka je....... razjezlo slovenčke :D', 'A se ni sel za pastirja korl 🙂', 'tudi, če bi bil Japonec, dol mi visi kake narodnosti je. Glede na to, da je imel Tič v preteklosti že težave zaradi spolnega nadlegovanja in glede na to, da je imel Cakić v krvi drogo za posiljevanje, ne vem vam je treba narisat, da boste dojel koliko je ura?', 'Kot Jezus v ženski izvedbi', 'Eh še kar naprej gonijo svoje sranje...', 'Zakaj nas morte posiljevat ,da to gledamo... sami duševni bolniki (tra...,pe...,lez...,pedo...,itd),zgleda ,da nič ne šteje videz in glas... pol se pa zgražate ,če otrok gleda porno al pa vojne filme... Mene nič ne motjo spolno moteni samo ne mi vsiljevat ...nej imajo svoje pa naj gleda ker hoče ....svinjarija....', 'Kolko mu je soros v zep stisnil ???', 'Prav je da se objavi resnica, ki naj jo pove policija. Pubeca so tudi vsi prvi dan krizali samo zato ker je Tic bil.medijska osebnost. Pa da vidimo al je bil navaden g. TIČ ali obicn Kurac', 'katastrofa, kolk je Tinkara bla bolša pa ne morš verjet!!! Eurovizija ena sama maškarada in farsa! ne gledam več :(', 'Kar ne bo gnusdorferca popluvala bo pa, kva so že nekej v \"povezavi za pravice enakosti??? popluval. BJAK BLJAK, boga Slovenija, kam pele levičarska klika.', '??? kaka zloraba??', 'Kaj pa hetero pari, ki ne morejo imeti otrok? So oni normalni?', 'Puj pederu jedno', 'ce bi praznovali v 68 bi bili le kmecka revna provinca Avstrije brez nobene industrije in nobenega omembe vrednega razvitega gospodarstva. Tako pa smo ustvarili podjetja, ki so imela 20 milijonski trg, itn. Ne hvala. Rdeca pravila pa so prisotna le v vasi shizofreni glavi.', 'Ko ni argumenta se zapicimo v fasada heh.', 'ja....samo glej takrat so vsi vedli da so to tipi pa noben ni mel nič proti....zaj pa kr je on mel brado je pa vse narobe', 'Kristusss.', 'Pa od tebe? Od tvojega vrhunskega komentarja? Kako lahko takšna inTELEktualka izgublja čas s komentiranjem tako obupnega medija :O', 'Sedaj pa vidim, da je svet ponorel, takih lepih peuk in pevcev pa tudi bolše pesmi kod je pel teta in stric, bradati, da ne rečem kaj pa to je katastrofa,kaj so bili presileni da so glasali skoraj vsi za Austrijo,al za toplovodarja???!!!....zato pa jemle vse hudič???', 'to je bil copy paste, ni zrastlo na mojem zelniku.drzgače se pa nekako strinjam s tabo. kot je rekel Morgan Freeman: \"I hate the word homophobia. It\\'s not a phobia. You are not scared. You are an asshole.\" ;)', 'kdo bi si dau fejk priimek wurst?', 'Lukec, zakaj pa si ti tak fomohob, a misliš da je to lepo in prav!', 'Drugo leto gre salome paje zmaga naša !!!! Sramotno', 'Pričakovano...', 'Pederski smrad..Pfujjjjjj!!', 'Ne vem kako bo to slo Pri muslimanih so pedri prepovedani - smrtna kazen Kaj sele poroke in posvojitve dusevno bolne pa itak sami pobijejo v druzini Vi k tako navijate za migrante str pa se za pedrski zakon Pravi paradox', 'Sejo, a teb kaj ni jasno? Boš pojedel celega odojka, zraven spil 3 šnopse in močno hvalil oboje, si razumel!', 'Jaz pa bi tebe v šolo poslal, da se slovensko naučiš.', 'Petra, ti kr zase skrb, da ti jo ne bodo prevec zlizale, pa da ti kšna hrenovka ne ustane v tamali !!! Moji so pa vsi vzgledni in pravilno usmerjeni in na to sem zelo ponosen !!! Ne bi pa tega rekel za tvoje starše !!!', 'Daj ti dripec čefurski Metanovićki ne žali ljudi. Smrad', 'pejd se obesit itk nas je ze prevec', 'Ej pedrov pa tulk, da ne morš verjet pa to kulturnih, da nau pomote !!! Pr 40tih pa vsi vrečke noste !!! Hehe...ko vas jebe. .', 'Ti slišiš travo rast', 'naša tinkara ful dobra', 'Propaganda pac,ce verjamete.A zdej boste pa rekli,da je Ivana Krambergerja ubil on pijanec ki je komi stal na nogah?Ja prikrivajo nam marsikaj tist,ko je pameten ze ve koliko je ura', 'A ni blo včasih po cirkusih? :)', 'Nizozemci in svicarji zasluzli zmago :S', 'Sam sestre so ble obrite :)', 'Uboga ženska, torej je res prikrajšana in jo nima.', 'Vse bolj diši po scenariju Bukarešta.', 'Mater saj ne morem verjet v kaki drzavi sem se rodila!Ogabni ste..Nova24TV.Ogabni do konca!', 'Zbiralisce najvecjih bolnikov je svet24.....samo da smo si na jasnem.....da mate sploh zelodec to brat, pa se obremenjevat s tem dost pove', 'Se strinjam.', 'Men je komad total dober in vrhunsko odpet! Je pa res, da je k zmagi verjetno tud veliko prispeval videz izvajalca. Pa kaj??? Očitno je ljudem všeč. Glasovanje je to potrdilo. Bravo!!!', 'Točno tako uničujejo klasične družine in postavljajo če hude kriterij če imaš stanovanje v okolici lj. Dobro organizirana okupatorji na finančnem področju.', 'En buzrnt manj ni bed', 'skoda denarja si zamislite da bi zmagali?kolko denarja ha hA ZE TAKO NAM ZATISKAJO ELASTIKO NA GATAH nasa tinkara je dokazala nam in vsem kar se tice pedrov in lezbac vsako tele ima svoje vesele v njihovi kuhni pa ne bi zapravljala casa', 'KEKCI OPRANIH MOŽGANOV GLEDAJO OD KOD PRITEKA DENAR🐣😴', 'ma nehaj dejj svet bo kmalu poun pedrov', 'derpe', 'Bravo', 'Njene knjige bi morali prepovedati', 'Bogovi so padli na glavo....', 'če ti ne paše živeti v krščanski Sloveniji odidi od koder si prišel.....sprejmi ali pokaj !', 'BEDA OD BEDE,nIKOLI VEČ NE BOM GLEDAL,KER SE MI JE DOKONČNO PRISKUTLO.', 'Katastrofa', 'Kakšno vprašanje ? Seveda ne , on je tako ozko usmerjen da že kar boli !', 'lgbt prijazne šole in vrtci , to je za bruhat! Kje so starši tiho kot pi*de sramota za slovenske starše svojih šoloobveznih otrok da se temu ne uprejo.', 'SRAMOTA', 'to je kao da bi komentiro program pink tv. Zao mi je ljudi koji prate ovu bizarnu manifestaciju', 'Normalno..pedri držijo skupaj', 'Marš u p.m......', 'Če je gospa Tič poštena, bi se v primeru, da to drži, obnašala kot MAMA in zaščitila mladeniča, ki bo gnil v zaporu po nepotrebnem.', 'A ste pogruntal da ta Olga Celjska se oglaša samo takrat ko se omeni stranka sds in jj drgac pa tiho k pička', 'Bradatemu zmagovalcu ne pa zmagovalki jaha', 'Ha ha ... pa prav Avstrijcem se je zgodila ta klobasa ... bravo...čista rasa...blond pa plave učke!? Tinkara je bila glasovno prvaliga, skladba in vse špica! To ni festival glasbe...to je maškarada, saj se ve... Bravo naši.💜', 'https://www.youtube.com/watch?v=bY-VuaMinFc', 'če se počuti ženska s tem ni nič naroe, sam komad pa res ni bil za zmagat', 'Koliko še je le takšknih primitivcev kot ste vi! To se zamislite..', 'saj ne morejo iz bajte stopit brez da jih nebi nek idiojot napadal', 'imaš pa zelo visok IQ !!!', 'Kaksna enakost?Pa naj dva pedercka novga slovencka nardita.', 'ena od verboten besed je tudi:vinko', 'jebo ti pas retardiranu mater sam sebi presudi', 'Ne razazumem, zakaj ma brado? Moški ali zenska, WTF?', 'TA JE ZA NASMETISCE AROGANTEN DREK', 'Pač pa farje, ki \"ljubijo\" svoje mladoletne ovčice.', '... ce je to en sam problem,ki ga imate v Sloveniji,pol vam gre super ... za mene ste 100% EGOISTI tisti,ki grdo pisete o osebah ki so drugacni,pometajte pred svojim pragom,imate sigurno dost ...', 'lahko pa je bila samoobramba...prav kontra. Se in še ugibanj obstaja. Naj opravijo svoje delo tisti,ki morajo ugotoviti! Prepričana sem,da obstajajo price in dokazi...pika', 'samo da si ti samo budala BREZ DIPLOME in tvoj zemljak Željko Matanović.', 'Ma dejte kva mate tok proti.a otrok k pa zivi z ocetom pijancem pa mtko narkomanko je pa kul?pa starsi k posiljujejo pa tepejo svoje otroke...dajte si zamislt da tud druzine niso vse popolne', 'Tudi jaz bi ti v živo komentiral', 'ah........nova24.............kaj pa lohk pametnega od njih pričakuješ?? Nič!!', 'Eno so besede drugo pa dejanja. Dokler se bomo samo z besedami obmetavali bo gud ko pa bo padel prvi človek in drugi potem pa bo pot nazaj zmeraj težja.', 'Hapu dhe,te futemi te gjalle cfar spo na sofin syte!', 'Sicer mi njen videz ni lih všeč..ma vsaka čast, da si je sploh upala nastopit.. in bit ter vsem pokazat to kar je. Mislm da mormo bit odprti za vse \"novo\" in ne sam kritizirat :) Pesm mi je drgač kr všeč.. tako da, čestitke našim sosedom ;)', 'A te to uzburja ce bi mel svinsko glavo na sebi ne se matrat tebe nebi dal niti svojmu psu da te fuka.', 'Si upas tvojo trditev v zivo mi predstavit?', 'šus v glavo, preprosto', 'kako je pri nam s financiranjem ??????????', 'tudi vi izhajate z opice če nebi imel nič proti nebi dajal tako bolanih komentarje morda bi uspeli če bi vi kaj zapel probaJTE', 'Jezus?', 'pa kaj je zdej to zaena stvar??', 'Pa dobr kaj vm je... A pol je treba tud use dece k nimajo brade postrelit al kaj?? O.o cloveku ze tko pase da je kakrsn je... Usi k nabijate s temi glupmi komentarji tle, ste ji ocitno fous. Da bi mi nasga Murkota poslal bi pomoje se tud iz nase drzave norca delal tok da..', 'Neja, za kaj gre ob posilstvu ! ?Tič kot gay ni ravnal humano ali nad čem toliko ogabnosti, da smo razdeljeni na privilegirane Levičarje in na še ne pomorjene Desničarje! Življenj se ne da vrniti, kaj pa pokradeno, oropano, odvzeto, bi zdavnaj trebalo vrniti, rdeče riti!Bog', 'Mislim da homoseksualcev in pedofilov ne moremo ravno metat v isti koš', 'NE MOREM VERJET,DA JE PRI NAS TOLIKO PEDROV,KI SE BORIJO ZA.........', \"Kot da Normalnim Družinam,je vse poseano z rpžam,zdaj vam manjkaj samo še nove,nastale družine?????????????????????'\", 'ZDA in njihovi lobiji ta ekstremna država je kao naš vzor .Ni nam treba ponavljati njihove napake . S tem smo bolj razviti kot oni .IN ja glasoval bom PROTI.', 'Men je pa vsec,pa kaj ce je tak kot je......Bolj me skrbijo ostale bolane stvari,ki sem jih prebrale tule!', 'Bolj si zafnan ,bolj si v ospredju ,danes ne zmagaš če ......', 'Odjebite s temi pedri', 'Staro coprnico bi morali prepovedat. Veliko srečo ima, da ne živi pred 500 leti, ko bi jo po hitrem postopku spremenili v dim.', 'Da tako grdo gleda,jo nekaj zelo muči.', 'Vsi certificiranci močno povezani z MOL.', 'Vsi po vrsti.Tale je pa se posebej ogaben.', 'Stari kaj pa homofobija dela folku...', 'Meni so pa pedri grozni ..grejo mi ..zares..', 'bravo si iskren', 'Tako je Robert!', 'Kaj bi nekdo iz tujske legije počel s pedrom? Vse skupaj mal zaudarja. Če potegnemo črto pod celoten dogodek je nagib k drogi prej kot pa ritopikovstvo. Je pa zanimivo da je pol tak kekec urednik otroške oddaje. Fail kakorkoli obrnemo.', 'Kristjani trdni bodite nikogar se bat,sami bodo nasedli vse se vrača,tisti ki je začev bo zgubiv.', 'Prase grdo', 'freak', 'ja naj gre od kot je, vsaki clovek se mora prilagoditi ce svojo domovino zapusti.', 'Proti koncu leta 2016; koga VOLIŠ koga MOLIŠ in s kom & čim SEX-aš ....NAJ BO TO TVOJA OSEBNA + INTIMNA odločitev. NE pa mene in ostale javnosti obremenjevati s tvojimi intimnimi-osebnimi odločitvami v letu 2017 - lepo PROSIM.', 'Kdorkoli,karkoli se je zgodilo....nihče ampak ,prav nihče nima pravice,kar ubiti človeka...pa ni važno,kdo je? Znana ali neznana oseba.... Žal mi je za svojce,ker morajo,vso to kalvarijo prenašat in doživljat.....', 'Pa kaj je narobe z temi ljudmi mira ..', 'sranje bo zato, ker to dovolimo!', 'o, neumno ljudstvo, z bolanim umom...od kdaj je moški rodil...in od kldaj bi ženska lahko zaplodila?????', 'Najlaži je pa ubit človeka in pol govort da ga je ta dotična oseba zadrogirala in ga hotla posilt. Navsezadnje pa mislm da nima veze ce je biu Gasper homoseksualec, bil je dober človek in to šteje', 'zakaj obsojate druge na podlagi njihovega izgleda?pomembno je kak je pel/a ne kak izgleda.se vidi da NAŠA država čim bolj razpad zardi takih ljudi kot ste vi.sramota res.', 'Otrok je živo bitje to ni lutka in se ne morejo igrati. Oče in Mati in otrok to je prava krščanska druzina. To mora ostati nespremenjeno zato pojdite na referendum in glasujte PROTI temu noremu zakonu.', 'Za bruhat.....', 'Tega je res treba sprejet ja.. Muško do juče in zdaj fura nek cirkus.. In folk butast zagovarja?? Ma kakoo? Naštimaljka čista za promocijo usega izven normalnega..', 'Putin-a sicer ne obrajtam kej... Ampak s to golaznijo pa zna obračunat. Pa Čečeni tud...', 'V živalskem vrtu imaš odprta vrata.', '👍👍👍', 'halo ljudje pa kaj vam je negledajte po videzu glejte po srcu pa vsak človek si zasluži zmago neglede kakšen je vsak naj sebe oceni vsak človek ima napake nismo vsi popolni', 'Kanada <3. A je mogoče za azil zaprosit v Kanadi? Slovenija je itak na ravni Albanije in Romunije in iz teh držav so bile že odobrene prošnje za azil v Kanadi. Lahko pa tudi poročim Kanadčanko / Kanadčana za državljanstvo. Imam 2 nepremičnini na svoje ime in sem pripravljen obe prodati in izkupiček plačati nekomu, ki ima kanadsko državljanstvo v zameno za odpoved Slovenskega državljanstva. Če, kdo pozna koga, do tell!', 'bruh bruh in šeenkrat bruh', 'Z njegovo izjavo je Aleks povedal natanko to, kar je res. Mohamed je bil vojskovodja. Počasi je osvojeval mesta od Medine do Jeruzalema. Vmes pobil vse Žide in Kristjane. Posiljeval ženske in otroke (dečke in deklice), uzakonil je pedofilijo, poročil se je z devet letno deklico, ki je bila rojena kristjanka in jo je pod prisilo spreobrnil. Nimam danes dovolj časa, da opišem vse grozote, ki jo je ta majmun napravil, sledilci te ideologije pa se sklicujete na neko knjigo (koran, če se ne motim) in opravičujte vse to - od posiljevanja, obglavljenja ne muslimanov, ... In ti to ščitiš? Potem, oprosti, nimaš v Evropi kaj iskat. Evropa je zgrajena na krščanskih vrednotah, pa če hočeš ali nočeš. To so zgodovinska dejstva. Vsi isto misleči - ČE VAM KAJ NE PAŠE, MARŠ DOL PA TAM OBGLAVLJAJTE IN POSILJUJTE KOGAR HOČETE. Tu vam ne bo uspelo. PIKA!', 'totalno bolan svet..kakšn vzgled dajemo otrokom za koga ljudje glasujejo sramota !!!!!!!!!!!!!!!!!!!!!!!!!!!!!!!!!!!!!!!!', 'Si pozabil napisat, koliko milijonov ljudi je bilo pobitih zaradi ideologije? Stalin je pred vojno dal pobit več ljudi kot je Hitlerju uspelo. Da ne govorim o Kitajski. Tu je še Stalin dijak!', 'a je po novem evrovizija za spake', 'ce vam ne pase enostavno ne glejte, ampak poslusajte gmad zahojena slovenska', 'marš', 'kaj pa trosiš laži in neumnosti saj se vidi kako se pišeš ! če ti kaj v krščanski sloveniji ne paše se lahko mile volje izseliš v kako drugo državo ki bo tebi po godu, ti si priseljenec in si prišel prostovoljno, nihče te ni vabil in klical, sprejmi ali odidi', 'Peder eden.........', 'pa so res že vsi čez les prekleta banda zabita in nesposobna', 'Tudi men je vsec kritike na nekoga ki nobenemu ne skodi politiki ki kradejo unicujejo firme hinavsko pumpajo ljudi zanetijo vojne pa je normalno to svinjarijo bi morali pocistit', 'zaj ste vsi lubosumni ja .. nevoščljiveži -_-', 'Pa kak je lahko nekdo peder ce pa je zensko telo tak cudovito jaz tega ne odobravam.!!', \"Za posiljevalce, pedofile,izkoriščevalce, itd je kazen se ve kakšna. OSAMA do konca. Isto usmerjeni naj se pa pač zase držijo in ne izzivajo, pa saj vsi vemo da po neki fizikalni in naravni logiki matica na vijak paše in obratno. Meni še ni uspelo dva'šraufa'skupi sestavit brez švas aparata. Ta levi naj se pa tud že enkrat odločjo koga bodo zagovarjal. Ker kokr se še spomnim v prejšnji enostrankarski levo usmerjeni državni ureditvi homiči niso bili dobrodošli. Drugače pa naj pokojnik počiva v miru ne glede na njegovo domnevno mračno plat, njegovi bližnji pa naj ostanejo močni ob spoznavanju le te.\", 'Se strinjam Franc, to je lahko napisal nekdo iz njihovega klana. To je že na prvi pogled tako OČITNO, da ni potrebno niti premišljevati.!!!!!!!!!!!!!!!!!!!!', 'prihajamo', 'kakvo sranje', 'In volk je postal vegeterijanec ( kdo zaupa v to pravljico ) , tako politični aktivist ne more iz svoje kože kot volk ne iz svoje.......Ali bo lahko sledil nečelu enakosti https://www.youtube.com/watch?v=4EoAHdwGBvU', 'ma dej kaj to objavljate sploh kaj ste bolani!!!', 'Stvor? Hmm... ima srce, mozgane, glas in se vedno jajca da prizna kaj je in kaj mu ustreza?? Kaj ste pa vi ki nimate spostovanja do drugih, prazno glavo o srcu pa ni niti sledi?? Za taksne ne obstaja dovolj ponizevalna beseda!!! Sram vas je lahko!!! In to precej.. ne gnusijo se mi ljudje ki spremenijo svoj videz in ljudje ki jih privlaci isti spol. Gnusite se mi vi!!!', 'Genialer Auftritt', 'K en Mojzes....', 'Dej spelji se v svoj rodno mesto ali pa k psihiatru ker zagovarjaš morilca. Je že nekdo to svetoval takim kot si ti...', 'Torej, če recimo nekdo pelje žensko v svoje stanovanje jo lahko mirne volje posili,omami? Si ti res vsak dan tok glupa?', 'Pred sodiščem bo Ibro prikazal različne načine uporabe bergle.', 'Kak ti privoščim, da so ali bodo tvoji otroci istospolno usmerjeni.. Čeprav bi bilo boljše, da ne širiš svojih imbecilskih genov.', 'Nestrpnost se kaže v obliki naslednjih dejanj: – marginalizacija kristjanov – onemogočanje enakega dostopa do služb – onemogočanje enakega dostopa pri sklepanju poslov – izključitev kristjanov iz javnega življenja – izključitev krščanskih simbolov iz javnosti – družbena depriviligiranost kristjanov – žalitve ali napeljevanje k žalitvam kristjanov – zavajajoče predstavljanje kristjanov v medijih preko negativne stereotipizacije.', 'Ja ..a se res že vsem v vladi trga v v njihovih bučah', 'pa kva se tok sekirate kakšne folk piše???? sj ne pišejo o vas!!! to je javno tko da vsak lohk pove kar hoče..ne zagovarjam nobenga drgač..namest da se sekirate za bl resne stvari(država v kurcu) se sekirate kakšne folk piše o tem modelu/ki.', 'dol z takimi ki skodijo clovestvu', 'Dobro in razumljivo je povedal in vprašal.To razumemo tudi v Sloveniji', 'Pa se troštajo da bo mladina nas rešla, kako ko pa vidijo kaj delajo pametnjakoviči,saj mladina nemore biti bolši ker so že stari nori, pa to otroci gledajo pa nevejo kedo je ta pater!!! ??? grdi??????????!!!!!!......', 'Čestitam Nova24TV neverjetna uporaba induktivnega sklepanja. Vrhunec slovenskega novinarstva!', 'Koncno en kolko tolko dober clanek o njemu....', 'Dej Martina ti nimas kej lapat kdo sm in kaj ... Ne poznas moje druzinske veje . A svoje kože nebi menjal za tvojo nikoli lol', 'Ja, brez žaljenja, prosim. Conchita je parodija, prosim da jo/ga sprejmete s kančkom humorja! In prosim, ne si \"drugačni\" domišljat, da je Thomas Neuwirth kakšen vitez križar in borec za pravice drugačnih... Biznis je to, dragi moji. In kot kaže (in to je malce zaskrbljujoče), zelo dobra tržna niša... Vsekakor pa glasba sama na Evrosongu ne pomeni nič kaj dosti več. Naša ne bo zmagala nikoli. Ker nihče ne bo glasoval za nas. Še tisti, ki bi sicer, tokrat niso sodelovali in glasovali. To je sosedsko vritlazenje in izkoriščanje sim kartic diaspore, ki je zaenkrat Slovenci še nimamo toliko, da bi lahko vplivala na rezultat. Se pa pri tem egzodusu našega ljudstva, ki odhaja v tujino s trebuhom za kruhom, zna ta reč čez nekaj let spremeniti nam v prid v evrovizijskem smislu... Počakat moramo par let. Ko bo več Slovencev zunaj kot notri, morda pridemo do 20 mesta...Do takrat pa šparat denar in oprerativno spremeniti spol celotnemu pevskemu zboru Toneta Tomšiča in angažirati plesalke iz doma starostnikov Šmarje Sap. Zmaga zagotovljena.', 'a samo Slovece ki živijo v Kanadi, al tudi pri nas?', 'Take je treba samo postrelit!!!!!!', 'Najbrž bo sama kriva kakor ščitijo te munguse', 'In to na Hoferjovi trgovini', 'Da nisi ne ženska in ne moški in, da se iz človeka delajo najhujši zmazki je absurd... vsi ki zagovarjate ta stvor raje pomisliti kaj če bi se vsi tako šemili, da na koncu niti ne bi več vedeli ali se pogovarjate z žensko ali z moškim ??? Pa kam ta svet pelje ???', 'LGBT za muslimane! Nestrpneži, rasisti, nacisti tiho... hahaha', 'Ne vem, zakaj bi se vse heteroseksualne družine avtomatsko utapljale v zlorabah, alkoholu, drogah in nasilju. Takšnih družin je ogromno, žal, ampak včasih se mi zdi, da se občutno preveč posplošuje in to na obeh straneh. Zato pa ne pride do razumnega dialoga. Vsak človek ima svoje prednosti in slabost, nihče ni popoln in to ne glede na spolno usmerjenost.', 'podn', 'za kuzlatttttttttt omgggg', 'KORL je dobil drugo vrsto volilcev,saj upokojenci smo ga odkljukali', 'Slovenceljski farški nestrpnosti ni videti ne konca ne kraja, pri čemer so najbolj glasni tisti, ki so ravno od maše! Za njih je normalno le, da človek, ki je branil pedofile (= posiljalce otrok iz vrst klera!), postane svetnik, in da jim vse njihove grehe \"odpušča\" namišljen prijatelj v nebesih :poop:', 'Če bi ta \"levi\" kaj takega napisali, bi napisali: IZDAJALCI ali KOLABORANTJE....in ne kristjani. Lep dokaz, kdo je to pisal....', 'pesem je odlična ...da vas ni sram ...obdržite zase take bolane komentarje', 'A bo tale Kučan že enkrat crknu, pa da potem vidim, če bo res kaj boljše? Ali pa smo Slovenci na žalost narod, ki bo večno drug drugemu postavljal nogo in še bo večno delil na bele in rdeče. Mi Kučan nikoli ni bil in mi tudi pod razno ne bo simpatičen, ampak mislim, da je to samo ena maskota, nad katero lahko popizdimo. Kdo bo pa potem kriv, ko ga več ne bo? In to mislim, da bo kar hitro, zato vas pozivam, da čim prej določite novo nadomestno osebo tega ranga.', 'Itak moj višek kulture je diatonicna harmonika,slovenska knjiga in slovenski jezik. Za vas nepismene pa kulture sploh ni', 'Kakšno branjenje??? 15x je zabodel človeka.In zabodel ga je izurjeni morilec!!Kako lahko zagovarjate morilca,pa kje mi živimo...NORO', 'In vi 24 Nova tv ste bili zraven in točno veste, da se je Tič spravil na ubogega Cakića? In če je bil Tič gej, zakaj je Cakić z njim prostovoljno šel v stanovanje in zakaj se je pred tem sploh družil s takim človekom, če ni istospolno usmerjen in če tega ne odobrava?', 'Res ne vem kaj vas zopet vse moti!!??To je tekmovanje za najboljšo pesem in tukaj sploh ni dvoma,da je komad TOP in je zmaga popolnoma zaslužena in čista.....če pa vas tako moti zunanja podoba izvajalca,potem ga pa ne glejte in najprej v ogledalu poglejte sebe.LP', 'Ja je latino, iz Peruja in nobene veze z islamom. Ce sploh ves kje je to na zemljevidu. A tisti, ki tukaj komentirajo so vsi rasisti ali nasprotujejo kulturi, ki nima nobenih vzporednic z evropsko kulturo? Potem si tipicen libtard, da je zate vsak desnicar rasist.', 'A ste vsi z marsa,kako imata lahko dva moška pedra al pa dve ženske lezbače otroka?ddd!!!!a jim ga bodo iz plastelina naredil?spustite se na zemljo!oče pa mama!pa noben drug! Mam dva otroka,pa ne bi to nikoli dopustil!otrok potrebuje očeta in mamo in veliko njihove ljubezni in ukvarjanja z njimi, da jih pripeljejo na pravo pot!', 'Takim so vcasih rekli KAPUN ,eurogong,.', 'Adijo svet gre v nasprotno smer..GRRRRRRRRR..!!!!', 'Erjavec je dezerter ki je z argetine deriste jekla na R pa se jugo diplomo ima beograd 100 maraka uspesno zavrsijo fakukultet u jednu 7 sedmicu', 'really, really sad ,,,, tukaj se vidi v teh komentarjih kako je večina folka se zmeraj zaostalih', 'Rdeča pravila imajo skrito etiko! To je zagotovil Kučan z več resnicami in razorožitvijo TO. Osamosvojitev pa bi osamosvojeni praznovali v leto 1968 za nazaj ! Tito Trst ni naš!', 'Sporočilo o tem, da nam tovrstni lobiji dejansko diktirajo entertainment...', 'Odlično. Vidva imata dokaze. Zakaj jih nista predala policiji? Ali ne vesta, da je oviranje preiskave kaznivo dejanje!!!!!!!!!!!!!!!!!!!!!!!!!!!!', 'LEVI FAŠISTI ! NESTRPNEŽI, SOVRAŽNOST DO DRUGAČNIH KI NE SLEDIJO TEJ IDEOLOGIJI, ITD ITD', 'ja tukaj se vidi v teh komentarjih kako je večina slovencev zaostalih ....kar je žalostno .....demn še 1x povem SHEMALE/LADYBOY NI NOBEN peder al pa transvestit malo se poučite o teh stvareh preden začnete zmerjat z raznimi takimi.....homosexualci so drugo, transvestiti spet drugo ladyboy/shemale pa spet neki drugega .....se vidi kako zaostali narod smo', 'sam mu kratki lasje bl pašejo :3', 'Čestitke za Conchito :) Najlepša pesem in velika sporočilna vrednost njegovega nastopa !!! Bravo !!!', 'ne vem usak k to podpira je enostauno za na luno ;) otroka nej ma un k ga loh nardi in to je to če ne morš ne sanji', 'enakosti ni in v praksi nikoli v zgodovini civilizacije NI obstajala', 'Haha, sodisce bo odlocilo, a bo posteno ali ne.... Ja seveda bo posteno odlocilo ( in pol svizec zavije cokolado) 😂😂😂😂', 'Svinarija', 'Koliko sovrastva, kdo so ti ljudje, ki pisejo in grozijo. Nimam besed. Ljudje brez srca.', 'naj otrok svojo mami kliče stric tone? eee pa to nebo šlo skozi. ;) TOLK O TEM .*', 'Pač pa levuhinje ki ljubijo svoje Močnike, Žižke in Frank Ančice Holokaustijančice.', 'ker so teme o tem, da smo v koaliciji napadli Irak na osnovi laži, očitno nepomembne in da je umrlo čez 1 milijon nedolžnih ljudi in noben novinar ne vpraša zakaj smo še vedno tam, je treba razpravljat o bolj pomembnih temah a ne?', 'RADIO KOPER - levo fašistični propagandni stroj ! Radio Koper je že pričel z kampanjo in hujskaštvom o ubogih HOMOSEKSUALCIH,ki naj bi jim bile kršene človekove pravice - češ,tako bomo \"sodobna\"družba.??? Sem pa radoveden,če bi ti plačani gobcači s strani BOGATEGA HOMOSEKSUALNEGA LOBIJA,svoje otroke dali v posvojitev dvema HOMOSEKSUALCEMA !!??? Karel', 'Dokler nisem prebral tega članka, nisem niti pomislil, da bi kakorkoli lahko povezali JJ in dr.JZ, z okrutnim nedeljskih dejanjem, vam pa je to uspelo - BRAVO!!! 🤣', 'vseveč je križancev', 'Vsi tisti ki ste za tega grdavsa ali kaj sploh je vam želim da je vaš otrok tudi tak ha ha. Potem pa bi rad vdel vaše mnenje.', 'isusek isusek --bože dragi', 'Samo še kratko glede strpnosti oziroma drugačnosti. Strpnost do drugačnosti bo dosežena takrat, ko te nihče ne bo opazil, ne pa zdaj, ko jo na vsakem koraku poudarjajo mediji.', 'Otrok potrebuje očeta in mama in pika........', 'brez brade bi biu res k bejba haha.... kaj čš 100 ljudi 100 čudi pa vedno več je takihle :S', 'preprosto všeč mi je njegov pogum...', 'Andreja Kresal Kdaj si sebe nazadnje u spegl pogledala??????? Glej kak fuj si sele ti', 'Ne, nisem homofob. Sem pa homo sapiens s fobijo pred televotingom... Najmanj 20 veliko boljših skladb bo zaradi maškare šlo v pozabo (beri \"anale\", ta izraz zaradi lobijev žal dobiva čisto drugačen prizvok) Evrosonga...', 'Nasprotnike pa potlacit v gnojnico kot to najboljše obvladajo nasi mediji', 'ja ja ja faušija je hudič kaj.-.......kolk pa vas je takih ki bi si želeli imeti njegove učke ??', 'bolano .... folk je ratu fuknen ... res ej ;D', 'Glej pop tv in si jo Mani,pa tih bod. ...', 'Ana puca mi muca kako me dojemas Mami moja je ponosna name in na moj najdaljsi jezik,ki te tok zlo mlati Vidis kok si pozorna name hehe Pa brez zamere ,ti pa pejd mal pokat z dedcem pa ne bos tok zafrustrirana ......kapis?!', 'Zanimivosti? Najvecja zanimivost v gatah o_O', 'kaj bi pa ti naredil, če bi te nekdo omamljenega posilil. Bi mu še enkrat nastavil tazadnjo al kako.', 'Klap,klap,klap, Bravo levi možganski maloposestnik. To je vse kar zmoreš ?', 'Življenje je poun presenečenj... :D ampak ker je pa preveč je pa preveč...', 'ta dva si samo mislita povedat pa ne smeta kaj mislita ker bi potem bila homofoba in neven še kaj', 'Včasih naletijo buziji na hud odpor .', 'Naši južni brati bi temu rekli pederska posla!!', 'ZDAJ PA NAJ NEHAJO', 'Bravo, folk. Verjetno se je rodil s tako brado, da se je neda obrit haha A pa ste ljudje normalni. Kakšn rasizm? To je dec, k se je obleku v babo pa pustu brado, sam zato, da bi dobu večjo pozornost in večjo možnost za zmago. Če bi pa hotu bit baba, bi se pa obriv.. Logika! To je sam varka, pa rečte kar hočte ;) Sej mu je ratal, več al manj sam zato, ker je igrov na karto \"deskriminacije\" :)', 'TO SO DELALI !!!', 'Človek ga je v silobranu zabodel 15x,kdo pa to verjame,človek je izurjen v tujski legiji,se pravi bi Tiča brez noža obvladal kot keks,tak da kateri sodnik bo to verjel....', 'noben nima nič proti kristjanom - žalostno pa je, da bi res, kristjani klali svoje sosede, brate, kot so to počeli med vojno - pozabljaš, da je ravno CERKEV tista, ki je novačila fante v okupatorsko vojsko. To je navadna desničarska provokacija!', 'kaj tebe zanima, naprimer.', 'Ce ga je res hotel posiliti potem je dobil posteno kazen,zrtev pa bi morali nagraditi.', 'Bodite tolerantni , dovolite različnosti, bil je to lep glas in dobra skladba. Ne gledam , ker mi to ni všeč, poslušam lahko.Naša Tinkara in ekipa sta bila odlična .Tinkara je lepo rekla , prišel je čas , da sprejmemo različnosti.', 'kdaj bom v lastni državi dočakal obsodbo totalitarnega prejšnjega sistema kot so to naredili na češkem,madžarskem,slovaškem, naučite se kaj, lustracija je nujna !', 'vi niste normalni stemi friki!', 'ogabno...ne veš kako naj to definiraš...', 'Thomas newrit', 'zakaj, prav v redu fant,,,,', 'Andreja, na desni ni heterikov. Zmaličeni izrodki so/ste levaki. Še šerif to dokazuje.', 'Dejte si že enkrat nekam napisat, da so vaši otroci vaše ogledalo, malo manj naj vas skrbi kako kdo izgleda, pa kaj v postelji počne, pa bo za vse prav.', 'Najboljše je ne gledat tega freakshowa pa se ti sladko malo jebe kdo je zmagal. Mi ne bomo nikoli nimao za organizacijo vsake tolko nas pa v finale spustijo da se kuj krampamo. OVCE', 'vsak ima pravico do svojega življenja pa naj bo takšno ali pa drugačno kaj se je v resnici dogajalo med njima to vesta samo ona dva a na žalost eden je mrtev a drugi v zaporu a vi nimate drujga dela kod da se vtikate tja k vas nič ne briga', 'Grafit, ki bi moral alarmirati varuhinjo človekovih pravic', 'g Nadja oprostite transvestit', 'http://www.tocnoto.si/modules/aktualno/uploads/thumbnails/moja_glasba_moja....jpg', 'Nekaj tako odvratnega še nisem videla na tv sceni..drugače nimam nič proti drugačnosti...pa od vseh,ena najslabših pesmi na tej evroviziji!!!', 'Ogabno...', 'še malo, pa tapravih moških ne bo več...vse neki poženščeno :)', 'Obup .-(', 'Identično. Ista roka. Ista velikost. Isti font. Ista barva. Neverjetno. Bogomile, ali bi se rad samoprijavil? Jaz te vsekakor podpiram. Bodi pogumen!', 'Hej mašinca odmeva......😂', '... hmmm moški, ki ne ve a bi ibl ženska ali vseeno še malo moški... ja še marsikaj se v prihodnosti lahko pričakuje.... nimam pa nič proti, če se v svoji koži počuti o.k., potem je tudi meni o.k. ;)', 'Odlično napisano!!!!!', 'To je nedopustna zloraba otrok in nasilje nad njimi. Tega ne smemo dopustiti!', 'Spet populizem .... Verjetno gre spet za izmišljeno novico (kot tisto nadlegovanje v LJ) ... upam, da vas kdo iz te slike toži, ker uporabljate njegovo podobo pod to izmišljeno novico ... predlagam vam, da se kar sami poknete s to opeko po glavi - mogoce bo kaj pomagalo.', 'jaz bi bolj rekel indoktrinirani možgani tega ne dopuščajo', 'A ste vi glupi? Puste cloveka zmagu je in to je to. Dosegu je neki kar vi nebi mogl. Kam je sou ta svet ej...', 'Rebeka Moa pust matica pr mer, a si ti mal prfukjena ženska? mislm kake pišeš kokr da ti nefali en koleščk ampak cela glava... jst se na tvojem mestu sploh zamišljau nebi ampak bi si dau takoj štrik za vrat... mislm odfuk...', 'Kak te otroku razlozis da ma barbi brado in stoje lula ;)))', 'Kakorkoli kdo razume,ni prav,da gre davkoplačevalski denar vseh homofobov za ekipco pederi', 'Zdaj tolk poudarjate lezbijko drugač ste pa tako proti istospolnim ... temu se reče hinavščina! :p', 'Točno tako razmišljanje potem vodi do najbolj okrutnih zločinov. In žalostno je, da obstajate taki ljudje, ki to podpirate. In izjaviti, da bi potrebovali Hitlerja je skrajno neokusno in kot je že Nejc Vilar povedal, ogabno.', 'http://www.navice.si/conchita-wurst-nov-obraz-kranjske-klobase/', 'udri ludilo', 'HANŽEK drugega ni sposoben', 'Ja zakon pišejo loji.Trumpa rabimo.', 'homofobi raus.', 'Qrc jih gleda...bljaaak!!', 'to je moški,spremenjen v žensko...ma tok je blo lepih pesmi ne pa ta....ok saj glas ma sam videz je -0!!', 'Ni naravno!!!!!! Pa kaj vam ni jasno???', 'Bravo!', 'Ljubezen med materjo in rojenim otrokom je nepojemljiva in to sem sam doživel tri mesce nazaj v porodnišnici, ko mi je dekle povilo prvega otroka :) zato geji in lezbijke spizdite, ce ga ne morte naredit si ga tud ne zaslužte dobit !', 'prasica od Mrakove, naj spizdi sama v to Bosno', 'Čisto tak obe s petro sva heteroseksualki, ti imaš mnenja ki se mi gabijo, bodi strpen, kot morajo biti homoseksualci strpni do tebe in tvojega ogabnega razmišljanja, nagnusen si in glede na to da imaš otroke lepo vzgojene ne vem od kot potem tvoji komentarji, ker tu jaz ne najdem lepe vzgoje', 'mene moti edino packanje po stenah, pa karkoli že piše', 'kdo še časti \"brezmadežno spočeto devico Marijo\"? Islam.. https://youtu.be/CSHenSfLh2s', 'K..sita klobasa katastrofa se en dokaz vec da je clovek bil opica nimam nic proti isto spolnim za tole kamcatko pa nevem kako moras bit usmerjen verjetno v politiko', 'Se strinjam z napisanim komentarjem :)', 'Se pa morejo malo našminkati, kako jim je hudo!😎🇸🇮', 'Homoseksualnosti nihče ne vsiljuje, ker jo dnevno kaže leva politika.', 'NAJVECJI BEDAK SKOVENJE SRAM NAJ GA BO', 'Uff... O.O', 'kako, ko je pa samooklicani šef opozicije do grla bil v komunjarski brozgi? Takoj ko se uzakoni ustracijo, mora tudi on zapustiti vse funkcije', 'oprosti nisem nestrpen človek ... pa tu žalim ne ... samo je grd ko..........!', 'ma ko jih jebe sei so budale men so ista blokirali celo za 14 dni !!!!', '... super <3 I love YOU <3', 'bl si fuknjen bolši si', 'Homofobija je posledica prikrite istospolne usmerjenosti. Zakaj ostali res nimamo težav s tem. Sprijaznite se počasi in pustite ljudem živeti kakor želijo...preden jih psihopati in sociopati napadejo in pokončajo. Včasih so med žrtvami tudi dobri prijatelji.', 'ABNORMALNO!', 'doroteja naslednjo leto ce bi blo po moje bispet poslala sestre na eurosong!!!', 'Zakaj bi jih morali ekstra financirat. Oni so, tako kot mi ostali in koga briga.', 'Težka bo. Tožilci imajo bolj nujne naloge. Kradejo kolesa, naprimer.', 'A drugi mediji niso ogabni?', 'Dobrodošli vsi evropa vam bo dala vse ... vi pa lahko počneste vse ker ste glavni.... BARABE', 'Pa imajo nepismeni kulturo, kako da ne. Imenuje se FISKULTURA.', 'Kako kak župnik stisnu otroka? S si ti ok ???!!!!', 'Meni pa gre na bruhanje zaradi vseh teh vaših komentarjev, ki so dobesedno odvratni. Nekdo, ki tako grdo žali in zmerja nekoga, ki je drugačen, je res padel zelo nizko. Vas ni sram pisat takšne ogabne stavke? Vi se mi gabite s tem obnašanjem in z njo ni nič narobe, ampak z vami je nekaj hudo narobe. Vi imate probleme sami s sabo! Za Slovence tipično obnašanje! OGABNO!!!', 'Me zanima ja...', 'FUJ!', 'aj to moški al ženska??', 'No saj, najbolj bodo nasrkali LGBT in feministke. Oni pa se se najbolj zavzemajo za njih. Ironija.', 'Jaz sem pa mislil da bo nagrada svečka pa sendvič,za pred sodišče.....', 'Slovenci ste Marijin narod? \"brezmadežno spočeta devica Marija\"?... https://www.sds.si/novica/romanje-krscanskega-foruma-sds-13372', 'Poglejte sami sebe pol pa njemu da je pedr', 'Dobro da me ni blo na finalah bi mu sol bačn stisnat', 'Takole bo pri nas zgledal ko bojo pedri taglavni, res pa je da smo jodlarje priteli s ssstrami...', 'Takole naredis in je mir...', 'naj da ona svoje v posvojitev saj itak nima časa zanje.', 'Hahaha iz cirkusa so jo vzel..ocitno res obstajajo taprave bradate zenske', '24ur.com pa kje ste bili!! Niti ene niste napisali o njej(njem) vse te tedne, ker v Ljubljani nihče ne zna nemškega jezika. Avstrija je naša sosednja država, ne Anglija.', 'Slovenci takrat poslemo sestre na evrosong pa ni blo nic k pa avstrici kej taga poslejo pa zmagajo km gre ta svet', 'https://www.youtube.com/watch?v=YcNOapwgw6I !', 'Super je, pa še pogum ima !', 'S Tem bomo Davkplačevalci Še koliko Več na Grbačo???????????????', 'Pa kej toti še sploh normalno vejo razmišljat al je res vsa oblast že za psihatrijo zaprti oddelek', 'Ce bi bil pa navaden drzavljan bi se pa hitro vedelo kaj se je dejansko res zgodilo.Mislim,da brez razloga ni bil za boden.', 'al si se pokazala evropo ta in take škandale takoj ukinut na bruhanje mi gre', 'Žal si s tem komentarjem v zamudi vsaj 20 let. In posiljevalci da imajo svoj ponos 😃😃😃😃😃😃 to bo ja....mah budala na 🇰 🇺 🇧 🇮🇰. 🇸 🇮'], [1, 0, 1, 1, 1, 1, 1, 0, 1, 1, 0, 0, 1, 1, 1, 0, 0, 0, 1, 1, 0, 0, 1, 0, 0, 1, 1, 0, 1, 0, 0, 0, 1, 1, 1, 1, 0, 1, 1, 0, 1, 0, 0, 1, 1, 0, 0, 1, 1, 1, 0, 0, 1, 1, 1, 1, 1, 0, 0, 0, 0, 0, 1, 0, 0, 0, 0, 1, 1, 1, 1, 0, 0, 1, 0, 1, 0, 1, 0, 1, 0, 0, 0, 0, 0, 1, 0, 1, 1, 1, 1, 1, 0, 0, 1, 0, 1, 0, 1, 1, 1, 1, 0, 0, 1, 0, 1, 1, 0, 0, 1, 0, 0, 1, 1, 1, 1, 0, 0, 1, 1, 1, 0, 0, 1, 0, 1, 0, 1, 0, 1, 0, 1, 0, 0, 1, 0, 1, 1, 0, 0, 0, 0, 1, 0, 0, 0, 1, 1, 1, 0, 1, 0, 1, 1, 0, 1, 1, 0, 1, 1, 1, 1, 1, 1, 0, 0, 1, 1, 0, 0, 1, 0, 0, 0, 0, 1, 1, 1, 0, 1, 0, 1, 1, 1, 0, 1, 1, 0, 1, 1, 1, 0, 1, 1, 0, 0, 0, 1, 0, 0, 1, 1, 1, 1, 0, 1, 1, 1, 0, 0, 1, 1, 1, 1, 1, 1, 1, 0, 0, 1, 1, 1, 0, 0, 1, 0, 1, 1, 1, 0, 0, 0, 1, 0, 0, 1, 1, 1, 0, 1, 1, 0, 1, 1, 1, 1, 1, 1, 0, 0, 1, 1, 1, 0, 0, 0, 0, 1, 0, 1, 1, 0, 0, 0, 1, 1, 0, 0, 1, 1, 1, 1, 1, 1, 1, 1, 1, 0, 0, 1, 1, 0, 1, 0, 0, 1, 1, 0, 1, 1, 1, 0, 1, 1, 1, 1, 0, 1, 1, 1, 0, 1, 0, 1, 0, 0, 0, 0, 0, 1, 0, 0, 1, 0, 0, 1, 1, 0, 1, 1, 0, 1, 1, 0, 1, 0, 0, 0, 0, 1, 1, 1, 0, 1, 1, 0, 0, 0, 1, 1, 0, 1, 1, 0, 0, 1, 1, 1, 0, 1, 1, 0, 1, 0, 0, 1, 0, 0, 1, 1, 0, 0, 1, 1, 1, 1, 0, 1, 1, 1, 1, 1, 1, 1, 1, 0, 1, 0, 0, 1, 1, 1, 1, 1, 1, 0, 1, 1, 1, 0, 0, 0, 0, 1, 0, 1, 1, 1, 1, 0, 1, 0, 0, 1, 1, 1, 1, 1, 0, 1, 1, 1, 0, 0, 1, 0, 0, 1, 0, 1, 0, 1, 1, 1, 1, 1, 1, 1, 1, 0, 0, 1, 1, 0, 0, 0, 0, 1, 1, 1, 1, 1, 1, 1, 1, 0, 1, 0, 0, 0, 1, 1, 1, 0, 1, 0, 0, 0, 0, 1, 0, 1, 1, 1, 1, 1, 1, 0, 1, 0, 0, 0, 0, 0, 0, 1, 1, 0, 0, 1, 1, 0, 0, 0, 1, 0, 1, 0, 1, 0, 0, 0, 1, 0, 0, 0, 1, 1, 1, 1, 0, 0, 0, 0, 0, 1, 0, 0, 1, 1, 1, 1, 0, 0, 1, 1, 1, 0, 1, 1, 0, 0, 1, 0, 1, 0, 0, 0, 1, 1, 1, 0, 0, 0, 1, 0, 1, 0, 1, 0, 1, 1, 1, 1, 0, 0, 0, 1, 1, 0, 0, 1, 0, 0, 1, 1, 1, 0, 1, 1, 1, 0, 1, 0, 0, 1, 1, 0, 1, 0, 0, 1, 0, 0, 1, 1, 0, 1, 1, 0, 0, 0, 1, 1, 1, 1, 0, 1, 0, 0, 1, 1, 0, 0, 0, 1, 1, 0, 0, 0, 1, 0, 1, 1, 1, 1, 1, 1, 1, 1, 1, 0, 0, 1, 0, 0, 1, 0, 1, 1, 0, 0, 1, 1, 1, 1, 1, 0, 0, 0, 0, 1, 1, 0, 1, 1, 1, 0, 1, 1, 0, 1, 1, 1, 0, 0, 1, 0, 1, 1, 0, 1, 1, 1, 1, 0, 0, 1, 0, 0, 1, 0, 0, 0, 1, 0, 1, 0, 1, 0, 1, 1, 1, 0, 1, 1, 0, 0, 0, 1, 1, 0, 1, 1, 0, 1, 0, 0, 1, 0, 1, 1, 0, 1, 0, 1, 1, 1, 0, 1, 1, 1, 1, 1, 1, 0, 0, 0, 1, 1, 1, 0, 1, 1, 1, 1, 1, 1, 1, 0, 1, 1, 0, 0, 1, 0, 1, 1, 0, 1, 1, 1, 0, 1, 0, 1, 1, 1, 0, 1, 1, 0, 1, 0, 0, 1, 1, 0, 1, 0, 0, 1, 1, 0, 1, 1, 1, 1, 1, 0, 0, 0, 1, 1, 1, 1, 0, 1, 0, 1, 0, 1, 1, 0, 0, 1, 1, 0, 1, 0, 1, 1, 1, 1, 0, 1, 1, 0, 0, 1, 1, 0, 1, 1, 1, 0, 1, 1, 1, 0, 0, 1, 0, 0, 1, 1, 1, 1, 0, 0, 1, 0, 0, 0, 0, 1, 1, 0, 0, 1, 0, 1, 0, 0, 0, 0, 1, 1, 1, 1, 0, 1, 0, 0, 1, 1, 1, 1, 1, 1, 1, 1, 1, 0, 0, 1, 1, 1, 1, 1, 1, 0, 1, 1, 1, 0, 0, 1, 0, 0, 1, 1, 0, 1, 1, 1, 0, 1, 0, 1, 0, 0, 1, 0, 1, 0, 0, 1, 0, 1, 1, 0, 0, 0, 1, 1, 1, 0, 1, 1, 1, 0, 0, 0, 0, 1, 0, 1, 1]])\n"
     ]
    },
    {
     "data": {
      "application/vnd.jupyter.widget-view+json": {
       "model_id": "195a2f486a3d4928b09d24dd43cd5384",
       "version_major": 2,
       "version_minor": 0
      },
      "text/plain": [
       "HBox(children=(FloatProgress(value=0.0, max=900.0), HTML(value='')))"
      ]
     },
     "metadata": {},
     "output_type": "display_data"
    },
    {
     "name": "stdout",
     "output_type": "stream",
     "text": [
      "\n"
     ]
    },
    {
     "data": {
      "application/vnd.jupyter.widget-view+json": {
       "model_id": "1f81cf095a0045b3bb32c3ab8beaff80",
       "version_major": 2,
       "version_minor": 0
      },
      "text/plain": [
       "HBox(children=(FloatProgress(value=0.0, max=113.0), HTML(value='')))"
      ]
     },
     "metadata": {},
     "output_type": "display_data"
    },
    {
     "name": "stdout",
     "output_type": "stream",
     "text": [
      "\n",
      "Accuracy:  0.6577777777777778\n",
      "F1 score:  0.6681034482758621\n",
      "CPU times: user 52.5 s, sys: 28.5 s, total: 1min 21s\n",
      "Wall time: 1min 28s\n"
     ]
    }
   ],
   "source": [
    "%%time\n",
    "train_fname = \"../data/lgbt-sl.train.tsv\"\n",
    "test_fname = \"../data/lgbt-sl.test.tsv\"\n",
    "\n",
    "train = read_file(train_fname)\n",
    "test = read_file(test_fname)\n",
    "\n",
    "\n",
    "model_args = {\n",
    "    \"num_train_epochs\": 5,\n",
    "    \"learning_rate\": 1e-5,\n",
    "    \"overwrite_output_dir\": True,\n",
    "    \"train_batch_size\": 40\n",
    "}\n",
    "\n",
    "model = ClassificationModel(\n",
    "    \"bert\", \"sangrimlee/bert-base-multilingual-cased-nsmc\", use_cuda=True,\n",
    "    args=model_args\n",
    "    \n",
    ")\n",
    "\n",
    "model.overwrite_output_dir = True\n",
    "model.train_model(train, )\n",
    "\n",
    "print(model.eval_model(test))\n",
    "from sklearn.metrics import accuracy_score, f1_score\n",
    "y_true = test[\"labels\"]\n",
    "y_pred = model.predict(list(test[\"text\"].values))[0]\n",
    "\n",
    "accuracy = accuracy_score(y_true, y_pred)\n",
    "print(\"Accuracy: \", accuracy)\n",
    "f1 = f1_score(y_true, y_pred)\n",
    "print(\"F1 score: \", f1)"
   ]
  },
  {
   "cell_type": "code",
   "execution_count": null,
   "metadata": {},
   "outputs": [],
   "source": []
  },
  {
   "cell_type": "markdown",
   "metadata": {},
   "source": [
    "## Croatian"
   ]
  },
  {
   "cell_type": "code",
   "execution_count": 5,
   "metadata": {},
   "outputs": [
    {
     "data": {
      "application/vnd.jupyter.widget-view+json": {
       "model_id": "c83bcaa4c7164f3c9e76a1d6e6e72940",
       "version_major": 2,
       "version_minor": 0
      },
      "text/plain": [
       "HBox(children=(FloatProgress(value=0.0, max=4495.0), HTML(value='')))"
      ]
     },
     "metadata": {},
     "output_type": "display_data"
    },
    {
     "name": "stdout",
     "output_type": "stream",
     "text": [
      "\n"
     ]
    },
    {
     "data": {
      "application/vnd.jupyter.widget-view+json": {
       "model_id": "f957c67785744f4186257d4bfe952dc7",
       "version_major": 2,
       "version_minor": 0
      },
      "text/plain": [
       "HBox(children=(FloatProgress(value=0.0, description='Epoch', max=5.0, style=ProgressStyle(description_width='i…"
      ]
     },
     "metadata": {},
     "output_type": "display_data"
    },
    {
     "data": {
      "application/vnd.jupyter.widget-view+json": {
       "model_id": "82ef3b7498ae4be69b6a50105f99bf87",
       "version_major": 2,
       "version_minor": 0
      },
      "text/plain": [
       "HBox(children=(FloatProgress(value=0.0, description='Running Epoch 0 of 5', max=113.0, style=ProgressStyle(des…"
      ]
     },
     "metadata": {},
     "output_type": "display_data"
    },
    {
     "name": "stdout",
     "output_type": "stream",
     "text": [
      "\n"
     ]
    },
    {
     "data": {
      "application/vnd.jupyter.widget-view+json": {
       "model_id": "8a1a2a0983fc49bea7f995ee53db61a9",
       "version_major": 2,
       "version_minor": 0
      },
      "text/plain": [
       "HBox(children=(FloatProgress(value=0.0, description='Running Epoch 1 of 5', max=113.0, style=ProgressStyle(des…"
      ]
     },
     "metadata": {},
     "output_type": "display_data"
    },
    {
     "name": "stdout",
     "output_type": "stream",
     "text": [
      "\n"
     ]
    },
    {
     "data": {
      "application/vnd.jupyter.widget-view+json": {
       "model_id": "c9d23b649dd943d7a0f246d009071cf6",
       "version_major": 2,
       "version_minor": 0
      },
      "text/plain": [
       "HBox(children=(FloatProgress(value=0.0, description='Running Epoch 2 of 5', max=113.0, style=ProgressStyle(des…"
      ]
     },
     "metadata": {},
     "output_type": "display_data"
    },
    {
     "name": "stdout",
     "output_type": "stream",
     "text": [
      "\n"
     ]
    },
    {
     "data": {
      "application/vnd.jupyter.widget-view+json": {
       "model_id": "1f61096a1e7f4610a9d5352a157d9c58",
       "version_major": 2,
       "version_minor": 0
      },
      "text/plain": [
       "HBox(children=(FloatProgress(value=0.0, description='Running Epoch 3 of 5', max=113.0, style=ProgressStyle(des…"
      ]
     },
     "metadata": {},
     "output_type": "display_data"
    },
    {
     "name": "stdout",
     "output_type": "stream",
     "text": [
      "\n"
     ]
    },
    {
     "data": {
      "application/vnd.jupyter.widget-view+json": {
       "model_id": "9eda81576a2d451d9ceabf2a6623958c",
       "version_major": 2,
       "version_minor": 0
      },
      "text/plain": [
       "HBox(children=(FloatProgress(value=0.0, description='Running Epoch 4 of 5', max=113.0, style=ProgressStyle(des…"
      ]
     },
     "metadata": {},
     "output_type": "display_data"
    },
    {
     "name": "stdout",
     "output_type": "stream",
     "text": [
      "\n",
      "\n"
     ]
    },
    {
     "data": {
      "application/vnd.jupyter.widget-view+json": {
       "model_id": "e8a62eec7d9341e2894e3d26d80e53b4",
       "version_major": 2,
       "version_minor": 0
      },
      "text/plain": [
       "HBox(children=(FloatProgress(value=0.0, max=1142.0), HTML(value='')))"
      ]
     },
     "metadata": {},
     "output_type": "display_data"
    },
    {
     "name": "stdout",
     "output_type": "stream",
     "text": [
      "\n"
     ]
    },
    {
     "data": {
      "application/vnd.jupyter.widget-view+json": {
       "model_id": "1b5bff89727d458599e28531dd408bbc",
       "version_major": 2,
       "version_minor": 0
      },
      "text/plain": [
       "HBox(children=(FloatProgress(value=0.0, description='Running Evaluation', max=143.0, style=ProgressStyle(descr…"
      ]
     },
     "metadata": {},
     "output_type": "display_data"
    },
    {
     "name": "stdout",
     "output_type": "stream",
     "text": [
      "\n",
      "({'mcc': 0.5328066215514191, 'tp': 620, 'tn': 279, 'fp': 119, 'fn': 124, 'auroc': 0.8692403550008105, 'auprc': 0.9228963119282649, 'eval_loss': 0.5030829085336699}, array([[ 3.02929688, -3.21289062],\n",
      "       [-2.8671875 ,  3.30664062],\n",
      "       [ 0.77197266, -0.9375    ],\n",
      "       ...,\n",
      "       [-0.52441406,  0.45507812],\n",
      "       [ 0.79052734, -1.11230469],\n",
      "       [ 1.625     , -1.89453125]]), [])\n"
     ]
    },
    {
     "data": {
      "application/vnd.jupyter.widget-view+json": {
       "model_id": "53390b8d846e4b0da5285e505db76d7e",
       "version_major": 2,
       "version_minor": 0
      },
      "text/plain": [
       "HBox(children=(FloatProgress(value=0.0, max=1142.0), HTML(value='')))"
      ]
     },
     "metadata": {},
     "output_type": "display_data"
    },
    {
     "name": "stdout",
     "output_type": "stream",
     "text": [
      "\n"
     ]
    },
    {
     "data": {
      "application/vnd.jupyter.widget-view+json": {
       "model_id": "7f41755d8dce4a33940dacad1d673322",
       "version_major": 2,
       "version_minor": 0
      },
      "text/plain": [
       "HBox(children=(FloatProgress(value=0.0, max=143.0), HTML(value='')))"
      ]
     },
     "metadata": {},
     "output_type": "display_data"
    },
    {
     "name": "stdout",
     "output_type": "stream",
     "text": [
      "\n",
      "Accuracy:  0.787215411558669\n",
      "F1 score:  0.8361429534726905\n",
      "CPU times: user 1min 12s, sys: 35.5 s, total: 1min 48s\n",
      "Wall time: 1min 55s\n"
     ]
    }
   ],
   "source": [
    "%%time\n",
    "train_fname = \"../data/lgbt-hr.train.tsv\"\n",
    "test_fname = \"../data/lgbt-hr.test.tsv\"\n",
    "\n",
    "train = read_file(train_fname)\n",
    "test = read_file(test_fname)\n",
    "\n",
    "\n",
    "model_args = {\n",
    "    \"num_train_epochs\": 5,\n",
    "    \"learning_rate\": 1e-5,\n",
    "    \"overwrite_output_dir\": True,\n",
    "    \"train_batch_size\": 40\n",
    "}\n",
    "\n",
    "model = ClassificationModel(\n",
    "    \"bert\", \"sangrimlee/bert-base-multilingual-cased-nsmc\", use_cuda=True,\n",
    "    args=model_args\n",
    "    \n",
    ")\n",
    "\n",
    "model.overwrite_output_dir = True\n",
    "model.train_model(train, )\n",
    "\n",
    "print(model.eval_model(test))\n",
    "from sklearn.metrics import accuracy_score, f1_score\n",
    "y_true = test[\"labels\"]\n",
    "y_pred = model.predict(list(test[\"text\"].values))[0]\n",
    "\n",
    "accuracy = accuracy_score(y_true, y_pred)\n",
    "print(\"Accuracy: \", accuracy)\n",
    "f1 = f1_score(y_true, y_pred)\n",
    "print(\"F1 score: \", f1)"
   ]
  },
  {
   "cell_type": "code",
   "execution_count": null,
   "metadata": {},
   "outputs": [],
   "source": []
  },
  {
   "cell_type": "markdown",
   "metadata": {},
   "source": [
    "#     \"roberta\", \"unitary/multilingual-toxic-xlm-roberta\", use_cuda=True,"
   ]
  },
  {
   "cell_type": "code",
   "execution_count": 12,
   "metadata": {},
   "outputs": [],
   "source": [
    "import pandas as pd\n",
    "import numpy as np\n",
    "import torch\n",
    "\n",
    "train_fname = \"../data/lgbt-en.train.tsv\"\n",
    "test_fname = \"../data/lgbt-en.test.tsv\"\n",
    "\n",
    "def read_file(fname: str) -> pd.DataFrame:\n",
    "    \"\"\"Reads a filename and formats it properly for simpletransformers\"\"\"\n",
    "    df = pd.read_table(fname, sep=\"\\t\", header=None, names=\"text,labels,role\".split(\",\"))\n",
    "    offensive_ids = df.labels != \"Acceptable speech\"\n",
    "\n",
    "    df.labels[offensive_ids] = 1\n",
    "    df.labels[~offensive_ids] = 0\n",
    "    \n",
    "    df[\"labels\"] = df.labels.astype(np.int8)\n",
    "    df = df.drop(columns=[\"role\"])\n",
    "    return df\n",
    "\n",
    "\n",
    "train = read_file(train_fname)\n",
    "test = read_file(test_fname)"
   ]
  },
  {
   "cell_type": "code",
   "execution_count": 18,
   "metadata": {},
   "outputs": [
    {
     "name": "stderr",
     "output_type": "stream",
     "text": [
      "You are using a model of type xlm-roberta to instantiate a model of type roberta. This is not supported for all configurations of models and can yield errors.\n",
      "Some weights of RobertaForSequenceClassification were not initialized from the model checkpoint at unitary/multilingual-toxic-xlm-roberta and are newly initialized: ['roberta.pooler.dense.bias', 'roberta.pooler.dense.weight']\n",
      "You should probably TRAIN this model on a down-stream task to be able to use it for predictions and inference.\n",
      "The tokenizer class you load from this checkpoint is not the same type as the class this function is called from. It may result in unexpected tokenization. \n",
      "The tokenizer class you load from this checkpoint is 'XLMRobertaTokenizer'. \n",
      "The class this function is called from is 'RobertaTokenizer'.\n"
     ]
    },
    {
     "ename": "TypeError",
     "evalue": "expected str, bytes or os.PathLike object, not NoneType",
     "output_type": "error",
     "traceback": [
      "\u001b[0;31m---------------------------------------------------------------------------\u001b[0m",
      "\u001b[0;31mTypeError\u001b[0m                                 Traceback (most recent call last)",
      "\u001b[0;32m<timed exec>\u001b[0m in \u001b[0;36m<module>\u001b[0;34m\u001b[0m\n",
      "\u001b[0;32m~/anaconda3/lib/python3.8/site-packages/simpletransformers/classification/classification_model.py\u001b[0m in \u001b[0;36m__init__\u001b[0;34m(self, model_type, model_name, tokenizer_type, tokenizer_name, num_labels, weight, args, use_cuda, cuda_device, onnx_execution_provider, **kwargs)\u001b[0m\n\u001b[1;32m    471\u001b[0m             )\n\u001b[1;32m    472\u001b[0m         \u001b[0;32melse\u001b[0m\u001b[0;34m:\u001b[0m\u001b[0;34m\u001b[0m\u001b[0;34m\u001b[0m\u001b[0m\n\u001b[0;32m--> 473\u001b[0;31m             self.tokenizer = tokenizer_class.from_pretrained(\n\u001b[0m\u001b[1;32m    474\u001b[0m                 \u001b[0mtokenizer_name\u001b[0m\u001b[0;34m,\u001b[0m \u001b[0mdo_lower_case\u001b[0m\u001b[0;34m=\u001b[0m\u001b[0mself\u001b[0m\u001b[0;34m.\u001b[0m\u001b[0margs\u001b[0m\u001b[0;34m.\u001b[0m\u001b[0mdo_lower_case\u001b[0m\u001b[0;34m,\u001b[0m \u001b[0;34m**\u001b[0m\u001b[0mkwargs\u001b[0m\u001b[0;34m\u001b[0m\u001b[0;34m\u001b[0m\u001b[0m\n\u001b[1;32m    475\u001b[0m             )\n",
      "\u001b[0;32m~/anaconda3/lib/python3.8/site-packages/transformers/tokenization_utils_base.py\u001b[0m in \u001b[0;36mfrom_pretrained\u001b[0;34m(cls, pretrained_model_name_or_path, *init_inputs, **kwargs)\u001b[0m\n\u001b[1;32m   1730\u001b[0m                 \u001b[0mlogger\u001b[0m\u001b[0;34m.\u001b[0m\u001b[0minfo\u001b[0m\u001b[0;34m(\u001b[0m\u001b[0;34mf\"loading file {file_path} from cache at {resolved_vocab_files[file_id]}\"\u001b[0m\u001b[0;34m)\u001b[0m\u001b[0;34m\u001b[0m\u001b[0;34m\u001b[0m\u001b[0m\n\u001b[1;32m   1731\u001b[0m \u001b[0;34m\u001b[0m\u001b[0m\n\u001b[0;32m-> 1732\u001b[0;31m         return cls._from_pretrained(\n\u001b[0m\u001b[1;32m   1733\u001b[0m             \u001b[0mresolved_vocab_files\u001b[0m\u001b[0;34m,\u001b[0m \u001b[0mpretrained_model_name_or_path\u001b[0m\u001b[0;34m,\u001b[0m \u001b[0minit_configuration\u001b[0m\u001b[0;34m,\u001b[0m \u001b[0;34m*\u001b[0m\u001b[0minit_inputs\u001b[0m\u001b[0;34m,\u001b[0m \u001b[0;34m**\u001b[0m\u001b[0mkwargs\u001b[0m\u001b[0;34m\u001b[0m\u001b[0;34m\u001b[0m\u001b[0m\n\u001b[1;32m   1734\u001b[0m         )\n",
      "\u001b[0;32m~/anaconda3/lib/python3.8/site-packages/transformers/tokenization_utils_base.py\u001b[0m in \u001b[0;36m_from_pretrained\u001b[0;34m(cls, resolved_vocab_files, pretrained_model_name_or_path, init_configuration, *init_inputs, **kwargs)\u001b[0m\n\u001b[1;32m   1743\u001b[0m         \u001b[0mhas_tokenizer_file\u001b[0m \u001b[0;34m=\u001b[0m \u001b[0mresolved_vocab_files\u001b[0m\u001b[0;34m.\u001b[0m\u001b[0mget\u001b[0m\u001b[0;34m(\u001b[0m\u001b[0;34m\"tokenizer_file\"\u001b[0m\u001b[0;34m,\u001b[0m \u001b[0;32mNone\u001b[0m\u001b[0;34m)\u001b[0m \u001b[0;32mis\u001b[0m \u001b[0;32mnot\u001b[0m \u001b[0;32mNone\u001b[0m\u001b[0;34m\u001b[0m\u001b[0;34m\u001b[0m\u001b[0m\n\u001b[1;32m   1744\u001b[0m         \u001b[0;32mif\u001b[0m \u001b[0;34m(\u001b[0m\u001b[0mfrom_slow\u001b[0m \u001b[0;32mor\u001b[0m \u001b[0;32mnot\u001b[0m \u001b[0mhas_tokenizer_file\u001b[0m\u001b[0;34m)\u001b[0m \u001b[0;32mand\u001b[0m \u001b[0mcls\u001b[0m\u001b[0;34m.\u001b[0m\u001b[0mslow_tokenizer_class\u001b[0m \u001b[0;32mis\u001b[0m \u001b[0;32mnot\u001b[0m \u001b[0;32mNone\u001b[0m\u001b[0;34m:\u001b[0m\u001b[0;34m\u001b[0m\u001b[0;34m\u001b[0m\u001b[0m\n\u001b[0;32m-> 1745\u001b[0;31m             slow_tokenizer = (cls.slow_tokenizer_class)._from_pretrained(\n\u001b[0m\u001b[1;32m   1746\u001b[0m                 \u001b[0mcopy\u001b[0m\u001b[0;34m.\u001b[0m\u001b[0mdeepcopy\u001b[0m\u001b[0;34m(\u001b[0m\u001b[0mresolved_vocab_files\u001b[0m\u001b[0;34m)\u001b[0m\u001b[0;34m,\u001b[0m\u001b[0;34m\u001b[0m\u001b[0;34m\u001b[0m\u001b[0m\n\u001b[1;32m   1747\u001b[0m                 \u001b[0mpretrained_model_name_or_path\u001b[0m\u001b[0;34m,\u001b[0m\u001b[0;34m\u001b[0m\u001b[0;34m\u001b[0m\u001b[0m\n",
      "\u001b[0;32m~/anaconda3/lib/python3.8/site-packages/transformers/tokenization_utils_base.py\u001b[0m in \u001b[0;36m_from_pretrained\u001b[0;34m(cls, resolved_vocab_files, pretrained_model_name_or_path, init_configuration, *init_inputs, **kwargs)\u001b[0m\n\u001b[1;32m   1848\u001b[0m         \u001b[0;31m# Instantiate tokenizer.\u001b[0m\u001b[0;34m\u001b[0m\u001b[0;34m\u001b[0m\u001b[0;34m\u001b[0m\u001b[0m\n\u001b[1;32m   1849\u001b[0m         \u001b[0;32mtry\u001b[0m\u001b[0;34m:\u001b[0m\u001b[0;34m\u001b[0m\u001b[0;34m\u001b[0m\u001b[0m\n\u001b[0;32m-> 1850\u001b[0;31m             \u001b[0mtokenizer\u001b[0m \u001b[0;34m=\u001b[0m \u001b[0mcls\u001b[0m\u001b[0;34m(\u001b[0m\u001b[0;34m*\u001b[0m\u001b[0minit_inputs\u001b[0m\u001b[0;34m,\u001b[0m \u001b[0;34m**\u001b[0m\u001b[0minit_kwargs\u001b[0m\u001b[0;34m)\u001b[0m\u001b[0;34m\u001b[0m\u001b[0;34m\u001b[0m\u001b[0m\n\u001b[0m\u001b[1;32m   1851\u001b[0m         \u001b[0;32mexcept\u001b[0m \u001b[0mOSError\u001b[0m\u001b[0;34m:\u001b[0m\u001b[0;34m\u001b[0m\u001b[0;34m\u001b[0m\u001b[0m\n\u001b[1;32m   1852\u001b[0m             raise OSError(\n",
      "\u001b[0;32m~/anaconda3/lib/python3.8/site-packages/transformers/models/roberta/tokenization_roberta.py\u001b[0m in \u001b[0;36m__init__\u001b[0;34m(self, vocab_file, merges_file, errors, bos_token, eos_token, sep_token, cls_token, unk_token, pad_token, mask_token, add_prefix_space, **kwargs)\u001b[0m\n\u001b[1;32m    157\u001b[0m         \u001b[0mmask_token\u001b[0m \u001b[0;34m=\u001b[0m \u001b[0mAddedToken\u001b[0m\u001b[0;34m(\u001b[0m\u001b[0mmask_token\u001b[0m\u001b[0;34m,\u001b[0m \u001b[0mlstrip\u001b[0m\u001b[0;34m=\u001b[0m\u001b[0;32mTrue\u001b[0m\u001b[0;34m,\u001b[0m \u001b[0mrstrip\u001b[0m\u001b[0;34m=\u001b[0m\u001b[0;32mFalse\u001b[0m\u001b[0;34m)\u001b[0m \u001b[0;32mif\u001b[0m \u001b[0misinstance\u001b[0m\u001b[0;34m(\u001b[0m\u001b[0mmask_token\u001b[0m\u001b[0;34m,\u001b[0m \u001b[0mstr\u001b[0m\u001b[0;34m)\u001b[0m \u001b[0;32melse\u001b[0m \u001b[0mmask_token\u001b[0m\u001b[0;34m\u001b[0m\u001b[0;34m\u001b[0m\u001b[0m\n\u001b[1;32m    158\u001b[0m \u001b[0;34m\u001b[0m\u001b[0m\n\u001b[0;32m--> 159\u001b[0;31m         super().__init__(\n\u001b[0m\u001b[1;32m    160\u001b[0m             \u001b[0mvocab_file\u001b[0m\u001b[0;34m=\u001b[0m\u001b[0mvocab_file\u001b[0m\u001b[0;34m,\u001b[0m\u001b[0;34m\u001b[0m\u001b[0;34m\u001b[0m\u001b[0m\n\u001b[1;32m    161\u001b[0m             \u001b[0mmerges_file\u001b[0m\u001b[0;34m=\u001b[0m\u001b[0mmerges_file\u001b[0m\u001b[0;34m,\u001b[0m\u001b[0;34m\u001b[0m\u001b[0;34m\u001b[0m\u001b[0m\n",
      "\u001b[0;32m~/anaconda3/lib/python3.8/site-packages/transformers/models/gpt2/tokenization_gpt2.py\u001b[0m in \u001b[0;36m__init__\u001b[0;34m(self, vocab_file, merges_file, errors, unk_token, bos_token, eos_token, add_prefix_space, **kwargs)\u001b[0m\n\u001b[1;32m    177\u001b[0m         )\n\u001b[1;32m    178\u001b[0m \u001b[0;34m\u001b[0m\u001b[0m\n\u001b[0;32m--> 179\u001b[0;31m         \u001b[0;32mwith\u001b[0m \u001b[0mopen\u001b[0m\u001b[0;34m(\u001b[0m\u001b[0mvocab_file\u001b[0m\u001b[0;34m,\u001b[0m \u001b[0mencoding\u001b[0m\u001b[0;34m=\u001b[0m\u001b[0;34m\"utf-8\"\u001b[0m\u001b[0;34m)\u001b[0m \u001b[0;32mas\u001b[0m \u001b[0mvocab_handle\u001b[0m\u001b[0;34m:\u001b[0m\u001b[0;34m\u001b[0m\u001b[0;34m\u001b[0m\u001b[0m\n\u001b[0m\u001b[1;32m    180\u001b[0m             \u001b[0mself\u001b[0m\u001b[0;34m.\u001b[0m\u001b[0mencoder\u001b[0m \u001b[0;34m=\u001b[0m \u001b[0mjson\u001b[0m\u001b[0;34m.\u001b[0m\u001b[0mload\u001b[0m\u001b[0;34m(\u001b[0m\u001b[0mvocab_handle\u001b[0m\u001b[0;34m)\u001b[0m\u001b[0;34m\u001b[0m\u001b[0;34m\u001b[0m\u001b[0m\n\u001b[1;32m    181\u001b[0m         \u001b[0mself\u001b[0m\u001b[0;34m.\u001b[0m\u001b[0mdecoder\u001b[0m \u001b[0;34m=\u001b[0m \u001b[0;34m{\u001b[0m\u001b[0mv\u001b[0m\u001b[0;34m:\u001b[0m \u001b[0mk\u001b[0m \u001b[0;32mfor\u001b[0m \u001b[0mk\u001b[0m\u001b[0;34m,\u001b[0m \u001b[0mv\u001b[0m \u001b[0;32min\u001b[0m \u001b[0mself\u001b[0m\u001b[0;34m.\u001b[0m\u001b[0mencoder\u001b[0m\u001b[0;34m.\u001b[0m\u001b[0mitems\u001b[0m\u001b[0;34m(\u001b[0m\u001b[0;34m)\u001b[0m\u001b[0;34m}\u001b[0m\u001b[0;34m\u001b[0m\u001b[0;34m\u001b[0m\u001b[0m\n",
      "\u001b[0;31mTypeError\u001b[0m: expected str, bytes or os.PathLike object, not NoneType"
     ]
    }
   ],
   "source": [
    "%%time\n",
    "from simpletransformers.classification import ClassificationModel\n",
    "\n",
    "model_args = {\n",
    "    \"num_train_epochs\": 5,\n",
    "    \"learning_rate\": 1e-5,\n",
    "    \"overwrite_output_dir\": True,\n",
    "    \"train_batch_size\": 40\n",
    "}\n",
    "\n",
    "model = ClassificationModel(\n",
    "    \"roberta\", \"unitary/multilingual-toxic-xlm-roberta\", use_cuda=True,\n",
    "    args=model_args\n",
    "    \n",
    ")\n",
    "\n",
    "model.overwrite_output_dir = True\n",
    "model.train_model(train, )\n",
    "\n",
    "print(model.eval_model(test))\n",
    "from sklearn.metrics import accuracy_score, f1_score\n",
    "y_true = test[\"labels\"]\n",
    "y_pred = model.predict(list(test[\"text\"].values))[0]\n",
    "\n",
    "accuracy = accuracy_score(y_true, y_pred)\n",
    "print(\"Accuracy: \", accuracy)\n",
    "f1 = f1_score(y_true, y_pred)\n",
    "print(\"F1 score: \", f1)"
   ]
  },
  {
   "cell_type": "markdown",
   "metadata": {},
   "source": [
    "## Slovenian"
   ]
  },
  {
   "cell_type": "code",
   "execution_count": 11,
   "metadata": {},
   "outputs": [
    {
     "name": "stderr",
     "output_type": "stream",
     "text": [
      "You are using a model of type xlm-roberta to instantiate a model of type roberta. This is not supported for all configurations of models and can yield errors.\n",
      "Some weights of RobertaForSequenceClassification were not initialized from the model checkpoint at unitary/multilingual-toxic-xlm-roberta and are newly initialized: ['roberta.pooler.dense.bias', 'roberta.pooler.dense.weight']\n",
      "You should probably TRAIN this model on a down-stream task to be able to use it for predictions and inference.\n",
      "The tokenizer class you load from this checkpoint is not the same type as the class this function is called from. It may result in unexpected tokenization. \n",
      "The tokenizer class you load from this checkpoint is 'XLMRobertaTokenizer'. \n",
      "The class this function is called from is 'RobertaTokenizer'.\n"
     ]
    },
    {
     "ename": "TypeError",
     "evalue": "expected str, bytes or os.PathLike object, not NoneType",
     "output_type": "error",
     "traceback": [
      "\u001b[0;31m---------------------------------------------------------------------------\u001b[0m",
      "\u001b[0;31mTypeError\u001b[0m                                 Traceback (most recent call last)",
      "\u001b[0;32m<timed exec>\u001b[0m in \u001b[0;36m<module>\u001b[0;34m\u001b[0m\n",
      "\u001b[0;32m~/anaconda3/lib/python3.8/site-packages/simpletransformers/classification/classification_model.py\u001b[0m in \u001b[0;36m__init__\u001b[0;34m(self, model_type, model_name, tokenizer_type, tokenizer_name, num_labels, weight, args, use_cuda, cuda_device, onnx_execution_provider, **kwargs)\u001b[0m\n\u001b[1;32m    471\u001b[0m             )\n\u001b[1;32m    472\u001b[0m         \u001b[0;32melse\u001b[0m\u001b[0;34m:\u001b[0m\u001b[0;34m\u001b[0m\u001b[0;34m\u001b[0m\u001b[0m\n\u001b[0;32m--> 473\u001b[0;31m             self.tokenizer = tokenizer_class.from_pretrained(\n\u001b[0m\u001b[1;32m    474\u001b[0m                 \u001b[0mtokenizer_name\u001b[0m\u001b[0;34m,\u001b[0m \u001b[0mdo_lower_case\u001b[0m\u001b[0;34m=\u001b[0m\u001b[0mself\u001b[0m\u001b[0;34m.\u001b[0m\u001b[0margs\u001b[0m\u001b[0;34m.\u001b[0m\u001b[0mdo_lower_case\u001b[0m\u001b[0;34m,\u001b[0m \u001b[0;34m**\u001b[0m\u001b[0mkwargs\u001b[0m\u001b[0;34m\u001b[0m\u001b[0;34m\u001b[0m\u001b[0m\n\u001b[1;32m    475\u001b[0m             )\n",
      "\u001b[0;32m~/anaconda3/lib/python3.8/site-packages/transformers/tokenization_utils_base.py\u001b[0m in \u001b[0;36mfrom_pretrained\u001b[0;34m(cls, pretrained_model_name_or_path, *init_inputs, **kwargs)\u001b[0m\n\u001b[1;32m   1730\u001b[0m                 \u001b[0mlogger\u001b[0m\u001b[0;34m.\u001b[0m\u001b[0minfo\u001b[0m\u001b[0;34m(\u001b[0m\u001b[0;34mf\"loading file {file_path} from cache at {resolved_vocab_files[file_id]}\"\u001b[0m\u001b[0;34m)\u001b[0m\u001b[0;34m\u001b[0m\u001b[0;34m\u001b[0m\u001b[0m\n\u001b[1;32m   1731\u001b[0m \u001b[0;34m\u001b[0m\u001b[0m\n\u001b[0;32m-> 1732\u001b[0;31m         return cls._from_pretrained(\n\u001b[0m\u001b[1;32m   1733\u001b[0m             \u001b[0mresolved_vocab_files\u001b[0m\u001b[0;34m,\u001b[0m \u001b[0mpretrained_model_name_or_path\u001b[0m\u001b[0;34m,\u001b[0m \u001b[0minit_configuration\u001b[0m\u001b[0;34m,\u001b[0m \u001b[0;34m*\u001b[0m\u001b[0minit_inputs\u001b[0m\u001b[0;34m,\u001b[0m \u001b[0;34m**\u001b[0m\u001b[0mkwargs\u001b[0m\u001b[0;34m\u001b[0m\u001b[0;34m\u001b[0m\u001b[0m\n\u001b[1;32m   1734\u001b[0m         )\n",
      "\u001b[0;32m~/anaconda3/lib/python3.8/site-packages/transformers/tokenization_utils_base.py\u001b[0m in \u001b[0;36m_from_pretrained\u001b[0;34m(cls, resolved_vocab_files, pretrained_model_name_or_path, init_configuration, *init_inputs, **kwargs)\u001b[0m\n\u001b[1;32m   1743\u001b[0m         \u001b[0mhas_tokenizer_file\u001b[0m \u001b[0;34m=\u001b[0m \u001b[0mresolved_vocab_files\u001b[0m\u001b[0;34m.\u001b[0m\u001b[0mget\u001b[0m\u001b[0;34m(\u001b[0m\u001b[0;34m\"tokenizer_file\"\u001b[0m\u001b[0;34m,\u001b[0m \u001b[0;32mNone\u001b[0m\u001b[0;34m)\u001b[0m \u001b[0;32mis\u001b[0m \u001b[0;32mnot\u001b[0m \u001b[0;32mNone\u001b[0m\u001b[0;34m\u001b[0m\u001b[0;34m\u001b[0m\u001b[0m\n\u001b[1;32m   1744\u001b[0m         \u001b[0;32mif\u001b[0m \u001b[0;34m(\u001b[0m\u001b[0mfrom_slow\u001b[0m \u001b[0;32mor\u001b[0m \u001b[0;32mnot\u001b[0m \u001b[0mhas_tokenizer_file\u001b[0m\u001b[0;34m)\u001b[0m \u001b[0;32mand\u001b[0m \u001b[0mcls\u001b[0m\u001b[0;34m.\u001b[0m\u001b[0mslow_tokenizer_class\u001b[0m \u001b[0;32mis\u001b[0m \u001b[0;32mnot\u001b[0m \u001b[0;32mNone\u001b[0m\u001b[0;34m:\u001b[0m\u001b[0;34m\u001b[0m\u001b[0;34m\u001b[0m\u001b[0m\n\u001b[0;32m-> 1745\u001b[0;31m             slow_tokenizer = (cls.slow_tokenizer_class)._from_pretrained(\n\u001b[0m\u001b[1;32m   1746\u001b[0m                 \u001b[0mcopy\u001b[0m\u001b[0;34m.\u001b[0m\u001b[0mdeepcopy\u001b[0m\u001b[0;34m(\u001b[0m\u001b[0mresolved_vocab_files\u001b[0m\u001b[0;34m)\u001b[0m\u001b[0;34m,\u001b[0m\u001b[0;34m\u001b[0m\u001b[0;34m\u001b[0m\u001b[0m\n\u001b[1;32m   1747\u001b[0m                 \u001b[0mpretrained_model_name_or_path\u001b[0m\u001b[0;34m,\u001b[0m\u001b[0;34m\u001b[0m\u001b[0;34m\u001b[0m\u001b[0m\n",
      "\u001b[0;32m~/anaconda3/lib/python3.8/site-packages/transformers/tokenization_utils_base.py\u001b[0m in \u001b[0;36m_from_pretrained\u001b[0;34m(cls, resolved_vocab_files, pretrained_model_name_or_path, init_configuration, *init_inputs, **kwargs)\u001b[0m\n\u001b[1;32m   1848\u001b[0m         \u001b[0;31m# Instantiate tokenizer.\u001b[0m\u001b[0;34m\u001b[0m\u001b[0;34m\u001b[0m\u001b[0;34m\u001b[0m\u001b[0m\n\u001b[1;32m   1849\u001b[0m         \u001b[0;32mtry\u001b[0m\u001b[0;34m:\u001b[0m\u001b[0;34m\u001b[0m\u001b[0;34m\u001b[0m\u001b[0m\n\u001b[0;32m-> 1850\u001b[0;31m             \u001b[0mtokenizer\u001b[0m \u001b[0;34m=\u001b[0m \u001b[0mcls\u001b[0m\u001b[0;34m(\u001b[0m\u001b[0;34m*\u001b[0m\u001b[0minit_inputs\u001b[0m\u001b[0;34m,\u001b[0m \u001b[0;34m**\u001b[0m\u001b[0minit_kwargs\u001b[0m\u001b[0;34m)\u001b[0m\u001b[0;34m\u001b[0m\u001b[0;34m\u001b[0m\u001b[0m\n\u001b[0m\u001b[1;32m   1851\u001b[0m         \u001b[0;32mexcept\u001b[0m \u001b[0mOSError\u001b[0m\u001b[0;34m:\u001b[0m\u001b[0;34m\u001b[0m\u001b[0;34m\u001b[0m\u001b[0m\n\u001b[1;32m   1852\u001b[0m             raise OSError(\n",
      "\u001b[0;32m~/anaconda3/lib/python3.8/site-packages/transformers/models/roberta/tokenization_roberta.py\u001b[0m in \u001b[0;36m__init__\u001b[0;34m(self, vocab_file, merges_file, errors, bos_token, eos_token, sep_token, cls_token, unk_token, pad_token, mask_token, add_prefix_space, **kwargs)\u001b[0m\n\u001b[1;32m    157\u001b[0m         \u001b[0mmask_token\u001b[0m \u001b[0;34m=\u001b[0m \u001b[0mAddedToken\u001b[0m\u001b[0;34m(\u001b[0m\u001b[0mmask_token\u001b[0m\u001b[0;34m,\u001b[0m \u001b[0mlstrip\u001b[0m\u001b[0;34m=\u001b[0m\u001b[0;32mTrue\u001b[0m\u001b[0;34m,\u001b[0m \u001b[0mrstrip\u001b[0m\u001b[0;34m=\u001b[0m\u001b[0;32mFalse\u001b[0m\u001b[0;34m)\u001b[0m \u001b[0;32mif\u001b[0m \u001b[0misinstance\u001b[0m\u001b[0;34m(\u001b[0m\u001b[0mmask_token\u001b[0m\u001b[0;34m,\u001b[0m \u001b[0mstr\u001b[0m\u001b[0;34m)\u001b[0m \u001b[0;32melse\u001b[0m \u001b[0mmask_token\u001b[0m\u001b[0;34m\u001b[0m\u001b[0;34m\u001b[0m\u001b[0m\n\u001b[1;32m    158\u001b[0m \u001b[0;34m\u001b[0m\u001b[0m\n\u001b[0;32m--> 159\u001b[0;31m         super().__init__(\n\u001b[0m\u001b[1;32m    160\u001b[0m             \u001b[0mvocab_file\u001b[0m\u001b[0;34m=\u001b[0m\u001b[0mvocab_file\u001b[0m\u001b[0;34m,\u001b[0m\u001b[0;34m\u001b[0m\u001b[0;34m\u001b[0m\u001b[0m\n\u001b[1;32m    161\u001b[0m             \u001b[0mmerges_file\u001b[0m\u001b[0;34m=\u001b[0m\u001b[0mmerges_file\u001b[0m\u001b[0;34m,\u001b[0m\u001b[0;34m\u001b[0m\u001b[0;34m\u001b[0m\u001b[0m\n",
      "\u001b[0;32m~/anaconda3/lib/python3.8/site-packages/transformers/models/gpt2/tokenization_gpt2.py\u001b[0m in \u001b[0;36m__init__\u001b[0;34m(self, vocab_file, merges_file, errors, unk_token, bos_token, eos_token, add_prefix_space, **kwargs)\u001b[0m\n\u001b[1;32m    177\u001b[0m         )\n\u001b[1;32m    178\u001b[0m \u001b[0;34m\u001b[0m\u001b[0m\n\u001b[0;32m--> 179\u001b[0;31m         \u001b[0;32mwith\u001b[0m \u001b[0mopen\u001b[0m\u001b[0;34m(\u001b[0m\u001b[0mvocab_file\u001b[0m\u001b[0;34m,\u001b[0m \u001b[0mencoding\u001b[0m\u001b[0;34m=\u001b[0m\u001b[0;34m\"utf-8\"\u001b[0m\u001b[0;34m)\u001b[0m \u001b[0;32mas\u001b[0m \u001b[0mvocab_handle\u001b[0m\u001b[0;34m:\u001b[0m\u001b[0;34m\u001b[0m\u001b[0;34m\u001b[0m\u001b[0m\n\u001b[0m\u001b[1;32m    180\u001b[0m             \u001b[0mself\u001b[0m\u001b[0;34m.\u001b[0m\u001b[0mencoder\u001b[0m \u001b[0;34m=\u001b[0m \u001b[0mjson\u001b[0m\u001b[0;34m.\u001b[0m\u001b[0mload\u001b[0m\u001b[0;34m(\u001b[0m\u001b[0mvocab_handle\u001b[0m\u001b[0;34m)\u001b[0m\u001b[0;34m\u001b[0m\u001b[0;34m\u001b[0m\u001b[0m\n\u001b[1;32m    181\u001b[0m         \u001b[0mself\u001b[0m\u001b[0;34m.\u001b[0m\u001b[0mdecoder\u001b[0m \u001b[0;34m=\u001b[0m \u001b[0;34m{\u001b[0m\u001b[0mv\u001b[0m\u001b[0;34m:\u001b[0m \u001b[0mk\u001b[0m \u001b[0;32mfor\u001b[0m \u001b[0mk\u001b[0m\u001b[0;34m,\u001b[0m \u001b[0mv\u001b[0m \u001b[0;32min\u001b[0m \u001b[0mself\u001b[0m\u001b[0;34m.\u001b[0m\u001b[0mencoder\u001b[0m\u001b[0;34m.\u001b[0m\u001b[0mitems\u001b[0m\u001b[0;34m(\u001b[0m\u001b[0;34m)\u001b[0m\u001b[0;34m}\u001b[0m\u001b[0;34m\u001b[0m\u001b[0;34m\u001b[0m\u001b[0m\n",
      "\u001b[0;31mTypeError\u001b[0m: expected str, bytes or os.PathLike object, not NoneType"
     ]
    }
   ],
   "source": [
    "%%time\n",
    "train_fname = \"../data/lgbt-sl.train.tsv\"\n",
    "test_fname = \"../data/lgbt-sl.test.tsv\"\n",
    "\n",
    "train = read_file(train_fname)\n",
    "test = read_file(test_fname)\n",
    "\n",
    "\n",
    "model_args = {\n",
    "    \"num_train_epochs\": 5,\n",
    "    \"learning_rate\": 1e-5,\n",
    "    \"overwrite_output_dir\": True,\n",
    "    \"train_batch_size\": 40\n",
    "}\n",
    "\n",
    "model = ClassificationModel(\n",
    "    \"roberta\", \"unitary/multilingual-toxic-xlm-roberta\", use_cuda=True,\n",
    "    args=model_args\n",
    "    \n",
    ")\n",
    "\n",
    "model.overwrite_output_dir = True\n",
    "model.train_model(train, )\n",
    "\n",
    "print(model.eval_model(test))\n",
    "from sklearn.metrics import accuracy_score, f1_score\n",
    "y_true = test[\"labels\"]\n",
    "y_pred = model.predict(list(test[\"text\"].values))[0]\n",
    "\n",
    "accuracy = accuracy_score(y_true, y_pred)\n",
    "print(\"Accuracy: \", accuracy)\n",
    "f1 = f1_score(y_true, y_pred)\n",
    "print(\"F1 score: \", f1)"
   ]
  },
  {
   "cell_type": "markdown",
   "metadata": {},
   "source": [
    "## Croatian"
   ]
  },
  {
   "cell_type": "code",
   "execution_count": 5,
   "metadata": {},
   "outputs": [
    {
     "data": {
      "application/vnd.jupyter.widget-view+json": {
       "model_id": "c83bcaa4c7164f3c9e76a1d6e6e72940",
       "version_major": 2,
       "version_minor": 0
      },
      "text/plain": [
       "HBox(children=(FloatProgress(value=0.0, max=4495.0), HTML(value='')))"
      ]
     },
     "metadata": {},
     "output_type": "display_data"
    },
    {
     "name": "stdout",
     "output_type": "stream",
     "text": [
      "\n"
     ]
    },
    {
     "data": {
      "application/vnd.jupyter.widget-view+json": {
       "model_id": "f957c67785744f4186257d4bfe952dc7",
       "version_major": 2,
       "version_minor": 0
      },
      "text/plain": [
       "HBox(children=(FloatProgress(value=0.0, description='Epoch', max=5.0, style=ProgressStyle(description_width='i…"
      ]
     },
     "metadata": {},
     "output_type": "display_data"
    },
    {
     "data": {
      "application/vnd.jupyter.widget-view+json": {
       "model_id": "82ef3b7498ae4be69b6a50105f99bf87",
       "version_major": 2,
       "version_minor": 0
      },
      "text/plain": [
       "HBox(children=(FloatProgress(value=0.0, description='Running Epoch 0 of 5', max=113.0, style=ProgressStyle(des…"
      ]
     },
     "metadata": {},
     "output_type": "display_data"
    },
    {
     "name": "stdout",
     "output_type": "stream",
     "text": [
      "\n"
     ]
    },
    {
     "data": {
      "application/vnd.jupyter.widget-view+json": {
       "model_id": "8a1a2a0983fc49bea7f995ee53db61a9",
       "version_major": 2,
       "version_minor": 0
      },
      "text/plain": [
       "HBox(children=(FloatProgress(value=0.0, description='Running Epoch 1 of 5', max=113.0, style=ProgressStyle(des…"
      ]
     },
     "metadata": {},
     "output_type": "display_data"
    },
    {
     "name": "stdout",
     "output_type": "stream",
     "text": [
      "\n"
     ]
    },
    {
     "data": {
      "application/vnd.jupyter.widget-view+json": {
       "model_id": "c9d23b649dd943d7a0f246d009071cf6",
       "version_major": 2,
       "version_minor": 0
      },
      "text/plain": [
       "HBox(children=(FloatProgress(value=0.0, description='Running Epoch 2 of 5', max=113.0, style=ProgressStyle(des…"
      ]
     },
     "metadata": {},
     "output_type": "display_data"
    },
    {
     "name": "stdout",
     "output_type": "stream",
     "text": [
      "\n"
     ]
    },
    {
     "data": {
      "application/vnd.jupyter.widget-view+json": {
       "model_id": "1f61096a1e7f4610a9d5352a157d9c58",
       "version_major": 2,
       "version_minor": 0
      },
      "text/plain": [
       "HBox(children=(FloatProgress(value=0.0, description='Running Epoch 3 of 5', max=113.0, style=ProgressStyle(des…"
      ]
     },
     "metadata": {},
     "output_type": "display_data"
    },
    {
     "name": "stdout",
     "output_type": "stream",
     "text": [
      "\n"
     ]
    },
    {
     "data": {
      "application/vnd.jupyter.widget-view+json": {
       "model_id": "9eda81576a2d451d9ceabf2a6623958c",
       "version_major": 2,
       "version_minor": 0
      },
      "text/plain": [
       "HBox(children=(FloatProgress(value=0.0, description='Running Epoch 4 of 5', max=113.0, style=ProgressStyle(des…"
      ]
     },
     "metadata": {},
     "output_type": "display_data"
    },
    {
     "name": "stdout",
     "output_type": "stream",
     "text": [
      "\n",
      "\n"
     ]
    },
    {
     "data": {
      "application/vnd.jupyter.widget-view+json": {
       "model_id": "e8a62eec7d9341e2894e3d26d80e53b4",
       "version_major": 2,
       "version_minor": 0
      },
      "text/plain": [
       "HBox(children=(FloatProgress(value=0.0, max=1142.0), HTML(value='')))"
      ]
     },
     "metadata": {},
     "output_type": "display_data"
    },
    {
     "name": "stdout",
     "output_type": "stream",
     "text": [
      "\n"
     ]
    },
    {
     "data": {
      "application/vnd.jupyter.widget-view+json": {
       "model_id": "1b5bff89727d458599e28531dd408bbc",
       "version_major": 2,
       "version_minor": 0
      },
      "text/plain": [
       "HBox(children=(FloatProgress(value=0.0, description='Running Evaluation', max=143.0, style=ProgressStyle(descr…"
      ]
     },
     "metadata": {},
     "output_type": "display_data"
    },
    {
     "name": "stdout",
     "output_type": "stream",
     "text": [
      "\n",
      "({'mcc': 0.5328066215514191, 'tp': 620, 'tn': 279, 'fp': 119, 'fn': 124, 'auroc': 0.8692403550008105, 'auprc': 0.9228963119282649, 'eval_loss': 0.5030829085336699}, array([[ 3.02929688, -3.21289062],\n",
      "       [-2.8671875 ,  3.30664062],\n",
      "       [ 0.77197266, -0.9375    ],\n",
      "       ...,\n",
      "       [-0.52441406,  0.45507812],\n",
      "       [ 0.79052734, -1.11230469],\n",
      "       [ 1.625     , -1.89453125]]), [])\n"
     ]
    },
    {
     "data": {
      "application/vnd.jupyter.widget-view+json": {
       "model_id": "53390b8d846e4b0da5285e505db76d7e",
       "version_major": 2,
       "version_minor": 0
      },
      "text/plain": [
       "HBox(children=(FloatProgress(value=0.0, max=1142.0), HTML(value='')))"
      ]
     },
     "metadata": {},
     "output_type": "display_data"
    },
    {
     "name": "stdout",
     "output_type": "stream",
     "text": [
      "\n"
     ]
    },
    {
     "data": {
      "application/vnd.jupyter.widget-view+json": {
       "model_id": "7f41755d8dce4a33940dacad1d673322",
       "version_major": 2,
       "version_minor": 0
      },
      "text/plain": [
       "HBox(children=(FloatProgress(value=0.0, max=143.0), HTML(value='')))"
      ]
     },
     "metadata": {},
     "output_type": "display_data"
    },
    {
     "name": "stdout",
     "output_type": "stream",
     "text": [
      "\n",
      "Accuracy:  0.787215411558669\n",
      "F1 score:  0.8361429534726905\n",
      "CPU times: user 1min 12s, sys: 35.5 s, total: 1min 48s\n",
      "Wall time: 1min 55s\n"
     ]
    }
   ],
   "source": [
    "%%time\n",
    "train_fname = \"../data/lgbt-hr.train.tsv\"\n",
    "test_fname = \"../data/lgbt-hr.test.tsv\"\n",
    "\n",
    "train = read_file(train_fname)\n",
    "test = read_file(test_fname)\n",
    "\n",
    "\n",
    "model_args = {\n",
    "    \"num_train_epochs\": 5,\n",
    "    \"learning_rate\": 1e-5,\n",
    "    \"overwrite_output_dir\": True,\n",
    "    \"train_batch_size\": 40\n",
    "}\n",
    "\n",
    "model = ClassificationModel(\n",
    "    \"roberta\", \"unitary/multilingual-toxic-xlm-roberta\", use_cuda=True,\n",
    "    args=model_args\n",
    "    \n",
    ")\n",
    "\n",
    "model.overwrite_output_dir = True\n",
    "model.train_model(train, )\n",
    "\n",
    "print(model.eval_model(test))\n",
    "from sklearn.metrics import accuracy_score, f1_score\n",
    "y_true = test[\"labels\"]\n",
    "y_pred = model.predict(list(test[\"text\"].values))[0]\n",
    "\n",
    "accuracy = accuracy_score(y_true, y_pred)\n",
    "print(\"Accuracy: \", accuracy)\n",
    "f1 = f1_score(y_true, y_pred)\n",
    "print(\"F1 score: \", f1)"
   ]
  },
  {
   "cell_type": "markdown",
   "metadata": {},
   "source": [
    "# Distilbert"
   ]
  },
  {
   "cell_type": "markdown",
   "metadata": {},
   "source": [
    "## Slovenian"
   ]
  },
  {
   "cell_type": "code",
   "execution_count": 6,
   "metadata": {},
   "outputs": [
    {
     "data": {
      "application/vnd.jupyter.widget-view+json": {
       "model_id": "7a43e36696c447bdaf932063a3f8a4b9",
       "version_major": 2,
       "version_minor": 0
      },
      "text/plain": [
       "HBox(children=(FloatProgress(value=0.0, max=2844.0), HTML(value='')))"
      ]
     },
     "metadata": {},
     "output_type": "display_data"
    },
    {
     "name": "stdout",
     "output_type": "stream",
     "text": [
      "\n"
     ]
    },
    {
     "data": {
      "application/vnd.jupyter.widget-view+json": {
       "model_id": "5a1a317cd0a8462a8f2c7a17cc22b2ce",
       "version_major": 2,
       "version_minor": 0
      },
      "text/plain": [
       "HBox(children=(FloatProgress(value=0.0, description='Epoch', max=5.0, style=ProgressStyle(description_width='i…"
      ]
     },
     "metadata": {},
     "output_type": "display_data"
    },
    {
     "data": {
      "application/vnd.jupyter.widget-view+json": {
       "model_id": "6c46fe1fb2ed429089ce625ec35a0cfb",
       "version_major": 2,
       "version_minor": 0
      },
      "text/plain": [
       "HBox(children=(FloatProgress(value=0.0, description='Running Epoch 0 of 5', max=72.0, style=ProgressStyle(desc…"
      ]
     },
     "metadata": {},
     "output_type": "display_data"
    },
    {
     "name": "stderr",
     "output_type": "stream",
     "text": [
      "/home/peterr/anaconda3/lib/python3.8/site-packages/torch/optim/lr_scheduler.py:129: UserWarning: Detected call of `lr_scheduler.step()` before `optimizer.step()`. In PyTorch 1.1.0 and later, you should call them in the opposite order: `optimizer.step()` before `lr_scheduler.step()`.  Failure to do this will result in PyTorch skipping the first value of the learning rate schedule. See more details at https://pytorch.org/docs/stable/optim.html#how-to-adjust-learning-rate\n",
      "  warnings.warn(\"Detected call of `lr_scheduler.step()` before `optimizer.step()`. \"\n"
     ]
    },
    {
     "name": "stdout",
     "output_type": "stream",
     "text": [
      "\n"
     ]
    },
    {
     "data": {
      "application/vnd.jupyter.widget-view+json": {
       "model_id": "5e396e070e714b00bb2034c405483298",
       "version_major": 2,
       "version_minor": 0
      },
      "text/plain": [
       "HBox(children=(FloatProgress(value=0.0, description='Running Epoch 1 of 5', max=72.0, style=ProgressStyle(desc…"
      ]
     },
     "metadata": {},
     "output_type": "display_data"
    },
    {
     "name": "stdout",
     "output_type": "stream",
     "text": [
      "\n"
     ]
    },
    {
     "data": {
      "application/vnd.jupyter.widget-view+json": {
       "model_id": "1b96ff33b0634f6faac989d1a9aa8c01",
       "version_major": 2,
       "version_minor": 0
      },
      "text/plain": [
       "HBox(children=(FloatProgress(value=0.0, description='Running Epoch 2 of 5', max=72.0, style=ProgressStyle(desc…"
      ]
     },
     "metadata": {},
     "output_type": "display_data"
    },
    {
     "name": "stdout",
     "output_type": "stream",
     "text": [
      "\n"
     ]
    },
    {
     "data": {
      "application/vnd.jupyter.widget-view+json": {
       "model_id": "ef88d0f4ed554851ae80572756046e3d",
       "version_major": 2,
       "version_minor": 0
      },
      "text/plain": [
       "HBox(children=(FloatProgress(value=0.0, description='Running Epoch 3 of 5', max=72.0, style=ProgressStyle(desc…"
      ]
     },
     "metadata": {},
     "output_type": "display_data"
    },
    {
     "name": "stdout",
     "output_type": "stream",
     "text": [
      "\n"
     ]
    },
    {
     "data": {
      "application/vnd.jupyter.widget-view+json": {
       "model_id": "ec305e4a739a439e8a4b0d7c9960acdc",
       "version_major": 2,
       "version_minor": 0
      },
      "text/plain": [
       "HBox(children=(FloatProgress(value=0.0, description='Running Epoch 4 of 5', max=72.0, style=ProgressStyle(desc…"
      ]
     },
     "metadata": {},
     "output_type": "display_data"
    },
    {
     "name": "stdout",
     "output_type": "stream",
     "text": [
      "\n",
      "\n"
     ]
    },
    {
     "data": {
      "application/vnd.jupyter.widget-view+json": {
       "model_id": "e8d83d990c494bffb49a38436bbbb923",
       "version_major": 2,
       "version_minor": 0
      },
      "text/plain": [
       "HBox(children=(FloatProgress(value=0.0, max=900.0), HTML(value='')))"
      ]
     },
     "metadata": {},
     "output_type": "display_data"
    },
    {
     "name": "stdout",
     "output_type": "stream",
     "text": [
      "\n"
     ]
    },
    {
     "data": {
      "application/vnd.jupyter.widget-view+json": {
       "model_id": "9537fdb1972d474d9e9a6754d88e4b4d",
       "version_major": 2,
       "version_minor": 0
      },
      "text/plain": [
       "HBox(children=(FloatProgress(value=0.0, description='Running Evaluation', max=113.0, style=ProgressStyle(descr…"
      ]
     },
     "metadata": {},
     "output_type": "display_data"
    },
    {
     "name": "stdout",
     "output_type": "stream",
     "text": [
      "\n",
      "({'mcc': 0.0865368177806467, 'tp': 248, 'tn': 234, 'fp': 155, 'fn': 263, 'auroc': 0.5793947046720227, 'auprc': 0.6323780813126891, 'eval_loss': 0.7905932401133849}, array([[-0.14331055,  0.19824219],\n",
      "       [ 0.79785156, -0.68652344],\n",
      "       [-0.32250977,  0.31982422],\n",
      "       ...,\n",
      "       [-0.04086304,  0.07098389],\n",
      "       [-0.09295654,  0.17541504],\n",
      "       [-0.07128906,  0.1385498 ]]), [])\n"
     ]
    },
    {
     "data": {
      "application/vnd.jupyter.widget-view+json": {
       "model_id": "1db18e06ec0842fcb5fabe555085ce0a",
       "version_major": 2,
       "version_minor": 0
      },
      "text/plain": [
       "HBox(children=(FloatProgress(value=0.0, max=900.0), HTML(value='')))"
      ]
     },
     "metadata": {},
     "output_type": "display_data"
    },
    {
     "name": "stdout",
     "output_type": "stream",
     "text": [
      "\n"
     ]
    },
    {
     "data": {
      "application/vnd.jupyter.widget-view+json": {
       "model_id": "696e68eecd764a1988184ba576f01f0e",
       "version_major": 2,
       "version_minor": 0
      },
      "text/plain": [
       "HBox(children=(FloatProgress(value=0.0, max=113.0), HTML(value='')))"
      ]
     },
     "metadata": {},
     "output_type": "display_data"
    },
    {
     "name": "stdout",
     "output_type": "stream",
     "text": [
      "\n",
      "Accuracy:  0.5355555555555556\n",
      "F1 score:  0.5426695842450766\n",
      "CPU times: user 26.9 s, sys: 12.9 s, total: 39.9 s\n",
      "Wall time: 42.9 s\n"
     ]
    }
   ],
   "source": [
    "%%time\n",
    "train_fname = \"../data/lgbt-sl.train.tsv\"\n",
    "test_fname = \"../data/lgbt-sl.test.tsv\"\n",
    "\n",
    "train = read_file(train_fname)\n",
    "test = read_file(test_fname)\n",
    "\n",
    "\n",
    "model_args = {\n",
    "    \"num_train_epochs\": 5,\n",
    "    \"learning_rate\": 1e-5,\n",
    "    \"overwrite_output_dir\": True,\n",
    "    \"train_batch_size\": 40\n",
    "}\n",
    "\n",
    "model = ClassificationModel(\n",
    "     \"distilbert\", \"distilbert-base-uncased-finetuned-sst-2-english\", use_cuda=True,\n",
    "    args=model_args\n",
    "    \n",
    ")\n",
    "\n",
    "model.overwrite_output_dir = True\n",
    "model.train_model(train, )\n",
    "\n",
    "print(model.eval_model(test))\n",
    "from sklearn.metrics import accuracy_score, f1_score\n",
    "y_true = test[\"labels\"]\n",
    "y_pred = model.predict(list(test[\"text\"].values))[0]\n",
    "\n",
    "accuracy = accuracy_score(y_true, y_pred)\n",
    "print(\"Accuracy: \", accuracy)\n",
    "f1 = f1_score(y_true, y_pred)\n",
    "print(\"F1 score: \", f1)"
   ]
  },
  {
   "cell_type": "code",
   "execution_count": null,
   "metadata": {},
   "outputs": [],
   "source": []
  },
  {
   "cell_type": "markdown",
   "metadata": {},
   "source": [
    "## English"
   ]
  },
  {
   "cell_type": "code",
   "execution_count": 7,
   "metadata": {},
   "outputs": [
    {
     "data": {
      "application/vnd.jupyter.widget-view+json": {
       "model_id": "2aafab82cd8f4e81a4b329b2b7dceb8d",
       "version_major": 2,
       "version_minor": 0
      },
      "text/plain": [
       "HBox(children=(FloatProgress(value=0.0, max=4819.0), HTML(value='')))"
      ]
     },
     "metadata": {},
     "output_type": "display_data"
    },
    {
     "name": "stdout",
     "output_type": "stream",
     "text": [
      "\n"
     ]
    },
    {
     "data": {
      "application/vnd.jupyter.widget-view+json": {
       "model_id": "a411cebc26354a39a9d09b42875e8033",
       "version_major": 2,
       "version_minor": 0
      },
      "text/plain": [
       "HBox(children=(FloatProgress(value=0.0, description='Epoch', max=5.0, style=ProgressStyle(description_width='i…"
      ]
     },
     "metadata": {},
     "output_type": "display_data"
    },
    {
     "data": {
      "application/vnd.jupyter.widget-view+json": {
       "model_id": "06d8221e36c342e3ac80b7427d286f68",
       "version_major": 2,
       "version_minor": 0
      },
      "text/plain": [
       "HBox(children=(FloatProgress(value=0.0, description='Running Epoch 0 of 5', max=121.0, style=ProgressStyle(des…"
      ]
     },
     "metadata": {},
     "output_type": "display_data"
    },
    {
     "name": "stdout",
     "output_type": "stream",
     "text": [
      "\n"
     ]
    },
    {
     "data": {
      "application/vnd.jupyter.widget-view+json": {
       "model_id": "c4da5f358dbb48898adb86cdfbaa043c",
       "version_major": 2,
       "version_minor": 0
      },
      "text/plain": [
       "HBox(children=(FloatProgress(value=0.0, description='Running Epoch 1 of 5', max=121.0, style=ProgressStyle(des…"
      ]
     },
     "metadata": {},
     "output_type": "display_data"
    },
    {
     "name": "stdout",
     "output_type": "stream",
     "text": [
      "\n"
     ]
    },
    {
     "data": {
      "application/vnd.jupyter.widget-view+json": {
       "model_id": "b4ff3231261943ca825058f990545c9c",
       "version_major": 2,
       "version_minor": 0
      },
      "text/plain": [
       "HBox(children=(FloatProgress(value=0.0, description='Running Epoch 2 of 5', max=121.0, style=ProgressStyle(des…"
      ]
     },
     "metadata": {},
     "output_type": "display_data"
    },
    {
     "name": "stdout",
     "output_type": "stream",
     "text": [
      "\n"
     ]
    },
    {
     "data": {
      "application/vnd.jupyter.widget-view+json": {
       "model_id": "d59ab5eb0f63465db97b817aa1888ca8",
       "version_major": 2,
       "version_minor": 0
      },
      "text/plain": [
       "HBox(children=(FloatProgress(value=0.0, description='Running Epoch 3 of 5', max=121.0, style=ProgressStyle(des…"
      ]
     },
     "metadata": {},
     "output_type": "display_data"
    },
    {
     "name": "stdout",
     "output_type": "stream",
     "text": [
      "\n"
     ]
    },
    {
     "data": {
      "application/vnd.jupyter.widget-view+json": {
       "model_id": "0ce3a293fe19457eb9f0259c3acf11b8",
       "version_major": 2,
       "version_minor": 0
      },
      "text/plain": [
       "HBox(children=(FloatProgress(value=0.0, description='Running Epoch 4 of 5', max=121.0, style=ProgressStyle(des…"
      ]
     },
     "metadata": {},
     "output_type": "display_data"
    },
    {
     "name": "stdout",
     "output_type": "stream",
     "text": [
      "\n",
      "\n"
     ]
    },
    {
     "data": {
      "application/vnd.jupyter.widget-view+json": {
       "model_id": "5b911fb546f24c4f951eec271b26913f",
       "version_major": 2,
       "version_minor": 0
      },
      "text/plain": [
       "HBox(children=(FloatProgress(value=0.0, max=1017.0), HTML(value='')))"
      ]
     },
     "metadata": {},
     "output_type": "display_data"
    },
    {
     "name": "stdout",
     "output_type": "stream",
     "text": [
      "\n"
     ]
    },
    {
     "data": {
      "application/vnd.jupyter.widget-view+json": {
       "model_id": "abb7d44d5e2441d2921fef3e6d13b9b6",
       "version_major": 2,
       "version_minor": 0
      },
      "text/plain": [
       "HBox(children=(FloatProgress(value=0.0, description='Running Evaluation', max=128.0, style=ProgressStyle(descr…"
      ]
     },
     "metadata": {},
     "output_type": "display_data"
    },
    {
     "name": "stdout",
     "output_type": "stream",
     "text": [
      "\n",
      "({'mcc': 0.3558397739830577, 'tp': 106, 'tn': 677, 'fp': 63, 'fn': 171, 'auroc': 0.7634427749048687, 'auprc': 0.5896695167242314, 'eval_loss': 0.5030838921666145}, array([[ 0.1529541 , -0.22094727],\n",
      "       [ 1.92578125, -1.66699219],\n",
      "       [-0.19128418,  0.15405273],\n",
      "       ...,\n",
      "       [ 0.29345703, -0.31591797],\n",
      "       [ 0.16845703, -0.14221191],\n",
      "       [ 0.72607422, -0.66650391]]), [])\n"
     ]
    },
    {
     "data": {
      "application/vnd.jupyter.widget-view+json": {
       "model_id": "00b33e6a02674f7ba608af3bf01ad024",
       "version_major": 2,
       "version_minor": 0
      },
      "text/plain": [
       "HBox(children=(FloatProgress(value=0.0, max=1017.0), HTML(value='')))"
      ]
     },
     "metadata": {},
     "output_type": "display_data"
    },
    {
     "name": "stdout",
     "output_type": "stream",
     "text": [
      "\n"
     ]
    },
    {
     "data": {
      "application/vnd.jupyter.widget-view+json": {
       "model_id": "e606cae388f9410dbbf85ea05f55adda",
       "version_major": 2,
       "version_minor": 0
      },
      "text/plain": [
       "HBox(children=(FloatProgress(value=0.0, max=128.0), HTML(value='')))"
      ]
     },
     "metadata": {},
     "output_type": "display_data"
    },
    {
     "name": "stdout",
     "output_type": "stream",
     "text": [
      "\n",
      "Accuracy:  0.7699115044247787\n",
      "F1 score:  0.47533632286995514\n",
      "CPU times: user 40.7 s, sys: 16.3 s, total: 57 s\n",
      "Wall time: 59.3 s\n"
     ]
    }
   ],
   "source": [
    "%%time\n",
    "train_fname = \"../data/lgbt-en.train.tsv\"\n",
    "test_fname = \"../data/lgbt-en.test.tsv\"\n",
    "\n",
    "train = read_file(train_fname)\n",
    "test = read_file(test_fname)\n",
    "\n",
    "\n",
    "model_args = {\n",
    "    \"num_train_epochs\": 5,\n",
    "    \"learning_rate\": 1e-5,\n",
    "    \"overwrite_output_dir\": True,\n",
    "    \"train_batch_size\": 40\n",
    "}\n",
    "\n",
    "model = ClassificationModel(\n",
    "     \"distilbert\", \"distilbert-base-uncased-finetuned-sst-2-english\", use_cuda=True,\n",
    "    args=model_args\n",
    "    \n",
    ")\n",
    "\n",
    "model.overwrite_output_dir = True\n",
    "model.train_model(train, )\n",
    "\n",
    "print(model.eval_model(test))\n",
    "from sklearn.metrics import accuracy_score, f1_score\n",
    "y_true = test[\"labels\"]\n",
    "y_pred = model.predict(list(test[\"text\"].values))[0]\n",
    "\n",
    "accuracy = accuracy_score(y_true, y_pred)\n",
    "print(\"Accuracy: \", accuracy)\n",
    "f1 = f1_score(y_true, y_pred)\n",
    "print(\"F1 score: \", f1)"
   ]
  },
  {
   "cell_type": "code",
   "execution_count": null,
   "metadata": {},
   "outputs": [],
   "source": []
  },
  {
   "cell_type": "markdown",
   "metadata": {},
   "source": [
    "## Croatian"
   ]
  },
  {
   "cell_type": "code",
   "execution_count": 8,
   "metadata": {},
   "outputs": [
    {
     "data": {
      "application/vnd.jupyter.widget-view+json": {
       "model_id": "f1e242371d5b4f639449fb6757878f90",
       "version_major": 2,
       "version_minor": 0
      },
      "text/plain": [
       "HBox(children=(FloatProgress(value=0.0, max=4495.0), HTML(value='')))"
      ]
     },
     "metadata": {},
     "output_type": "display_data"
    },
    {
     "name": "stdout",
     "output_type": "stream",
     "text": [
      "\n"
     ]
    },
    {
     "data": {
      "application/vnd.jupyter.widget-view+json": {
       "model_id": "866342de42e54316981eece22f16f4cb",
       "version_major": 2,
       "version_minor": 0
      },
      "text/plain": [
       "HBox(children=(FloatProgress(value=0.0, description='Epoch', max=5.0, style=ProgressStyle(description_width='i…"
      ]
     },
     "metadata": {},
     "output_type": "display_data"
    },
    {
     "data": {
      "application/vnd.jupyter.widget-view+json": {
       "model_id": "74058783d6dc44f39488bd0bdd301ba0",
       "version_major": 2,
       "version_minor": 0
      },
      "text/plain": [
       "HBox(children=(FloatProgress(value=0.0, description='Running Epoch 0 of 5', max=113.0, style=ProgressStyle(des…"
      ]
     },
     "metadata": {},
     "output_type": "display_data"
    },
    {
     "name": "stdout",
     "output_type": "stream",
     "text": [
      "\n"
     ]
    },
    {
     "data": {
      "application/vnd.jupyter.widget-view+json": {
       "model_id": "52c74ce23a914aeeb97ec57dbe59af82",
       "version_major": 2,
       "version_minor": 0
      },
      "text/plain": [
       "HBox(children=(FloatProgress(value=0.0, description='Running Epoch 1 of 5', max=113.0, style=ProgressStyle(des…"
      ]
     },
     "metadata": {},
     "output_type": "display_data"
    },
    {
     "name": "stdout",
     "output_type": "stream",
     "text": [
      "\n"
     ]
    },
    {
     "data": {
      "application/vnd.jupyter.widget-view+json": {
       "model_id": "840210c85b8243d4ab47fc7554cf5b1a",
       "version_major": 2,
       "version_minor": 0
      },
      "text/plain": [
       "HBox(children=(FloatProgress(value=0.0, description='Running Epoch 2 of 5', max=113.0, style=ProgressStyle(des…"
      ]
     },
     "metadata": {},
     "output_type": "display_data"
    },
    {
     "name": "stdout",
     "output_type": "stream",
     "text": [
      "\n"
     ]
    },
    {
     "data": {
      "application/vnd.jupyter.widget-view+json": {
       "model_id": "1721949f7f234558998c6f6bcb4fc3e8",
       "version_major": 2,
       "version_minor": 0
      },
      "text/plain": [
       "HBox(children=(FloatProgress(value=0.0, description='Running Epoch 3 of 5', max=113.0, style=ProgressStyle(des…"
      ]
     },
     "metadata": {},
     "output_type": "display_data"
    },
    {
     "name": "stdout",
     "output_type": "stream",
     "text": [
      "\n"
     ]
    },
    {
     "data": {
      "application/vnd.jupyter.widget-view+json": {
       "model_id": "bb1bdc19e8fd4e25b39d4eab9e9a12eb",
       "version_major": 2,
       "version_minor": 0
      },
      "text/plain": [
       "HBox(children=(FloatProgress(value=0.0, description='Running Epoch 4 of 5', max=113.0, style=ProgressStyle(des…"
      ]
     },
     "metadata": {},
     "output_type": "display_data"
    },
    {
     "name": "stdout",
     "output_type": "stream",
     "text": [
      "\n",
      "\n"
     ]
    },
    {
     "data": {
      "application/vnd.jupyter.widget-view+json": {
       "model_id": "248d831d53614e97b7d1f1bce0560649",
       "version_major": 2,
       "version_minor": 0
      },
      "text/plain": [
       "HBox(children=(FloatProgress(value=0.0, max=1142.0), HTML(value='')))"
      ]
     },
     "metadata": {},
     "output_type": "display_data"
    },
    {
     "name": "stdout",
     "output_type": "stream",
     "text": [
      "\n"
     ]
    },
    {
     "data": {
      "application/vnd.jupyter.widget-view+json": {
       "model_id": "51efc1cbf1724054986ff1f0b26a22e7",
       "version_major": 2,
       "version_minor": 0
      },
      "text/plain": [
       "HBox(children=(FloatProgress(value=0.0, description='Running Evaluation', max=143.0, style=ProgressStyle(descr…"
      ]
     },
     "metadata": {},
     "output_type": "display_data"
    },
    {
     "name": "stdout",
     "output_type": "stream",
     "text": [
      "\n",
      "({'mcc': 0.3131724338905248, 'tp': 608, 'tn': 191, 'fp': 207, 'fn': 136, 'auroc': 0.770757348570811, 'auprc': 0.8671966233424704, 'eval_loss': 0.5458229280018306}, array([[ 1.77246094, -1.58496094],\n",
      "       [-2.89648438,  3.1328125 ],\n",
      "       [ 0.03710938,  0.0682373 ],\n",
      "       ...,\n",
      "       [ 0.10119629,  0.04788208],\n",
      "       [-0.48754883,  0.66259766],\n",
      "       [ 1.17773438, -1.03027344]]), [])\n"
     ]
    },
    {
     "data": {
      "application/vnd.jupyter.widget-view+json": {
       "model_id": "f0e9176e2cc0416882a26edc1db39bd7",
       "version_major": 2,
       "version_minor": 0
      },
      "text/plain": [
       "HBox(children=(FloatProgress(value=0.0, max=1142.0), HTML(value='')))"
      ]
     },
     "metadata": {},
     "output_type": "display_data"
    },
    {
     "name": "stdout",
     "output_type": "stream",
     "text": [
      "\n"
     ]
    },
    {
     "data": {
      "application/vnd.jupyter.widget-view+json": {
       "model_id": "f7ba37e6a37e4c5da9027a8c8d3cea52",
       "version_major": 2,
       "version_minor": 0
      },
      "text/plain": [
       "HBox(children=(FloatProgress(value=0.0, max=143.0), HTML(value='')))"
      ]
     },
     "metadata": {},
     "output_type": "display_data"
    },
    {
     "name": "stdout",
     "output_type": "stream",
     "text": [
      "\n",
      "Accuracy:  0.6996497373029772\n",
      "F1 score:  0.7799871712636306\n",
      "CPU times: user 38.3 s, sys: 15.7 s, total: 54.1 s\n",
      "Wall time: 56.6 s\n"
     ]
    }
   ],
   "source": [
    "%%time\n",
    "train_fname = \"../data/lgbt-hr.train.tsv\"\n",
    "test_fname = \"../data/lgbt-hr.test.tsv\"\n",
    "\n",
    "train = read_file(train_fname)\n",
    "test = read_file(test_fname)\n",
    "\n",
    "\n",
    "model_args = {\n",
    "    \"num_train_epochs\": 5,\n",
    "    \"learning_rate\": 1e-5,\n",
    "    \"overwrite_output_dir\": True,\n",
    "    \"train_batch_size\": 40\n",
    "}\n",
    "\n",
    "model = ClassificationModel(\n",
    "     \"distilbert\", \"distilbert-base-uncased-finetuned-sst-2-english\", use_cuda=True,\n",
    "    args=model_args\n",
    "    \n",
    ")\n",
    "\n",
    "model.overwrite_output_dir = True\n",
    "model.train_model(train, )\n",
    "\n",
    "print(model.eval_model(test))\n",
    "from sklearn.metrics import accuracy_score, f1_score\n",
    "y_true = test[\"labels\"]\n",
    "y_pred = model.predict(list(test[\"text\"].values))[0]\n",
    "\n",
    "accuracy = accuracy_score(y_true, y_pred)\n",
    "print(\"Accuracy: \", accuracy)\n",
    "f1 = f1_score(y_true, y_pred)\n",
    "print(\"F1 score: \", f1)"
   ]
  },
  {
   "cell_type": "code",
   "execution_count": null,
   "metadata": {},
   "outputs": [],
   "source": []
  },
  {
   "cell_type": "markdown",
   "metadata": {},
   "source": [
    "## Slovenian checkpoint"
   ]
  },
  {
   "cell_type": "code",
   "execution_count": 10,
   "metadata": {},
   "outputs": [
    {
     "data": {
      "application/vnd.jupyter.widget-view+json": {
       "model_id": "d566483da4a648698026e659c7a9262b",
       "version_major": 2,
       "version_minor": 0
      },
      "text/plain": [
       "HBox(children=(FloatProgress(value=0.0, description='Downloading', max=496602227.0, style=ProgressStyle(descri…"
      ]
     },
     "metadata": {},
     "output_type": "display_data"
    },
    {
     "name": "stdout",
     "output_type": "stream",
     "text": [
      "\n"
     ]
    },
    {
     "data": {
      "application/vnd.jupyter.widget-view+json": {
       "model_id": "aa99ab9b0857414984c77605af27adf7",
       "version_major": 2,
       "version_minor": 0
      },
      "text/plain": [
       "HBox(children=(FloatProgress(value=0.0, description='Downloading', max=329119.0, style=ProgressStyle(descripti…"
      ]
     },
     "metadata": {},
     "output_type": "display_data"
    },
    {
     "name": "stdout",
     "output_type": "stream",
     "text": [
      "\n"
     ]
    },
    {
     "data": {
      "application/vnd.jupyter.widget-view+json": {
       "model_id": "de0682c6f6464940a42127622e4bcf87",
       "version_major": 2,
       "version_minor": 0
      },
      "text/plain": [
       "HBox(children=(FloatProgress(value=0.0, description='Downloading', max=112.0, style=ProgressStyle(description_…"
      ]
     },
     "metadata": {},
     "output_type": "display_data"
    },
    {
     "name": "stdout",
     "output_type": "stream",
     "text": [
      "\n"
     ]
    },
    {
     "data": {
      "application/vnd.jupyter.widget-view+json": {
       "model_id": "1bbb98195904458c8644fb03b3a38f09",
       "version_major": 2,
       "version_minor": 0
      },
      "text/plain": [
       "HBox(children=(FloatProgress(value=0.0, description='Downloading', max=86.0, style=ProgressStyle(description_w…"
      ]
     },
     "metadata": {},
     "output_type": "display_data"
    },
    {
     "name": "stdout",
     "output_type": "stream",
     "text": [
      "\n"
     ]
    },
    {
     "data": {
      "application/vnd.jupyter.widget-view+json": {
       "model_id": "07969e4b94994139b227e026851043d6",
       "version_major": 2,
       "version_minor": 0
      },
      "text/plain": [
       "HBox(children=(FloatProgress(value=0.0, max=2844.0), HTML(value='')))"
      ]
     },
     "metadata": {},
     "output_type": "display_data"
    },
    {
     "name": "stdout",
     "output_type": "stream",
     "text": [
      "\n"
     ]
    },
    {
     "data": {
      "application/vnd.jupyter.widget-view+json": {
       "model_id": "bcc734e379ab4408897c24423110c82f",
       "version_major": 2,
       "version_minor": 0
      },
      "text/plain": [
       "HBox(children=(FloatProgress(value=0.0, description='Epoch', max=5.0, style=ProgressStyle(description_width='i…"
      ]
     },
     "metadata": {},
     "output_type": "display_data"
    },
    {
     "data": {
      "application/vnd.jupyter.widget-view+json": {
       "model_id": "93a3901ac59447a78fbb51904f395a78",
       "version_major": 2,
       "version_minor": 0
      },
      "text/plain": [
       "HBox(children=(FloatProgress(value=0.0, description='Running Epoch 0 of 5', max=72.0, style=ProgressStyle(desc…"
      ]
     },
     "metadata": {},
     "output_type": "display_data"
    },
    {
     "name": "stdout",
     "output_type": "stream",
     "text": [
      "\n"
     ]
    },
    {
     "data": {
      "application/vnd.jupyter.widget-view+json": {
       "model_id": "61b242b4f9e748acbbbee6d3f0302fba",
       "version_major": 2,
       "version_minor": 0
      },
      "text/plain": [
       "HBox(children=(FloatProgress(value=0.0, description='Running Epoch 1 of 5', max=72.0, style=ProgressStyle(desc…"
      ]
     },
     "metadata": {},
     "output_type": "display_data"
    },
    {
     "name": "stdout",
     "output_type": "stream",
     "text": [
      "\n"
     ]
    },
    {
     "data": {
      "application/vnd.jupyter.widget-view+json": {
       "model_id": "0685abdf1f5c4325ad660f9ed6471983",
       "version_major": 2,
       "version_minor": 0
      },
      "text/plain": [
       "HBox(children=(FloatProgress(value=0.0, description='Running Epoch 2 of 5', max=72.0, style=ProgressStyle(desc…"
      ]
     },
     "metadata": {},
     "output_type": "display_data"
    },
    {
     "name": "stdout",
     "output_type": "stream",
     "text": [
      "\n"
     ]
    },
    {
     "data": {
      "application/vnd.jupyter.widget-view+json": {
       "model_id": "45a0a85917db44409e24b684b89e3db8",
       "version_major": 2,
       "version_minor": 0
      },
      "text/plain": [
       "HBox(children=(FloatProgress(value=0.0, description='Running Epoch 3 of 5', max=72.0, style=ProgressStyle(desc…"
      ]
     },
     "metadata": {},
     "output_type": "display_data"
    },
    {
     "name": "stdout",
     "output_type": "stream",
     "text": [
      "\n"
     ]
    },
    {
     "data": {
      "application/vnd.jupyter.widget-view+json": {
       "model_id": "e549f02a61d84e14a228b703cf199ee8",
       "version_major": 2,
       "version_minor": 0
      },
      "text/plain": [
       "HBox(children=(FloatProgress(value=0.0, description='Running Epoch 4 of 5', max=72.0, style=ProgressStyle(desc…"
      ]
     },
     "metadata": {},
     "output_type": "display_data"
    },
    {
     "name": "stdout",
     "output_type": "stream",
     "text": [
      "\n",
      "\n"
     ]
    },
    {
     "data": {
      "application/vnd.jupyter.widget-view+json": {
       "model_id": "ecc98fcd7b7a436a9d5937ad1067f346",
       "version_major": 2,
       "version_minor": 0
      },
      "text/plain": [
       "HBox(children=(FloatProgress(value=0.0, max=900.0), HTML(value='')))"
      ]
     },
     "metadata": {},
     "output_type": "display_data"
    },
    {
     "name": "stdout",
     "output_type": "stream",
     "text": [
      "\n"
     ]
    },
    {
     "data": {
      "application/vnd.jupyter.widget-view+json": {
       "model_id": "dfc12e0286db453ab3a0f5d8df5d2da5",
       "version_major": 2,
       "version_minor": 0
      },
      "text/plain": [
       "HBox(children=(FloatProgress(value=0.0, description='Running Evaluation', max=113.0, style=ProgressStyle(descr…"
      ]
     },
     "metadata": {},
     "output_type": "display_data"
    },
    {
     "name": "stdout",
     "output_type": "stream",
     "text": [
      "\n",
      "({'mcc': 0.1578962831607748, 'eval_loss': 0.7648846195862357}, array([[ 1.88671875,  3.93164062, -2.69140625, -3.8671875 ],\n",
      "       [ 2.8515625 ,  2.21875   , -2.37890625, -4.2109375 ],\n",
      "       [ 3.97460938,  1.07226562, -2.33007812, -3.59765625],\n",
      "       ...,\n",
      "       [ 3.18945312,  2.57617188, -2.85351562, -3.94140625],\n",
      "       [ 1.28320312,  3.31445312, -1.29492188, -3.54296875],\n",
      "       [ 3.4921875 ,  2.39453125, -3.40820312, -3.734375  ]]), [])\n"
     ]
    },
    {
     "data": {
      "application/vnd.jupyter.widget-view+json": {
       "model_id": "9526a0977a78449b9e4eb9ed62abf087",
       "version_major": 2,
       "version_minor": 0
      },
      "text/plain": [
       "HBox(children=(FloatProgress(value=0.0, max=900.0), HTML(value='')))"
      ]
     },
     "metadata": {},
     "output_type": "display_data"
    },
    {
     "name": "stdout",
     "output_type": "stream",
     "text": [
      "\n"
     ]
    },
    {
     "data": {
      "application/vnd.jupyter.widget-view+json": {
       "model_id": "6d0cba7dcedf47218b2fd78d89b9c875",
       "version_major": 2,
       "version_minor": 0
      },
      "text/plain": [
       "HBox(children=(FloatProgress(value=0.0, max=113.0), HTML(value='')))"
      ]
     },
     "metadata": {},
     "output_type": "display_data"
    },
    {
     "name": "stdout",
     "output_type": "stream",
     "text": [
      "\n",
      "Accuracy:  0.5588888888888889\n",
      "F1 score:  0.5323910482921084\n",
      "CPU times: user 52.9 s, sys: 23.8 s, total: 1min 16s\n",
      "Wall time: 1min 36s\n"
     ]
    }
   ],
   "source": [
    "%%time\n",
    "train_fname = \"../data/lgbt-sl.train.tsv\"\n",
    "test_fname = \"../data/lgbt-sl.test.tsv\"\n",
    "\n",
    "train = read_file(train_fname)\n",
    "test = read_file(test_fname)\n",
    "\n",
    "\n",
    "model_args = {\n",
    "    \"num_train_epochs\": 5,\n",
    "    \"learning_rate\": 1e-5,\n",
    "    \"overwrite_output_dir\": True,\n",
    "    \"train_batch_size\": 40\n",
    "}\n",
    "\n",
    "model = ClassificationModel(\n",
    "     \"bert\", \"IMSyPP/hate_speech_slo\", use_cuda=True,\n",
    "    args=model_args\n",
    "    \n",
    ")\n",
    "\n",
    "model.overwrite_output_dir = True\n",
    "model.train_model(train, )\n",
    "\n",
    "print(model.eval_model(test))\n",
    "from sklearn.metrics import accuracy_score, f1_score\n",
    "y_true = test[\"labels\"]\n",
    "y_pred = model.predict(list(test[\"text\"].values))[0]\n",
    "\n",
    "accuracy = accuracy_score(y_true, y_pred)\n",
    "print(\"Accuracy: \", accuracy)\n",
    "f1 = f1_score(y_true, y_pred)\n",
    "print(\"F1 score: \", f1)"
   ]
  },
  {
   "cell_type": "code",
   "execution_count": null,
   "metadata": {},
   "outputs": [],
   "source": []
  },
  {
   "cell_type": "code",
   "execution_count": null,
   "metadata": {},
   "outputs": [],
   "source": []
  },
  {
   "cell_type": "code",
   "execution_count": null,
   "metadata": {},
   "outputs": [],
   "source": []
  },
  {
   "cell_type": "markdown",
   "metadata": {},
   "source": [
    "#  Hugging face"
   ]
  },
  {
   "cell_type": "code",
   "execution_count": 35,
   "metadata": {},
   "outputs": [
    {
     "name": "stderr",
     "output_type": "stream",
     "text": [
      "Some weights of the model checkpoint at roberta-base were not used when initializing RobertaForSequenceClassification: ['roberta.pooler.dense.weight', 'lm_head.dense.bias', 'lm_head.decoder.weight', 'lm_head.layer_norm.bias', 'lm_head.dense.weight', 'lm_head.bias', 'roberta.pooler.dense.bias', 'lm_head.layer_norm.weight']\n",
      "- This IS expected if you are initializing RobertaForSequenceClassification from the checkpoint of a model trained on another task or with another architecture (e.g. initializing a BertForSequenceClassification model from a BertForPreTraining model).\n",
      "- This IS NOT expected if you are initializing RobertaForSequenceClassification from the checkpoint of a model that you expect to be exactly identical (initializing a BertForSequenceClassification model from a BertForSequenceClassification model).\n",
      "Some weights of RobertaForSequenceClassification were not initialized from the model checkpoint at roberta-base and are newly initialized: ['classifier.dense.weight', 'classifier.dense.bias', 'classifier.out_proj.bias', 'classifier.out_proj.weight']\n",
      "You should probably TRAIN this model on a down-stream task to be able to use it for predictions and inference.\n"
     ]
    },
    {
     "ename": "RuntimeError",
     "evalue": "[enforce fail at CPUAllocator.cpp:71] . DefaultCPUAllocator: can't allocate memory: you tried to allocate 60637052928 bytes. Error code 12 (Cannot allocate memory)",
     "output_type": "error",
     "traceback": [
      "\u001b[0;31m---------------------------------------------------------------------------\u001b[0m",
      "\u001b[0;31mRuntimeError\u001b[0m                              Traceback (most recent call last)",
      "\u001b[0;32m<ipython-input-35-46bbd7edb462>\u001b[0m in \u001b[0;36m<module>\u001b[0;34m\u001b[0m\n\u001b[1;32m     13\u001b[0m \u001b[0;34m\u001b[0m\u001b[0m\n\u001b[1;32m     14\u001b[0m \u001b[0moptimizer\u001b[0m \u001b[0;34m=\u001b[0m \u001b[0mAdamW\u001b[0m\u001b[0;34m(\u001b[0m\u001b[0mmodel\u001b[0m\u001b[0;34m.\u001b[0m\u001b[0mparameters\u001b[0m\u001b[0;34m(\u001b[0m\u001b[0;34m)\u001b[0m\u001b[0;34m)\u001b[0m\u001b[0;34m\u001b[0m\u001b[0;34m\u001b[0m\u001b[0m\n\u001b[0;32m---> 15\u001b[0;31m \u001b[0mloss\u001b[0m \u001b[0;34m=\u001b[0m \u001b[0mmodel\u001b[0m\u001b[0;34m(\u001b[0m\u001b[0;34m**\u001b[0m\u001b[0mbatch\u001b[0m\u001b[0;34m)\u001b[0m\u001b[0;34m.\u001b[0m\u001b[0mloss\u001b[0m\u001b[0;34m\u001b[0m\u001b[0;34m\u001b[0m\u001b[0m\n\u001b[0m\u001b[1;32m     16\u001b[0m \u001b[0mloss\u001b[0m\u001b[0;34m.\u001b[0m\u001b[0mbackward\u001b[0m\u001b[0;34m(\u001b[0m\u001b[0;34m)\u001b[0m\u001b[0;34m\u001b[0m\u001b[0;34m\u001b[0m\u001b[0m\n\u001b[1;32m     17\u001b[0m \u001b[0moptimizer\u001b[0m\u001b[0;34m.\u001b[0m\u001b[0mstep\u001b[0m\u001b[0;34m(\u001b[0m\u001b[0;34m)\u001b[0m\u001b[0;34m\u001b[0m\u001b[0;34m\u001b[0m\u001b[0m\n",
      "\u001b[0;32m~/anaconda3/lib/python3.8/site-packages/torch/nn/modules/module.py\u001b[0m in \u001b[0;36m_call_impl\u001b[0;34m(self, *input, **kwargs)\u001b[0m\n\u001b[1;32m   1049\u001b[0m         if not (self._backward_hooks or self._forward_hooks or self._forward_pre_hooks or _global_backward_hooks\n\u001b[1;32m   1050\u001b[0m                 or _global_forward_hooks or _global_forward_pre_hooks):\n\u001b[0;32m-> 1051\u001b[0;31m             \u001b[0;32mreturn\u001b[0m \u001b[0mforward_call\u001b[0m\u001b[0;34m(\u001b[0m\u001b[0;34m*\u001b[0m\u001b[0minput\u001b[0m\u001b[0;34m,\u001b[0m \u001b[0;34m**\u001b[0m\u001b[0mkwargs\u001b[0m\u001b[0;34m)\u001b[0m\u001b[0;34m\u001b[0m\u001b[0;34m\u001b[0m\u001b[0m\n\u001b[0m\u001b[1;32m   1052\u001b[0m         \u001b[0;31m# Do not call functions when jit is used\u001b[0m\u001b[0;34m\u001b[0m\u001b[0;34m\u001b[0m\u001b[0;34m\u001b[0m\u001b[0m\n\u001b[1;32m   1053\u001b[0m         \u001b[0mfull_backward_hooks\u001b[0m\u001b[0;34m,\u001b[0m \u001b[0mnon_full_backward_hooks\u001b[0m \u001b[0;34m=\u001b[0m \u001b[0;34m[\u001b[0m\u001b[0;34m]\u001b[0m\u001b[0;34m,\u001b[0m \u001b[0;34m[\u001b[0m\u001b[0;34m]\u001b[0m\u001b[0;34m\u001b[0m\u001b[0;34m\u001b[0m\u001b[0m\n",
      "\u001b[0;32m~/anaconda3/lib/python3.8/site-packages/transformers/models/roberta/modeling_roberta.py\u001b[0m in \u001b[0;36mforward\u001b[0;34m(self, input_ids, attention_mask, token_type_ids, position_ids, head_mask, inputs_embeds, labels, output_attentions, output_hidden_states, return_dict)\u001b[0m\n\u001b[1;32m   1190\u001b[0m         \u001b[0mreturn_dict\u001b[0m \u001b[0;34m=\u001b[0m \u001b[0mreturn_dict\u001b[0m \u001b[0;32mif\u001b[0m \u001b[0mreturn_dict\u001b[0m \u001b[0;32mis\u001b[0m \u001b[0;32mnot\u001b[0m \u001b[0;32mNone\u001b[0m \u001b[0;32melse\u001b[0m \u001b[0mself\u001b[0m\u001b[0;34m.\u001b[0m\u001b[0mconfig\u001b[0m\u001b[0;34m.\u001b[0m\u001b[0muse_return_dict\u001b[0m\u001b[0;34m\u001b[0m\u001b[0;34m\u001b[0m\u001b[0m\n\u001b[1;32m   1191\u001b[0m \u001b[0;34m\u001b[0m\u001b[0m\n\u001b[0;32m-> 1192\u001b[0;31m         outputs = self.roberta(\n\u001b[0m\u001b[1;32m   1193\u001b[0m             \u001b[0minput_ids\u001b[0m\u001b[0;34m,\u001b[0m\u001b[0;34m\u001b[0m\u001b[0;34m\u001b[0m\u001b[0m\n\u001b[1;32m   1194\u001b[0m             \u001b[0mattention_mask\u001b[0m\u001b[0;34m=\u001b[0m\u001b[0mattention_mask\u001b[0m\u001b[0;34m,\u001b[0m\u001b[0;34m\u001b[0m\u001b[0;34m\u001b[0m\u001b[0m\n",
      "\u001b[0;32m~/anaconda3/lib/python3.8/site-packages/torch/nn/modules/module.py\u001b[0m in \u001b[0;36m_call_impl\u001b[0;34m(self, *input, **kwargs)\u001b[0m\n\u001b[1;32m   1049\u001b[0m         if not (self._backward_hooks or self._forward_hooks or self._forward_pre_hooks or _global_backward_hooks\n\u001b[1;32m   1050\u001b[0m                 or _global_forward_hooks or _global_forward_pre_hooks):\n\u001b[0;32m-> 1051\u001b[0;31m             \u001b[0;32mreturn\u001b[0m \u001b[0mforward_call\u001b[0m\u001b[0;34m(\u001b[0m\u001b[0;34m*\u001b[0m\u001b[0minput\u001b[0m\u001b[0;34m,\u001b[0m \u001b[0;34m**\u001b[0m\u001b[0mkwargs\u001b[0m\u001b[0;34m)\u001b[0m\u001b[0;34m\u001b[0m\u001b[0;34m\u001b[0m\u001b[0m\n\u001b[0m\u001b[1;32m   1052\u001b[0m         \u001b[0;31m# Do not call functions when jit is used\u001b[0m\u001b[0;34m\u001b[0m\u001b[0;34m\u001b[0m\u001b[0;34m\u001b[0m\u001b[0m\n\u001b[1;32m   1053\u001b[0m         \u001b[0mfull_backward_hooks\u001b[0m\u001b[0;34m,\u001b[0m \u001b[0mnon_full_backward_hooks\u001b[0m \u001b[0;34m=\u001b[0m \u001b[0;34m[\u001b[0m\u001b[0;34m]\u001b[0m\u001b[0;34m,\u001b[0m \u001b[0;34m[\u001b[0m\u001b[0;34m]\u001b[0m\u001b[0;34m\u001b[0m\u001b[0;34m\u001b[0m\u001b[0m\n",
      "\u001b[0;32m~/anaconda3/lib/python3.8/site-packages/transformers/models/roberta/modeling_roberta.py\u001b[0m in \u001b[0;36mforward\u001b[0;34m(self, input_ids, attention_mask, token_type_ids, position_ids, head_mask, inputs_embeds, encoder_hidden_states, encoder_attention_mask, past_key_values, use_cache, output_attentions, output_hidden_states, return_dict)\u001b[0m\n\u001b[1;32m    842\u001b[0m             \u001b[0mpast_key_values_length\u001b[0m\u001b[0;34m=\u001b[0m\u001b[0mpast_key_values_length\u001b[0m\u001b[0;34m,\u001b[0m\u001b[0;34m\u001b[0m\u001b[0;34m\u001b[0m\u001b[0m\n\u001b[1;32m    843\u001b[0m         )\n\u001b[0;32m--> 844\u001b[0;31m         encoder_outputs = self.encoder(\n\u001b[0m\u001b[1;32m    845\u001b[0m             \u001b[0membedding_output\u001b[0m\u001b[0;34m,\u001b[0m\u001b[0;34m\u001b[0m\u001b[0;34m\u001b[0m\u001b[0m\n\u001b[1;32m    846\u001b[0m             \u001b[0mattention_mask\u001b[0m\u001b[0;34m=\u001b[0m\u001b[0mextended_attention_mask\u001b[0m\u001b[0;34m,\u001b[0m\u001b[0;34m\u001b[0m\u001b[0;34m\u001b[0m\u001b[0m\n",
      "\u001b[0;32m~/anaconda3/lib/python3.8/site-packages/torch/nn/modules/module.py\u001b[0m in \u001b[0;36m_call_impl\u001b[0;34m(self, *input, **kwargs)\u001b[0m\n\u001b[1;32m   1049\u001b[0m         if not (self._backward_hooks or self._forward_hooks or self._forward_pre_hooks or _global_backward_hooks\n\u001b[1;32m   1050\u001b[0m                 or _global_forward_hooks or _global_forward_pre_hooks):\n\u001b[0;32m-> 1051\u001b[0;31m             \u001b[0;32mreturn\u001b[0m \u001b[0mforward_call\u001b[0m\u001b[0;34m(\u001b[0m\u001b[0;34m*\u001b[0m\u001b[0minput\u001b[0m\u001b[0;34m,\u001b[0m \u001b[0;34m**\u001b[0m\u001b[0mkwargs\u001b[0m\u001b[0;34m)\u001b[0m\u001b[0;34m\u001b[0m\u001b[0;34m\u001b[0m\u001b[0m\n\u001b[0m\u001b[1;32m   1052\u001b[0m         \u001b[0;31m# Do not call functions when jit is used\u001b[0m\u001b[0;34m\u001b[0m\u001b[0;34m\u001b[0m\u001b[0;34m\u001b[0m\u001b[0m\n\u001b[1;32m   1053\u001b[0m         \u001b[0mfull_backward_hooks\u001b[0m\u001b[0;34m,\u001b[0m \u001b[0mnon_full_backward_hooks\u001b[0m \u001b[0;34m=\u001b[0m \u001b[0;34m[\u001b[0m\u001b[0;34m]\u001b[0m\u001b[0;34m,\u001b[0m \u001b[0;34m[\u001b[0m\u001b[0;34m]\u001b[0m\u001b[0;34m\u001b[0m\u001b[0;34m\u001b[0m\u001b[0m\n",
      "\u001b[0;32m~/anaconda3/lib/python3.8/site-packages/transformers/models/roberta/modeling_roberta.py\u001b[0m in \u001b[0;36mforward\u001b[0;34m(self, hidden_states, attention_mask, head_mask, encoder_hidden_states, encoder_attention_mask, past_key_values, use_cache, output_attentions, output_hidden_states, return_dict)\u001b[0m\n\u001b[1;32m    520\u001b[0m                 )\n\u001b[1;32m    521\u001b[0m             \u001b[0;32melse\u001b[0m\u001b[0;34m:\u001b[0m\u001b[0;34m\u001b[0m\u001b[0;34m\u001b[0m\u001b[0m\n\u001b[0;32m--> 522\u001b[0;31m                 layer_outputs = layer_module(\n\u001b[0m\u001b[1;32m    523\u001b[0m                     \u001b[0mhidden_states\u001b[0m\u001b[0;34m,\u001b[0m\u001b[0;34m\u001b[0m\u001b[0;34m\u001b[0m\u001b[0m\n\u001b[1;32m    524\u001b[0m                     \u001b[0mattention_mask\u001b[0m\u001b[0;34m,\u001b[0m\u001b[0;34m\u001b[0m\u001b[0;34m\u001b[0m\u001b[0m\n",
      "\u001b[0;32m~/anaconda3/lib/python3.8/site-packages/torch/nn/modules/module.py\u001b[0m in \u001b[0;36m_call_impl\u001b[0;34m(self, *input, **kwargs)\u001b[0m\n\u001b[1;32m   1049\u001b[0m         if not (self._backward_hooks or self._forward_hooks or self._forward_pre_hooks or _global_backward_hooks\n\u001b[1;32m   1050\u001b[0m                 or _global_forward_hooks or _global_forward_pre_hooks):\n\u001b[0;32m-> 1051\u001b[0;31m             \u001b[0;32mreturn\u001b[0m \u001b[0mforward_call\u001b[0m\u001b[0;34m(\u001b[0m\u001b[0;34m*\u001b[0m\u001b[0minput\u001b[0m\u001b[0;34m,\u001b[0m \u001b[0;34m**\u001b[0m\u001b[0mkwargs\u001b[0m\u001b[0;34m)\u001b[0m\u001b[0;34m\u001b[0m\u001b[0;34m\u001b[0m\u001b[0m\n\u001b[0m\u001b[1;32m   1052\u001b[0m         \u001b[0;31m# Do not call functions when jit is used\u001b[0m\u001b[0;34m\u001b[0m\u001b[0;34m\u001b[0m\u001b[0;34m\u001b[0m\u001b[0m\n\u001b[1;32m   1053\u001b[0m         \u001b[0mfull_backward_hooks\u001b[0m\u001b[0;34m,\u001b[0m \u001b[0mnon_full_backward_hooks\u001b[0m \u001b[0;34m=\u001b[0m \u001b[0;34m[\u001b[0m\u001b[0;34m]\u001b[0m\u001b[0;34m,\u001b[0m \u001b[0;34m[\u001b[0m\u001b[0;34m]\u001b[0m\u001b[0;34m\u001b[0m\u001b[0;34m\u001b[0m\u001b[0m\n",
      "\u001b[0;32m~/anaconda3/lib/python3.8/site-packages/transformers/models/roberta/modeling_roberta.py\u001b[0m in \u001b[0;36mforward\u001b[0;34m(self, hidden_states, attention_mask, head_mask, encoder_hidden_states, encoder_attention_mask, past_key_value, output_attentions)\u001b[0m\n\u001b[1;32m    407\u001b[0m         \u001b[0;31m# decoder uni-directional self-attention cached key/values tuple is at positions 1,2\u001b[0m\u001b[0;34m\u001b[0m\u001b[0;34m\u001b[0m\u001b[0;34m\u001b[0m\u001b[0m\n\u001b[1;32m    408\u001b[0m         \u001b[0mself_attn_past_key_value\u001b[0m \u001b[0;34m=\u001b[0m \u001b[0mpast_key_value\u001b[0m\u001b[0;34m[\u001b[0m\u001b[0;34m:\u001b[0m\u001b[0;36m2\u001b[0m\u001b[0;34m]\u001b[0m \u001b[0;32mif\u001b[0m \u001b[0mpast_key_value\u001b[0m \u001b[0;32mis\u001b[0m \u001b[0;32mnot\u001b[0m \u001b[0;32mNone\u001b[0m \u001b[0;32melse\u001b[0m \u001b[0;32mNone\u001b[0m\u001b[0;34m\u001b[0m\u001b[0;34m\u001b[0m\u001b[0m\n\u001b[0;32m--> 409\u001b[0;31m         self_attention_outputs = self.attention(\n\u001b[0m\u001b[1;32m    410\u001b[0m             \u001b[0mhidden_states\u001b[0m\u001b[0;34m,\u001b[0m\u001b[0;34m\u001b[0m\u001b[0;34m\u001b[0m\u001b[0m\n\u001b[1;32m    411\u001b[0m             \u001b[0mattention_mask\u001b[0m\u001b[0;34m,\u001b[0m\u001b[0;34m\u001b[0m\u001b[0;34m\u001b[0m\u001b[0m\n",
      "\u001b[0;32m~/anaconda3/lib/python3.8/site-packages/torch/nn/modules/module.py\u001b[0m in \u001b[0;36m_call_impl\u001b[0;34m(self, *input, **kwargs)\u001b[0m\n\u001b[1;32m   1049\u001b[0m         if not (self._backward_hooks or self._forward_hooks or self._forward_pre_hooks or _global_backward_hooks\n\u001b[1;32m   1050\u001b[0m                 or _global_forward_hooks or _global_forward_pre_hooks):\n\u001b[0;32m-> 1051\u001b[0;31m             \u001b[0;32mreturn\u001b[0m \u001b[0mforward_call\u001b[0m\u001b[0;34m(\u001b[0m\u001b[0;34m*\u001b[0m\u001b[0minput\u001b[0m\u001b[0;34m,\u001b[0m \u001b[0;34m**\u001b[0m\u001b[0mkwargs\u001b[0m\u001b[0;34m)\u001b[0m\u001b[0;34m\u001b[0m\u001b[0;34m\u001b[0m\u001b[0m\n\u001b[0m\u001b[1;32m   1052\u001b[0m         \u001b[0;31m# Do not call functions when jit is used\u001b[0m\u001b[0;34m\u001b[0m\u001b[0;34m\u001b[0m\u001b[0;34m\u001b[0m\u001b[0m\n\u001b[1;32m   1053\u001b[0m         \u001b[0mfull_backward_hooks\u001b[0m\u001b[0;34m,\u001b[0m \u001b[0mnon_full_backward_hooks\u001b[0m \u001b[0;34m=\u001b[0m \u001b[0;34m[\u001b[0m\u001b[0;34m]\u001b[0m\u001b[0;34m,\u001b[0m \u001b[0;34m[\u001b[0m\u001b[0;34m]\u001b[0m\u001b[0;34m\u001b[0m\u001b[0;34m\u001b[0m\u001b[0m\n",
      "\u001b[0;32m~/anaconda3/lib/python3.8/site-packages/transformers/models/roberta/modeling_roberta.py\u001b[0m in \u001b[0;36mforward\u001b[0;34m(self, hidden_states, attention_mask, head_mask, encoder_hidden_states, encoder_attention_mask, past_key_value, output_attentions)\u001b[0m\n\u001b[1;32m    335\u001b[0m         \u001b[0moutput_attentions\u001b[0m\u001b[0;34m=\u001b[0m\u001b[0;32mFalse\u001b[0m\u001b[0;34m,\u001b[0m\u001b[0;34m\u001b[0m\u001b[0;34m\u001b[0m\u001b[0m\n\u001b[1;32m    336\u001b[0m     ):\n\u001b[0;32m--> 337\u001b[0;31m         self_outputs = self.self(\n\u001b[0m\u001b[1;32m    338\u001b[0m             \u001b[0mhidden_states\u001b[0m\u001b[0;34m,\u001b[0m\u001b[0;34m\u001b[0m\u001b[0;34m\u001b[0m\u001b[0m\n\u001b[1;32m    339\u001b[0m             \u001b[0mattention_mask\u001b[0m\u001b[0;34m,\u001b[0m\u001b[0;34m\u001b[0m\u001b[0;34m\u001b[0m\u001b[0m\n",
      "\u001b[0;32m~/anaconda3/lib/python3.8/site-packages/torch/nn/modules/module.py\u001b[0m in \u001b[0;36m_call_impl\u001b[0;34m(self, *input, **kwargs)\u001b[0m\n\u001b[1;32m   1049\u001b[0m         if not (self._backward_hooks or self._forward_hooks or self._forward_pre_hooks or _global_backward_hooks\n\u001b[1;32m   1050\u001b[0m                 or _global_forward_hooks or _global_forward_pre_hooks):\n\u001b[0;32m-> 1051\u001b[0;31m             \u001b[0;32mreturn\u001b[0m \u001b[0mforward_call\u001b[0m\u001b[0;34m(\u001b[0m\u001b[0;34m*\u001b[0m\u001b[0minput\u001b[0m\u001b[0;34m,\u001b[0m \u001b[0;34m**\u001b[0m\u001b[0mkwargs\u001b[0m\u001b[0;34m)\u001b[0m\u001b[0;34m\u001b[0m\u001b[0;34m\u001b[0m\u001b[0m\n\u001b[0m\u001b[1;32m   1052\u001b[0m         \u001b[0;31m# Do not call functions when jit is used\u001b[0m\u001b[0;34m\u001b[0m\u001b[0;34m\u001b[0m\u001b[0;34m\u001b[0m\u001b[0m\n\u001b[1;32m   1053\u001b[0m         \u001b[0mfull_backward_hooks\u001b[0m\u001b[0;34m,\u001b[0m \u001b[0mnon_full_backward_hooks\u001b[0m \u001b[0;34m=\u001b[0m \u001b[0;34m[\u001b[0m\u001b[0;34m]\u001b[0m\u001b[0;34m,\u001b[0m \u001b[0;34m[\u001b[0m\u001b[0;34m]\u001b[0m\u001b[0;34m\u001b[0m\u001b[0;34m\u001b[0m\u001b[0m\n",
      "\u001b[0;32m~/anaconda3/lib/python3.8/site-packages/transformers/models/roberta/modeling_roberta.py\u001b[0m in \u001b[0;36mforward\u001b[0;34m(self, hidden_states, attention_mask, head_mask, encoder_hidden_states, encoder_attention_mask, past_key_value, output_attentions)\u001b[0m\n\u001b[1;32m    255\u001b[0m                 \u001b[0mattention_scores\u001b[0m \u001b[0;34m=\u001b[0m \u001b[0mattention_scores\u001b[0m \u001b[0;34m+\u001b[0m \u001b[0mrelative_position_scores_query\u001b[0m \u001b[0;34m+\u001b[0m \u001b[0mrelative_position_scores_key\u001b[0m\u001b[0;34m\u001b[0m\u001b[0;34m\u001b[0m\u001b[0m\n\u001b[1;32m    256\u001b[0m \u001b[0;34m\u001b[0m\u001b[0m\n\u001b[0;32m--> 257\u001b[0;31m         \u001b[0mattention_scores\u001b[0m \u001b[0;34m=\u001b[0m \u001b[0mattention_scores\u001b[0m \u001b[0;34m/\u001b[0m \u001b[0mmath\u001b[0m\u001b[0;34m.\u001b[0m\u001b[0msqrt\u001b[0m\u001b[0;34m(\u001b[0m\u001b[0mself\u001b[0m\u001b[0;34m.\u001b[0m\u001b[0mattention_head_size\u001b[0m\u001b[0;34m)\u001b[0m\u001b[0;34m\u001b[0m\u001b[0;34m\u001b[0m\u001b[0m\n\u001b[0m\u001b[1;32m    258\u001b[0m         \u001b[0;32mif\u001b[0m \u001b[0mattention_mask\u001b[0m \u001b[0;32mis\u001b[0m \u001b[0;32mnot\u001b[0m \u001b[0;32mNone\u001b[0m\u001b[0;34m:\u001b[0m\u001b[0;34m\u001b[0m\u001b[0;34m\u001b[0m\u001b[0m\n\u001b[1;32m    259\u001b[0m             \u001b[0;31m# Apply the attention mask is (precomputed for all layers in RobertaModel forward() function)\u001b[0m\u001b[0;34m\u001b[0m\u001b[0;34m\u001b[0m\u001b[0;34m\u001b[0m\u001b[0m\n",
      "\u001b[0;31mRuntimeError\u001b[0m: [enforce fail at CPUAllocator.cpp:71] . DefaultCPUAllocator: can't allocate memory: you tried to allocate 60637052928 bytes. Error code 12 (Cannot allocate memory)"
     ]
    }
   ],
   "source": [
    "\n",
    "import torch\n",
    "from transformers import AdamW, AutoTokenizer, AutoModelForSequenceClassification\n",
    "\n",
    "# Same as before\n",
    "checkpoint = \"roberta-base\"\n",
    "tokenizer = AutoTokenizer.from_pretrained(checkpoint)\n",
    "model = AutoModelForSequenceClassification.from_pretrained(checkpoint)\n",
    "sequences = list(train.text.values)\n",
    "batch = tokenizer(sequences, padding=True, truncation=True, return_tensors=\"pt\")\n",
    "\n",
    "# This is new\n",
    "batch[\"labels\"] = torch.tensor(list(train.labels.values))\n",
    "\n",
    "optimizer = AdamW(model.parameters())\n",
    "loss = model(**batch).loss\n",
    "loss.backward()\n",
    "optimizer.step()"
   ]
  },
  {
   "cell_type": "code",
   "execution_count": 16,
   "metadata": {},
   "outputs": [
    {
     "name": "stderr",
     "output_type": "stream",
     "text": [
      "Asking to truncate to max_length but no maximum length is provided and the model has no predefined maximum length. Default to no truncation.\n"
     ]
    },
    {
     "ename": "RuntimeError",
     "evalue": "The size of tensor a (1910) must match the size of tensor b (512) at non-singleton dimension 1",
     "output_type": "error",
     "traceback": [
      "\u001b[0;31m---------------------------------------------------------------------------\u001b[0m",
      "\u001b[0;31mRuntimeError\u001b[0m                              Traceback (most recent call last)",
      "\u001b[0;32m<ipython-input-16-1914a588bb84>\u001b[0m in \u001b[0;36m<module>\u001b[0;34m\u001b[0m\n\u001b[1;32m     19\u001b[0m \u001b[0;34m\u001b[0m\u001b[0m\n\u001b[1;32m     20\u001b[0m \u001b[0moptimizer\u001b[0m \u001b[0;34m=\u001b[0m \u001b[0mAdamW\u001b[0m\u001b[0;34m(\u001b[0m\u001b[0mmodel\u001b[0m\u001b[0;34m.\u001b[0m\u001b[0mparameters\u001b[0m\u001b[0;34m(\u001b[0m\u001b[0;34m)\u001b[0m\u001b[0;34m)\u001b[0m\u001b[0;34m\u001b[0m\u001b[0;34m\u001b[0m\u001b[0m\n\u001b[0;32m---> 21\u001b[0;31m \u001b[0mloss\u001b[0m \u001b[0;34m=\u001b[0m \u001b[0mmodel\u001b[0m\u001b[0;34m(\u001b[0m\u001b[0;34m**\u001b[0m\u001b[0mbatch\u001b[0m\u001b[0;34m)\u001b[0m\u001b[0;34m.\u001b[0m\u001b[0mloss\u001b[0m\u001b[0;34m\u001b[0m\u001b[0;34m\u001b[0m\u001b[0m\n\u001b[0m\u001b[1;32m     22\u001b[0m \u001b[0mloss\u001b[0m\u001b[0;34m.\u001b[0m\u001b[0mbackward\u001b[0m\u001b[0;34m(\u001b[0m\u001b[0;34m)\u001b[0m\u001b[0;34m\u001b[0m\u001b[0;34m\u001b[0m\u001b[0m\n\u001b[1;32m     23\u001b[0m \u001b[0moptimizer\u001b[0m\u001b[0;34m.\u001b[0m\u001b[0mstep\u001b[0m\u001b[0;34m(\u001b[0m\u001b[0;34m)\u001b[0m\u001b[0;34m\u001b[0m\u001b[0;34m\u001b[0m\u001b[0m\n",
      "\u001b[0;32m~/anaconda3/lib/python3.8/site-packages/torch/nn/modules/module.py\u001b[0m in \u001b[0;36m_call_impl\u001b[0;34m(self, *input, **kwargs)\u001b[0m\n\u001b[1;32m   1049\u001b[0m         if not (self._backward_hooks or self._forward_hooks or self._forward_pre_hooks or _global_backward_hooks\n\u001b[1;32m   1050\u001b[0m                 or _global_forward_hooks or _global_forward_pre_hooks):\n\u001b[0;32m-> 1051\u001b[0;31m             \u001b[0;32mreturn\u001b[0m \u001b[0mforward_call\u001b[0m\u001b[0;34m(\u001b[0m\u001b[0;34m*\u001b[0m\u001b[0minput\u001b[0m\u001b[0;34m,\u001b[0m \u001b[0;34m**\u001b[0m\u001b[0mkwargs\u001b[0m\u001b[0;34m)\u001b[0m\u001b[0;34m\u001b[0m\u001b[0;34m\u001b[0m\u001b[0m\n\u001b[0m\u001b[1;32m   1052\u001b[0m         \u001b[0;31m# Do not call functions when jit is used\u001b[0m\u001b[0;34m\u001b[0m\u001b[0;34m\u001b[0m\u001b[0;34m\u001b[0m\u001b[0m\n\u001b[1;32m   1053\u001b[0m         \u001b[0mfull_backward_hooks\u001b[0m\u001b[0;34m,\u001b[0m \u001b[0mnon_full_backward_hooks\u001b[0m \u001b[0;34m=\u001b[0m \u001b[0;34m[\u001b[0m\u001b[0;34m]\u001b[0m\u001b[0;34m,\u001b[0m \u001b[0;34m[\u001b[0m\u001b[0;34m]\u001b[0m\u001b[0;34m\u001b[0m\u001b[0;34m\u001b[0m\u001b[0m\n",
      "\u001b[0;32m~/anaconda3/lib/python3.8/site-packages/transformers/models/bert/modeling_bert.py\u001b[0m in \u001b[0;36mforward\u001b[0;34m(self, input_ids, attention_mask, token_type_ids, position_ids, head_mask, inputs_embeds, labels, output_attentions, output_hidden_states, return_dict)\u001b[0m\n\u001b[1;32m   1520\u001b[0m         \u001b[0mreturn_dict\u001b[0m \u001b[0;34m=\u001b[0m \u001b[0mreturn_dict\u001b[0m \u001b[0;32mif\u001b[0m \u001b[0mreturn_dict\u001b[0m \u001b[0;32mis\u001b[0m \u001b[0;32mnot\u001b[0m \u001b[0;32mNone\u001b[0m \u001b[0;32melse\u001b[0m \u001b[0mself\u001b[0m\u001b[0;34m.\u001b[0m\u001b[0mconfig\u001b[0m\u001b[0;34m.\u001b[0m\u001b[0muse_return_dict\u001b[0m\u001b[0;34m\u001b[0m\u001b[0;34m\u001b[0m\u001b[0m\n\u001b[1;32m   1521\u001b[0m \u001b[0;34m\u001b[0m\u001b[0m\n\u001b[0;32m-> 1522\u001b[0;31m         outputs = self.bert(\n\u001b[0m\u001b[1;32m   1523\u001b[0m             \u001b[0minput_ids\u001b[0m\u001b[0;34m,\u001b[0m\u001b[0;34m\u001b[0m\u001b[0;34m\u001b[0m\u001b[0m\n\u001b[1;32m   1524\u001b[0m             \u001b[0mattention_mask\u001b[0m\u001b[0;34m=\u001b[0m\u001b[0mattention_mask\u001b[0m\u001b[0;34m,\u001b[0m\u001b[0;34m\u001b[0m\u001b[0;34m\u001b[0m\u001b[0m\n",
      "\u001b[0;32m~/anaconda3/lib/python3.8/site-packages/torch/nn/modules/module.py\u001b[0m in \u001b[0;36m_call_impl\u001b[0;34m(self, *input, **kwargs)\u001b[0m\n\u001b[1;32m   1049\u001b[0m         if not (self._backward_hooks or self._forward_hooks or self._forward_pre_hooks or _global_backward_hooks\n\u001b[1;32m   1050\u001b[0m                 or _global_forward_hooks or _global_forward_pre_hooks):\n\u001b[0;32m-> 1051\u001b[0;31m             \u001b[0;32mreturn\u001b[0m \u001b[0mforward_call\u001b[0m\u001b[0;34m(\u001b[0m\u001b[0;34m*\u001b[0m\u001b[0minput\u001b[0m\u001b[0;34m,\u001b[0m \u001b[0;34m**\u001b[0m\u001b[0mkwargs\u001b[0m\u001b[0;34m)\u001b[0m\u001b[0;34m\u001b[0m\u001b[0;34m\u001b[0m\u001b[0m\n\u001b[0m\u001b[1;32m   1052\u001b[0m         \u001b[0;31m# Do not call functions when jit is used\u001b[0m\u001b[0;34m\u001b[0m\u001b[0;34m\u001b[0m\u001b[0;34m\u001b[0m\u001b[0m\n\u001b[1;32m   1053\u001b[0m         \u001b[0mfull_backward_hooks\u001b[0m\u001b[0;34m,\u001b[0m \u001b[0mnon_full_backward_hooks\u001b[0m \u001b[0;34m=\u001b[0m \u001b[0;34m[\u001b[0m\u001b[0;34m]\u001b[0m\u001b[0;34m,\u001b[0m \u001b[0;34m[\u001b[0m\u001b[0;34m]\u001b[0m\u001b[0;34m\u001b[0m\u001b[0;34m\u001b[0m\u001b[0m\n",
      "\u001b[0;32m~/anaconda3/lib/python3.8/site-packages/transformers/models/bert/modeling_bert.py\u001b[0m in \u001b[0;36mforward\u001b[0;34m(self, input_ids, attention_mask, token_type_ids, position_ids, head_mask, inputs_embeds, encoder_hidden_states, encoder_attention_mask, past_key_values, use_cache, output_attentions, output_hidden_states, return_dict)\u001b[0m\n\u001b[1;32m    982\u001b[0m         \u001b[0mhead_mask\u001b[0m \u001b[0;34m=\u001b[0m \u001b[0mself\u001b[0m\u001b[0;34m.\u001b[0m\u001b[0mget_head_mask\u001b[0m\u001b[0;34m(\u001b[0m\u001b[0mhead_mask\u001b[0m\u001b[0;34m,\u001b[0m \u001b[0mself\u001b[0m\u001b[0;34m.\u001b[0m\u001b[0mconfig\u001b[0m\u001b[0;34m.\u001b[0m\u001b[0mnum_hidden_layers\u001b[0m\u001b[0;34m)\u001b[0m\u001b[0;34m\u001b[0m\u001b[0;34m\u001b[0m\u001b[0m\n\u001b[1;32m    983\u001b[0m \u001b[0;34m\u001b[0m\u001b[0m\n\u001b[0;32m--> 984\u001b[0;31m         embedding_output = self.embeddings(\n\u001b[0m\u001b[1;32m    985\u001b[0m             \u001b[0minput_ids\u001b[0m\u001b[0;34m=\u001b[0m\u001b[0minput_ids\u001b[0m\u001b[0;34m,\u001b[0m\u001b[0;34m\u001b[0m\u001b[0;34m\u001b[0m\u001b[0m\n\u001b[1;32m    986\u001b[0m             \u001b[0mposition_ids\u001b[0m\u001b[0;34m=\u001b[0m\u001b[0mposition_ids\u001b[0m\u001b[0;34m,\u001b[0m\u001b[0;34m\u001b[0m\u001b[0;34m\u001b[0m\u001b[0m\n",
      "\u001b[0;32m~/anaconda3/lib/python3.8/site-packages/torch/nn/modules/module.py\u001b[0m in \u001b[0;36m_call_impl\u001b[0;34m(self, *input, **kwargs)\u001b[0m\n\u001b[1;32m   1049\u001b[0m         if not (self._backward_hooks or self._forward_hooks or self._forward_pre_hooks or _global_backward_hooks\n\u001b[1;32m   1050\u001b[0m                 or _global_forward_hooks or _global_forward_pre_hooks):\n\u001b[0;32m-> 1051\u001b[0;31m             \u001b[0;32mreturn\u001b[0m \u001b[0mforward_call\u001b[0m\u001b[0;34m(\u001b[0m\u001b[0;34m*\u001b[0m\u001b[0minput\u001b[0m\u001b[0;34m,\u001b[0m \u001b[0;34m**\u001b[0m\u001b[0mkwargs\u001b[0m\u001b[0;34m)\u001b[0m\u001b[0;34m\u001b[0m\u001b[0;34m\u001b[0m\u001b[0m\n\u001b[0m\u001b[1;32m   1052\u001b[0m         \u001b[0;31m# Do not call functions when jit is used\u001b[0m\u001b[0;34m\u001b[0m\u001b[0;34m\u001b[0m\u001b[0;34m\u001b[0m\u001b[0m\n\u001b[1;32m   1053\u001b[0m         \u001b[0mfull_backward_hooks\u001b[0m\u001b[0;34m,\u001b[0m \u001b[0mnon_full_backward_hooks\u001b[0m \u001b[0;34m=\u001b[0m \u001b[0;34m[\u001b[0m\u001b[0;34m]\u001b[0m\u001b[0;34m,\u001b[0m \u001b[0;34m[\u001b[0m\u001b[0;34m]\u001b[0m\u001b[0;34m\u001b[0m\u001b[0;34m\u001b[0m\u001b[0m\n",
      "\u001b[0;32m~/anaconda3/lib/python3.8/site-packages/transformers/models/bert/modeling_bert.py\u001b[0m in \u001b[0;36mforward\u001b[0;34m(self, input_ids, token_type_ids, position_ids, inputs_embeds, past_key_values_length)\u001b[0m\n\u001b[1;32m    219\u001b[0m         \u001b[0;32mif\u001b[0m \u001b[0mself\u001b[0m\u001b[0;34m.\u001b[0m\u001b[0mposition_embedding_type\u001b[0m \u001b[0;34m==\u001b[0m \u001b[0;34m\"absolute\"\u001b[0m\u001b[0;34m:\u001b[0m\u001b[0;34m\u001b[0m\u001b[0;34m\u001b[0m\u001b[0m\n\u001b[1;32m    220\u001b[0m             \u001b[0mposition_embeddings\u001b[0m \u001b[0;34m=\u001b[0m \u001b[0mself\u001b[0m\u001b[0;34m.\u001b[0m\u001b[0mposition_embeddings\u001b[0m\u001b[0;34m(\u001b[0m\u001b[0mposition_ids\u001b[0m\u001b[0;34m)\u001b[0m\u001b[0;34m\u001b[0m\u001b[0;34m\u001b[0m\u001b[0m\n\u001b[0;32m--> 221\u001b[0;31m             \u001b[0membeddings\u001b[0m \u001b[0;34m+=\u001b[0m \u001b[0mposition_embeddings\u001b[0m\u001b[0;34m\u001b[0m\u001b[0;34m\u001b[0m\u001b[0m\n\u001b[0m\u001b[1;32m    222\u001b[0m         \u001b[0membeddings\u001b[0m \u001b[0;34m=\u001b[0m \u001b[0mself\u001b[0m\u001b[0;34m.\u001b[0m\u001b[0mLayerNorm\u001b[0m\u001b[0;34m(\u001b[0m\u001b[0membeddings\u001b[0m\u001b[0;34m)\u001b[0m\u001b[0;34m\u001b[0m\u001b[0;34m\u001b[0m\u001b[0m\n\u001b[1;32m    223\u001b[0m         \u001b[0membeddings\u001b[0m \u001b[0;34m=\u001b[0m \u001b[0mself\u001b[0m\u001b[0;34m.\u001b[0m\u001b[0mdropout\u001b[0m\u001b[0;34m(\u001b[0m\u001b[0membeddings\u001b[0m\u001b[0;34m)\u001b[0m\u001b[0;34m\u001b[0m\u001b[0;34m\u001b[0m\u001b[0m\n",
      "\u001b[0;31mRuntimeError\u001b[0m: The size of tensor a (1910) must match the size of tensor b (512) at non-singleton dimension 1"
     ]
    }
   ],
   "source": [
    "from transformers import AutoTokenizer, AutoModelForSequenceClassification, AdamW\n",
    "  \n",
    "train_fname = \"../data/lgbt-sl.train.tsv\"\n",
    "test_fname = \"../data/lgbt-sl.test.tsv\"\n",
    "\n",
    "train = read_file(train_fname)\n",
    "test = read_file(test_fname)\n",
    "\n",
    "\n",
    "tokenizer = AutoTokenizer.from_pretrained(\"IMSyPP/hate_speech_slo\")\n",
    "\n",
    "model = AutoModelForSequenceClassification.from_pretrained(\"IMSyPP/hate_speech_slo\")\n",
    "\n",
    "sequences = list(train.text.values)\n",
    "batch = tokenizer(sequences, padding=True, truncation=True, return_tensors=\"pt\")\n",
    "\n",
    "# This is new\n",
    "batch[\"labels\"] = torch.tensor(list(train.labels.values))\n",
    "\n",
    "optimizer = AdamW(model.parameters())\n",
    "loss = model(**batch).loss\n",
    "loss.backward()\n",
    "optimizer.step()"
   ]
  },
  {
   "cell_type": "code",
   "execution_count": 20,
   "metadata": {},
   "outputs": [
    {
     "data": {
      "text/plain": [
       "(2844, 2)"
      ]
     },
     "execution_count": 20,
     "metadata": {},
     "output_type": "execute_result"
    }
   ],
   "source": [
    "train.shape"
   ]
  },
  {
   "cell_type": "code",
   "execution_count": 21,
   "metadata": {},
   "outputs": [
    {
     "data": {
      "text/plain": [
       "2844"
      ]
     },
     "execution_count": 21,
     "metadata": {},
     "output_type": "execute_result"
    }
   ],
   "source": [
    "len(sequences)"
   ]
  },
  {
   "cell_type": "code",
   "execution_count": null,
   "metadata": {},
   "outputs": [],
   "source": []
  }
 ],
 "metadata": {
  "kernelspec": {
   "display_name": "Python 3",
   "language": "python",
   "name": "python3"
  },
  "language_info": {
   "codemirror_mode": {
    "name": "ipython",
    "version": 3
   },
   "file_extension": ".py",
   "mimetype": "text/x-python",
   "name": "python",
   "nbconvert_exporter": "python",
   "pygments_lexer": "ipython3",
   "version": "3.8.3"
  }
 },
 "nbformat": 4,
 "nbformat_minor": 4
}
