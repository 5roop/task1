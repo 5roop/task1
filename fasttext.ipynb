{
 "cells": [
  {
   "cell_type": "code",
   "execution_count": 29,
   "metadata": {},
   "outputs": [],
   "source": [
    "import pandas as pd\n",
    "import numpy as np\n",
    "\n",
    "train_fname = \"../data/lgbt-en.train.tsv\"\n",
    "test_fname = \"../data/lgbt-en.test.tsv\"\n",
    "\n",
    "def read_file(fname: str) -> pd.DataFrame:\n",
    "    \"\"\"Reads a filename and formats it properly for simpletransformers\"\"\"\n",
    "    df = pd.read_table(fname, sep=\"\\t\", header=None, names=\"text,labels,role\".split(\",\"))\n",
    "    offensive_ids = df.labels != \"Acceptable speech\"\n",
    "\n",
    "    #df.labels[offensive_ids] = 1\n",
    "    #df.labels[~offensive_ids] = 0\n",
    "    #df[\"labels\"] = df.labels.astype(np.int8)\n",
    "    df = df.drop(columns=[\"role\"])\n",
    "    return df\n",
    "\n",
    "\n",
    "train = read_file(train_fname)\n",
    "test = read_file(test_fname)"
   ]
  },
  {
   "cell_type": "markdown",
   "metadata": {},
   "source": [
    "# Fasttext"
   ]
  },
  {
   "cell_type": "code",
   "execution_count": 37,
   "metadata": {},
   "outputs": [],
   "source": [
    "def prepare_for_fasttext(fname):\n",
    "    df = pd.read_table(fname, sep=\"\\t\", header=None, names=\"text,labels,role\".split(\",\"))\n",
    "    offensive_ids = df.labels != \"Acceptable speech\"\n",
    "\n",
    "    df.labels[offensive_ids] = \"Offensive\"\n",
    "    df.labels[~offensive_ids] = \"Acceptable\"\n",
    "\n",
    "\n",
    "    df[\"fasttextlabel\"] = df.labels.apply(lambda s: \"__label__\"+s+\" \")\n",
    "    df[\"fasttext_all\"] = df.fasttextlabel + df.text\n",
    "    with open(fname+\"fasttext\", \"w\") as f:\n",
    "        for line in list(df.fasttext_all.values):\n",
    "            f.write(line+\"\\n\")\n",
    "    print(f\"Wrote data from {fname} to {fname+'fasttext'}\")\n",
    "    \n",
    "    return df\n",
    "    "
   ]
  },
  {
   "cell_type": "markdown",
   "metadata": {},
   "source": [
    "## English"
   ]
  },
  {
   "cell_type": "code",
   "execution_count": 66,
   "metadata": {},
   "outputs": [
    {
     "name": "stdout",
     "output_type": "stream",
     "text": [
      "Wrote data from ../data/lgbt-en.train.tsv to ../data/lgbt-en.train.tsvfasttext\n",
      "Wrote data from ../data/lgbt-en.test.tsv to ../data/lgbt-en.test.tsvfasttext\n"
     ]
    }
   ],
   "source": [
    "train_fname = \"../data/lgbt-en.train.tsv\"\n",
    "test_fname = \"../data/lgbt-en.test.tsv\"\n",
    "prepare_for_fasttext(train_fname)\n",
    "_ = prepare_for_fasttext(test_fname)"
   ]
  },
  {
   "cell_type": "code",
   "execution_count": 67,
   "metadata": {},
   "outputs": [
    {
     "name": "stdout",
     "output_type": "stream",
     "text": [
      "CPU times: user 29.8 s, sys: 252 ms, total: 30 s\n",
      "Wall time: 4.43 s\n"
     ]
    },
    {
     "data": {
      "text/plain": [
       "(1017, 0.7404129793510325, 0.7404129793510325)"
      ]
     },
     "execution_count": 67,
     "metadata": {},
     "output_type": "execute_result"
    }
   ],
   "source": [
    "%%time\n",
    "import fasttext\n",
    "model = fasttext.train_supervised(input=train_fname+\"fasttext\", epoch=1000, lr=0.05)\n",
    "model.test(test_fname+\"fasttext\")"
   ]
  },
  {
   "cell_type": "code",
   "execution_count": 68,
   "metadata": {},
   "outputs": [
    {
     "name": "stdout",
     "output_type": "stream",
     "text": [
      "Wrote data from ../data/lgbt-en.test.tsv to ../data/lgbt-en.test.tsvfasttext\n",
      "Accuracy:  0.7404129793510325\n",
      "F1 score:  0.6303162486368593\n"
     ]
    }
   ],
   "source": [
    "test = prepare_for_fasttext(test_fname)\n",
    "y_pred = np.array(model.predict(list(test.text.values))[0]).reshape(-1).tolist()\n",
    "\n",
    "from sklearn.metrics import accuracy_score, f1_score\n",
    "y_true = test[\"fasttextlabel\"].apply(lambda s: s.split(\" \")[0]).values.tolist()\n",
    "\n",
    "accuracy = accuracy_score(y_true, y_pred)\n",
    "print(\"Accuracy: \", accuracy)\n",
    "f1 = f1_score(y_true, y_pred, labels=list(set(y_true)), average=\"macro\")\n",
    "print(\"F1 score: \", f1)"
   ]
  },
  {
   "cell_type": "markdown",
   "metadata": {},
   "source": [
    "## Slovenian"
   ]
  },
  {
   "cell_type": "code",
   "execution_count": 70,
   "metadata": {},
   "outputs": [
    {
     "name": "stdout",
     "output_type": "stream",
     "text": [
      "Wrote data from ../data/lgbt-sl.train.tsv to ../data/lgbt-sl.train.tsvfasttext\n",
      "Wrote data from ../data/lgbt-sl.test.tsv to ../data/lgbt-sl.test.tsvfasttext\n"
     ]
    }
   ],
   "source": [
    "train_fname = \"../data/lgbt-sl.train.tsv\"\n",
    "test_fname = \"../data/lgbt-sl.test.tsv\"\n",
    "prepare_for_fasttext(train_fname)\n",
    "_ = prepare_for_fasttext(test_fname)"
   ]
  },
  {
   "cell_type": "code",
   "execution_count": 71,
   "metadata": {},
   "outputs": [
    {
     "name": "stdout",
     "output_type": "stream",
     "text": [
      "CPU times: user 19.8 s, sys: 212 ms, total: 20 s\n",
      "Wall time: 3.02 s\n"
     ]
    },
    {
     "data": {
      "text/plain": [
       "(900, 0.62, 0.62)"
      ]
     },
     "execution_count": 71,
     "metadata": {},
     "output_type": "execute_result"
    }
   ],
   "source": [
    "%%time\n",
    "import fasttext\n",
    "model = fasttext.train_supervised(input=train_fname+\"fasttext\", epoch=1000, lr=0.05)\n",
    "model.test(test_fname+\"fasttext\")"
   ]
  },
  {
   "cell_type": "code",
   "execution_count": 72,
   "metadata": {},
   "outputs": [
    {
     "name": "stdout",
     "output_type": "stream",
     "text": [
      "Wrote data from ../data/lgbt-sl.test.tsv to ../data/lgbt-sl.test.tsvfasttext\n",
      "Accuracy:  0.62\n",
      "F1 score:  0.6199080271275519\n"
     ]
    }
   ],
   "source": [
    "test = prepare_for_fasttext(test_fname)\n",
    "y_pred = np.array(model.predict(list(test.text.values))[0]).reshape(-1).tolist()\n",
    "\n",
    "from sklearn.metrics import accuracy_score, f1_score\n",
    "y_true = test[\"fasttextlabel\"].apply(lambda s: s.split(\" \")[0]).values.tolist()\n",
    "\n",
    "accuracy = accuracy_score(y_true, y_pred)\n",
    "print(\"Accuracy: \", accuracy)\n",
    "f1 = f1_score(y_true, y_pred, labels=list(set(y_true)), average=\"macro\")\n",
    "print(\"F1 score: \", f1)"
   ]
  },
  {
   "cell_type": "code",
   "execution_count": null,
   "metadata": {},
   "outputs": [],
   "source": []
  },
  {
   "cell_type": "markdown",
   "metadata": {},
   "source": [
    "## Croatian"
   ]
  },
  {
   "cell_type": "code",
   "execution_count": 73,
   "metadata": {},
   "outputs": [
    {
     "name": "stdout",
     "output_type": "stream",
     "text": [
      "Wrote data from ../data/lgbt-hr.train.tsv to ../data/lgbt-hr.train.tsvfasttext\n",
      "Wrote data from ../data/lgbt-hr.test.tsv to ../data/lgbt-hr.test.tsvfasttext\n"
     ]
    }
   ],
   "source": [
    "train_fname = \"../data/lgbt-hr.train.tsv\"\n",
    "test_fname = \"../data/lgbt-hr.test.tsv\"\n",
    "prepare_for_fasttext(train_fname)\n",
    "_ = prepare_for_fasttext(test_fname)"
   ]
  },
  {
   "cell_type": "code",
   "execution_count": 74,
   "metadata": {},
   "outputs": [
    {
     "name": "stdout",
     "output_type": "stream",
     "text": [
      "CPU times: user 25.2 s, sys: 232 ms, total: 25.4 s\n",
      "Wall time: 3.83 s\n"
     ]
    },
    {
     "data": {
      "text/plain": [
       "(1142, 0.7224168126094571, 0.7224168126094571)"
      ]
     },
     "execution_count": 74,
     "metadata": {},
     "output_type": "execute_result"
    }
   ],
   "source": [
    "%%time\n",
    "import fasttext\n",
    "model = fasttext.train_supervised(input=train_fname+\"fasttext\", epoch=1000, lr=0.05)\n",
    "model.test(test_fname+\"fasttext\")"
   ]
  },
  {
   "cell_type": "code",
   "execution_count": 75,
   "metadata": {},
   "outputs": [
    {
     "name": "stdout",
     "output_type": "stream",
     "text": [
      "Wrote data from ../data/lgbt-hr.test.tsv to ../data/lgbt-hr.test.tsvfasttext\n",
      "Accuracy:  0.7224168126094571\n",
      "F1 score:  0.6945387840582412\n"
     ]
    }
   ],
   "source": [
    "test = prepare_for_fasttext(test_fname)\n",
    "y_pred = np.array(model.predict(list(test.text.values))[0]).reshape(-1).tolist()\n",
    "\n",
    "from sklearn.metrics import accuracy_score, f1_score\n",
    "y_true = test[\"fasttextlabel\"].apply(lambda s: s.split(\" \")[0]).values.tolist()\n",
    "\n",
    "accuracy = accuracy_score(y_true, y_pred)\n",
    "print(\"Accuracy: \", accuracy)\n",
    "f1 = f1_score(y_true, y_pred, labels=list(set(y_true)), average=\"macro\")\n",
    "print(\"F1 score: \", f1)"
   ]
  },
  {
   "cell_type": "code",
   "execution_count": null,
   "metadata": {},
   "outputs": [],
   "source": []
  }
 ],
 "metadata": {
  "kernelspec": {
   "display_name": "Python 3",
   "language": "python",
   "name": "python3"
  },
  "language_info": {
   "codemirror_mode": {
    "name": "ipython",
    "version": 3
   },
   "file_extension": ".py",
   "mimetype": "text/x-python",
   "name": "python",
   "nbconvert_exporter": "python",
   "pygments_lexer": "ipython3",
   "version": "3.8.3"
  }
 },
 "nbformat": 4,
 "nbformat_minor": 4
}
